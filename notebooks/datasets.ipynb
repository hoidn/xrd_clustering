{
 "cells": [
  {
   "cell_type": "markdown",
   "metadata": {
    "id": "ELAnQ-riToxZ"
   },
   "source": [
    "Notebook to load synthetic reference datasets for the phase-mapping problem"
   ]
  },
  {
   "cell_type": "code",
   "execution_count": 1,
   "metadata": {
    "colab": {
     "base_uri": "https://localhost:8080/"
    },
    "executionInfo": {
     "elapsed": 8132,
     "status": "ok",
     "timestamp": 1626740177506,
     "user": {
      "displayName": "Sergei V. Kalinin",
      "photoUrl": "",
      "userId": "05376171875078605711"
     },
     "user_tz": 240
    },
    "id": "2eSffvtPToxa",
    "outputId": "059ed184-e4e0-4c2f-929f-205bdd6db94f"
   },
   "outputs": [
    {
     "name": "stdout",
     "output_type": "stream",
     "text": [
      "--2021-07-20 00:16:09--  http://www.udiscover.it/downloads/materials/synthetic_instance_data.zip\n",
      "Resolving www.udiscover.it (www.udiscover.it)... 208.118.251.110\n",
      "Connecting to www.udiscover.it (www.udiscover.it)|208.118.251.110|:80... connected.\n",
      "HTTP request sent, awaiting response... 200 OK\n",
      "Length: 60184483 (57M) [application/zip]\n",
      "Saving to: ‘synthetic_instance_data.zip’\n",
      "\n",
      "synthetic_instance_ 100%[===================>]  57.40M  10.2MB/s    in 7.7s    \n",
      "\n",
      "2021-07-20 00:16:17 (7.49 MB/s) - ‘synthetic_instance_data.zip’ saved [60184483/60184483]\n",
      "\n"
     ]
    }
   ],
   "source": [
    "!wget http://www.udiscover.it/downloads/materials/synthetic_instance_data.zip"
   ]
  },
  {
   "cell_type": "code",
   "execution_count": 2,
   "metadata": {
    "colab": {
     "base_uri": "https://localhost:8080/"
    },
    "collapsed": true,
    "executionInfo": {
     "elapsed": 3956,
     "status": "ok",
     "timestamp": 1626740181456,
     "user": {
      "displayName": "Sergei V. Kalinin",
      "photoUrl": "",
      "userId": "05376171875078605711"
     },
     "user_tz": 240
    },
    "id": "lYRfYE7bToxb",
    "outputId": "a61be752-f931-4c5f-d3e3-154ebbfda3b1"
   },
   "outputs": [
    {
     "name": "stdout",
     "output_type": "stream",
     "text": [
      "Archive:  synthetic_instance_data.zip\n",
      "  inflating: synth_data/README       \n",
      "  inflating: synth_data/synthinst100_t1_n9_p20_s1_inst.txt  \n",
      "  inflating: synth_data/synthinst100_t1_n9_p20_s1_sol.txt  \n",
      "  inflating: synth_data/synthinst101_t1_n9_p100_r20_s1_inst.txt  \n",
      "  inflating: synth_data/synthinst101_t1_n9_p100_r20_s1_sol.txt  \n",
      "  inflating: synth_data/synthinst102_t1_n9_p80_r20_s1_inst.txt  \n",
      "  inflating: synth_data/synthinst102_t1_n9_p80_r20_s1_sol.txt  \n",
      "  inflating: synth_data/synthinst103_t1_n9_p50_r20_s1_inst.txt  \n",
      "  inflating: synth_data/synthinst103_t1_n9_p50_r20_s1_sol.txt  \n",
      "  inflating: synth_data/synthinst104_t1_n9_p20_r20_s1_inst.txt  \n",
      "  inflating: synth_data/synthinst104_t1_n9_p20_r20_s1_sol.txt  \n",
      "  inflating: synth_data/synthinst105_t1_n9_p100_r50_s1_inst.txt  \n",
      "  inflating: synth_data/synthinst105_t1_n9_p100_r50_s1_sol.txt  \n",
      "  inflating: synth_data/synthinst106_t1_n9_p80_r50_s1_inst.txt  \n",
      "  inflating: synth_data/synthinst106_t1_n9_p80_r50_s1_sol.txt  \n",
      "  inflating: synth_data/synthinst107_t1_n9_p50_r50_s1_inst.txt  \n",
      "  inflating: synth_data/synthinst107_t1_n9_p50_r50_s1_sol.txt  \n",
      "  inflating: synth_data/synthinst108_t1_n9_p20_r50_s1_inst.txt  \n",
      "  inflating: synth_data/synthinst108_t1_n9_p20_r50_s1_sol.txt  \n",
      "  inflating: synth_data/synthinst109_t1_n11_p100_s1_inst.txt  \n",
      "  inflating: synth_data/synthinst109_t1_n11_p100_s1_sol.txt  \n",
      "  inflating: synth_data/synthinst10_t0_n5_p80_r50_s1_inst.txt  \n",
      "  inflating: synth_data/synthinst10_t0_n5_p80_r50_s1_sol.txt  \n",
      "  inflating: synth_data/synthinst110_t1_n11_p80_s1_inst.txt  \n",
      "  inflating: synth_data/synthinst110_t1_n11_p80_s1_sol.txt  \n",
      "  inflating: synth_data/synthinst111_t1_n11_p50_s1_inst.txt  \n",
      "  inflating: synth_data/synthinst111_t1_n11_p50_s1_sol.txt  \n",
      "  inflating: synth_data/synthinst112_t1_n11_p20_s1_inst.txt  \n",
      "  inflating: synth_data/synthinst112_t1_n11_p20_s1_sol.txt  \n",
      "  inflating: synth_data/synthinst113_t1_n11_p100_r20_s1_inst.txt  \n",
      "  inflating: synth_data/synthinst113_t1_n11_p100_r20_s1_sol.txt  \n",
      "  inflating: synth_data/synthinst114_t1_n11_p80_r20_s1_inst.txt  \n",
      "  inflating: synth_data/synthinst114_t1_n11_p80_r20_s1_sol.txt  \n",
      "  inflating: synth_data/synthinst115_t1_n11_p50_r20_s1_inst.txt  \n",
      "  inflating: synth_data/synthinst115_t1_n11_p50_r20_s1_sol.txt  \n",
      "  inflating: synth_data/synthinst116_t1_n11_p20_r20_s1_inst.txt  \n",
      "  inflating: synth_data/synthinst116_t1_n11_p20_r20_s1_sol.txt  \n",
      "  inflating: synth_data/synthinst117_t1_n11_p100_r50_s1_inst.txt  \n",
      "  inflating: synth_data/synthinst117_t1_n11_p100_r50_s1_sol.txt  \n",
      "  inflating: synth_data/synthinst118_t1_n11_p80_r50_s1_inst.txt  \n",
      "  inflating: synth_data/synthinst118_t1_n11_p80_r50_s1_sol.txt  \n",
      "  inflating: synth_data/synthinst119_t1_n11_p50_r50_s1_inst.txt  \n",
      "  inflating: synth_data/synthinst119_t1_n11_p50_r50_s1_sol.txt  \n",
      "  inflating: synth_data/synthinst11_t0_n5_p50_r50_s1_inst.txt  \n",
      "  inflating: synth_data/synthinst11_t0_n5_p50_r50_s1_sol.txt  \n",
      "  inflating: synth_data/synthinst120_t1_n11_p20_r50_s1_inst.txt  \n",
      "  inflating: synth_data/synthinst120_t1_n11_p20_r50_s1_sol.txt  \n",
      "  inflating: synth_data/synthinst121_t1_n16_p100_s1_inst.txt  \n",
      "  inflating: synth_data/synthinst121_t1_n16_p100_s1_sol.txt  \n",
      "  inflating: synth_data/synthinst122_t1_n16_p80_s1_inst.txt  \n",
      "  inflating: synth_data/synthinst122_t1_n16_p80_s1_sol.txt  \n",
      "  inflating: synth_data/synthinst123_t1_n16_p50_s1_inst.txt  \n",
      "  inflating: synth_data/synthinst123_t1_n16_p50_s1_sol.txt  \n",
      "  inflating: synth_data/synthinst124_t1_n16_p20_s1_inst.txt  \n",
      "  inflating: synth_data/synthinst124_t1_n16_p20_s1_sol.txt  \n",
      "  inflating: synth_data/synthinst125_t1_n16_p100_r20_s1_inst.txt  \n",
      "  inflating: synth_data/synthinst125_t1_n16_p100_r20_s1_sol.txt  \n",
      "  inflating: synth_data/synthinst126_t1_n16_p80_r20_s1_inst.txt  \n",
      "  inflating: synth_data/synthinst126_t1_n16_p80_r20_s1_sol.txt  \n",
      "  inflating: synth_data/synthinst127_t1_n16_p50_r20_s1_inst.txt  \n",
      "  inflating: synth_data/synthinst127_t1_n16_p50_r20_s1_sol.txt  \n",
      "  inflating: synth_data/synthinst128_t1_n16_p20_r20_s1_inst.txt  \n",
      "  inflating: synth_data/synthinst128_t1_n16_p20_r20_s1_sol.txt  \n",
      "  inflating: synth_data/synthinst129_t1_n16_p100_r50_s1_inst.txt  \n",
      "  inflating: synth_data/synthinst129_t1_n16_p100_r50_s1_sol.txt  \n",
      "  inflating: synth_data/synthinst12_t0_n5_p20_r50_s1_inst.txt  \n",
      "  inflating: synth_data/synthinst12_t0_n5_p20_r50_s1_sol.txt  \n",
      "  inflating: synth_data/synthinst130_t1_n16_p80_r50_s1_inst.txt  \n",
      "  inflating: synth_data/synthinst130_t1_n16_p80_r50_s1_sol.txt  \n",
      "  inflating: synth_data/synthinst131_t1_n16_p50_r50_s1_inst.txt  \n",
      "  inflating: synth_data/synthinst131_t1_n16_p50_r50_s1_sol.txt  \n",
      "  inflating: synth_data/synthinst132_t1_n16_p20_r50_s1_inst.txt  \n",
      "  inflating: synth_data/synthinst132_t1_n16_p20_r50_s1_sol.txt  \n",
      "  inflating: synth_data/synthinst133_t1_n21_p100_s1_inst.txt  \n",
      "  inflating: synth_data/synthinst133_t1_n21_p100_s1_sol.txt  \n",
      "  inflating: synth_data/synthinst134_t1_n21_p80_s1_inst.txt  \n",
      "  inflating: synth_data/synthinst134_t1_n21_p80_s1_sol.txt  \n",
      "  inflating: synth_data/synthinst135_t1_n21_p50_s1_inst.txt  \n",
      "  inflating: synth_data/synthinst135_t1_n21_p50_s1_sol.txt  \n",
      "  inflating: synth_data/synthinst136_t1_n21_p20_s1_inst.txt  \n",
      "  inflating: synth_data/synthinst136_t1_n21_p20_s1_sol.txt  \n",
      "  inflating: synth_data/synthinst137_t1_n21_p100_r20_s1_inst.txt  \n",
      "  inflating: synth_data/synthinst137_t1_n21_p100_r20_s1_sol.txt  \n",
      "  inflating: synth_data/synthinst138_t1_n21_p80_r20_s1_inst.txt  \n",
      "  inflating: synth_data/synthinst138_t1_n21_p80_r20_s1_sol.txt  \n",
      "  inflating: synth_data/synthinst139_t1_n21_p50_r20_s1_inst.txt  \n",
      "  inflating: synth_data/synthinst139_t1_n21_p50_r20_s1_sol.txt  \n",
      "  inflating: synth_data/synthinst13_t0_n6_p100_s1_inst.txt  \n",
      "  inflating: synth_data/synthinst13_t0_n6_p100_s1_sol.txt  \n",
      "  inflating: synth_data/synthinst140_t1_n21_p20_r20_s1_inst.txt  \n",
      "  inflating: synth_data/synthinst140_t1_n21_p20_r20_s1_sol.txt  \n",
      "  inflating: synth_data/synthinst141_t1_n21_p100_r50_s1_inst.txt  \n",
      "  inflating: synth_data/synthinst141_t1_n21_p100_r50_s1_sol.txt  \n",
      "  inflating: synth_data/synthinst142_t1_n21_p80_r50_s1_inst.txt  \n",
      "  inflating: synth_data/synthinst142_t1_n21_p80_r50_s1_sol.txt  \n",
      "  inflating: synth_data/synthinst143_t1_n21_p50_r50_s1_inst.txt  \n",
      "  inflating: synth_data/synthinst143_t1_n21_p50_r50_s1_sol.txt  \n",
      "  inflating: synth_data/synthinst144_t1_n21_p20_r50_s1_inst.txt  \n",
      "  inflating: synth_data/synthinst144_t1_n21_p20_r50_s1_sol.txt  \n",
      "  inflating: synth_data/synthinst14_t0_n6_p80_s1_inst.txt  \n",
      "  inflating: synth_data/synthinst14_t0_n6_p80_s1_sol.txt  \n",
      "  inflating: synth_data/synthinst15_t0_n6_p50_s1_inst.txt  \n",
      "  inflating: synth_data/synthinst15_t0_n6_p50_s1_sol.txt  \n",
      "  inflating: synth_data/synthinst16_t0_n6_p20_s1_inst.txt  \n",
      "  inflating: synth_data/synthinst16_t0_n6_p20_s1_sol.txt  \n",
      "  inflating: synth_data/synthinst17_t0_n6_p100_r20_s1_inst.txt  \n",
      "  inflating: synth_data/synthinst17_t0_n6_p100_r20_s1_sol.txt  \n",
      "  inflating: synth_data/synthinst18_t0_n6_p80_r20_s1_inst.txt  \n",
      "  inflating: synth_data/synthinst18_t0_n6_p80_r20_s1_sol.txt  \n",
      "  inflating: synth_data/synthinst19_t0_n6_p50_r20_s1_inst.txt  \n",
      "  inflating: synth_data/synthinst19_t0_n6_p50_r20_s1_sol.txt  \n",
      "  inflating: synth_data/synthinst1_t0_n5_p100_s1_inst.txt  \n",
      "  inflating: synth_data/synthinst1_t0_n5_p100_s1_sol.txt  \n",
      "  inflating: synth_data/synthinst20_t0_n6_p20_r20_s1_inst.txt  \n",
      "  inflating: synth_data/synthinst20_t0_n6_p20_r20_s1_sol.txt  \n",
      "  inflating: synth_data/synthinst21_t0_n6_p100_r50_s1_inst.txt  \n",
      "  inflating: synth_data/synthinst21_t0_n6_p100_r50_s1_sol.txt  \n",
      "  inflating: synth_data/synthinst22_t0_n6_p80_r50_s1_inst.txt  \n",
      "  inflating: synth_data/synthinst22_t0_n6_p80_r50_s1_sol.txt  \n",
      "  inflating: synth_data/synthinst23_t0_n6_p50_r50_s1_inst.txt  \n",
      "  inflating: synth_data/synthinst23_t0_n6_p50_r50_s1_sol.txt  \n",
      "  inflating: synth_data/synthinst24_t0_n6_p20_r50_s1_inst.txt  \n",
      "  inflating: synth_data/synthinst24_t0_n6_p20_r50_s1_sol.txt  \n",
      "  inflating: synth_data/synthinst25_t0_n9_p100_s1_inst.txt  \n",
      "  inflating: synth_data/synthinst25_t0_n9_p100_s1_sol.txt  \n",
      "  inflating: synth_data/synthinst26_t0_n9_p80_s1_inst.txt  \n",
      "  inflating: synth_data/synthinst26_t0_n9_p80_s1_sol.txt  \n",
      "  inflating: synth_data/synthinst27_t0_n9_p50_s1_inst.txt  \n",
      "  inflating: synth_data/synthinst27_t0_n9_p50_s1_sol.txt  \n",
      "  inflating: synth_data/synthinst28_t0_n9_p20_s1_inst.txt  \n",
      "  inflating: synth_data/synthinst28_t0_n9_p20_s1_sol.txt  \n",
      "  inflating: synth_data/synthinst29_t0_n9_p100_r20_s1_inst.txt  \n",
      "  inflating: synth_data/synthinst29_t0_n9_p100_r20_s1_sol.txt  \n",
      "  inflating: synth_data/synthinst2_t0_n5_p80_s1_inst.txt  \n",
      "  inflating: synth_data/synthinst2_t0_n5_p80_s1_sol.txt  \n",
      "  inflating: synth_data/synthinst30_t0_n9_p80_r20_s1_inst.txt  \n",
      "  inflating: synth_data/synthinst30_t0_n9_p80_r20_s1_sol.txt  \n",
      "  inflating: synth_data/synthinst31_t0_n9_p50_r20_s1_inst.txt  \n",
      "  inflating: synth_data/synthinst31_t0_n9_p50_r20_s1_sol.txt  \n",
      "  inflating: synth_data/synthinst32_t0_n9_p20_r20_s1_inst.txt  \n",
      "  inflating: synth_data/synthinst32_t0_n9_p20_r20_s1_sol.txt  \n",
      "  inflating: synth_data/synthinst33_t0_n9_p100_r50_s1_inst.txt  \n",
      "  inflating: synth_data/synthinst33_t0_n9_p100_r50_s1_sol.txt  \n",
      "  inflating: synth_data/synthinst34_t0_n9_p80_r50_s1_inst.txt  \n",
      "  inflating: synth_data/synthinst34_t0_n9_p80_r50_s1_sol.txt  \n",
      "  inflating: synth_data/synthinst35_t0_n9_p50_r50_s1_inst.txt  \n",
      "  inflating: synth_data/synthinst35_t0_n9_p50_r50_s1_sol.txt  \n",
      "  inflating: synth_data/synthinst36_t0_n9_p20_r50_s1_inst.txt  \n",
      "  inflating: synth_data/synthinst36_t0_n9_p20_r50_s1_sol.txt  \n",
      "  inflating: synth_data/synthinst37_t0_n11_p100_s1_inst.txt  \n",
      "  inflating: synth_data/synthinst37_t0_n11_p100_s1_sol.txt  \n",
      "  inflating: synth_data/synthinst38_t0_n11_p80_s1_inst.txt  \n",
      "  inflating: synth_data/synthinst38_t0_n11_p80_s1_sol.txt  \n",
      "  inflating: synth_data/synthinst39_t0_n11_p50_s1_inst.txt  \n",
      "  inflating: synth_data/synthinst39_t0_n11_p50_s1_sol.txt  \n",
      "  inflating: synth_data/synthinst3_t0_n5_p50_s1_inst.txt  \n",
      "  inflating: synth_data/synthinst3_t0_n5_p50_s1_sol.txt  \n",
      "  inflating: synth_data/synthinst40_t0_n11_p20_s1_inst.txt  \n",
      "  inflating: synth_data/synthinst40_t0_n11_p20_s1_sol.txt  \n",
      "  inflating: synth_data/synthinst41_t0_n11_p100_r20_s1_inst.txt  \n",
      "  inflating: synth_data/synthinst41_t0_n11_p100_r20_s1_sol.txt  \n",
      "  inflating: synth_data/synthinst42_t0_n11_p80_r20_s1_inst.txt  \n",
      "  inflating: synth_data/synthinst42_t0_n11_p80_r20_s1_sol.txt  \n",
      "  inflating: synth_data/synthinst43_t0_n11_p50_r20_s1_inst.txt  \n",
      "  inflating: synth_data/synthinst43_t0_n11_p50_r20_s1_sol.txt  \n",
      "  inflating: synth_data/synthinst44_t0_n11_p20_r20_s1_inst.txt  \n",
      "  inflating: synth_data/synthinst44_t0_n11_p20_r20_s1_sol.txt  \n",
      "  inflating: synth_data/synthinst45_t0_n11_p100_r50_s1_inst.txt  \n",
      "  inflating: synth_data/synthinst45_t0_n11_p100_r50_s1_sol.txt  \n",
      "  inflating: synth_data/synthinst46_t0_n11_p80_r50_s1_inst.txt  \n",
      "  inflating: synth_data/synthinst46_t0_n11_p80_r50_s1_sol.txt  \n",
      "  inflating: synth_data/synthinst47_t0_n11_p50_r50_s1_inst.txt  \n",
      "  inflating: synth_data/synthinst47_t0_n11_p50_r50_s1_sol.txt  \n",
      "  inflating: synth_data/synthinst48_t0_n11_p20_r50_s1_inst.txt  \n",
      "  inflating: synth_data/synthinst48_t0_n11_p20_r50_s1_sol.txt  \n",
      "  inflating: synth_data/synthinst49_t0_n16_p100_s1_inst.txt  \n",
      "  inflating: synth_data/synthinst49_t0_n16_p100_s1_sol.txt  \n",
      "  inflating: synth_data/synthinst4_t0_n5_p20_s1_inst.txt  \n",
      "  inflating: synth_data/synthinst4_t0_n5_p20_s1_sol.txt  \n",
      "  inflating: synth_data/synthinst50_t0_n16_p80_s1_inst.txt  \n",
      "  inflating: synth_data/synthinst50_t0_n16_p80_s1_sol.txt  \n",
      "  inflating: synth_data/synthinst51_t0_n16_p50_s1_inst.txt  \n",
      "  inflating: synth_data/synthinst51_t0_n16_p50_s1_sol.txt  \n",
      "  inflating: synth_data/synthinst52_t0_n16_p20_s1_inst.txt  \n",
      "  inflating: synth_data/synthinst52_t0_n16_p20_s1_sol.txt  \n",
      "  inflating: synth_data/synthinst53_t0_n16_p100_r20_s1_inst.txt  \n",
      "  inflating: synth_data/synthinst53_t0_n16_p100_r20_s1_sol.txt  \n",
      "  inflating: synth_data/synthinst54_t0_n16_p80_r20_s1_inst.txt  \n",
      "  inflating: synth_data/synthinst54_t0_n16_p80_r20_s1_sol.txt  \n",
      "  inflating: synth_data/synthinst55_t0_n16_p50_r20_s1_inst.txt  \n",
      "  inflating: synth_data/synthinst55_t0_n16_p50_r20_s1_sol.txt  \n",
      "  inflating: synth_data/synthinst56_t0_n16_p20_r20_s1_inst.txt  \n",
      "  inflating: synth_data/synthinst56_t0_n16_p20_r20_s1_sol.txt  \n",
      "  inflating: synth_data/synthinst57_t0_n16_p100_r50_s1_inst.txt  \n",
      "  inflating: synth_data/synthinst57_t0_n16_p100_r50_s1_sol.txt  \n",
      "  inflating: synth_data/synthinst58_t0_n16_p80_r50_s1_inst.txt  \n",
      "  inflating: synth_data/synthinst58_t0_n16_p80_r50_s1_sol.txt  \n",
      "  inflating: synth_data/synthinst59_t0_n16_p50_r50_s1_inst.txt  \n",
      "  inflating: synth_data/synthinst59_t0_n16_p50_r50_s1_sol.txt  \n",
      "  inflating: synth_data/synthinst5_t0_n5_p100_r20_s1_inst.txt  \n",
      "  inflating: synth_data/synthinst5_t0_n5_p100_r20_s1_sol.txt  \n",
      "  inflating: synth_data/synthinst60_t0_n16_p20_r50_s1_inst.txt  \n",
      "  inflating: synth_data/synthinst60_t0_n16_p20_r50_s1_sol.txt  \n",
      "  inflating: synth_data/synthinst61_t0_n21_p100_s1_inst.txt  \n",
      "  inflating: synth_data/synthinst61_t0_n21_p100_s1_sol.txt  \n",
      "  inflating: synth_data/synthinst62_t0_n21_p80_s1_inst.txt  \n",
      "  inflating: synth_data/synthinst62_t0_n21_p80_s1_sol.txt  \n",
      "  inflating: synth_data/synthinst63_t0_n21_p50_s1_inst.txt  \n",
      "  inflating: synth_data/synthinst63_t0_n21_p50_s1_sol.txt  \n",
      "  inflating: synth_data/synthinst64_t0_n21_p20_s1_inst.txt  \n",
      "  inflating: synth_data/synthinst64_t0_n21_p20_s1_sol.txt  \n",
      "  inflating: synth_data/synthinst65_t0_n21_p100_r20_s1_inst.txt  \n",
      "  inflating: synth_data/synthinst65_t0_n21_p100_r20_s1_sol.txt  \n",
      "  inflating: synth_data/synthinst66_t0_n21_p80_r20_s1_inst.txt  \n",
      "  inflating: synth_data/synthinst66_t0_n21_p80_r20_s1_sol.txt  \n",
      "  inflating: synth_data/synthinst67_t0_n21_p50_r20_s1_inst.txt  \n",
      "  inflating: synth_data/synthinst67_t0_n21_p50_r20_s1_sol.txt  \n",
      "  inflating: synth_data/synthinst68_t0_n21_p20_r20_s1_inst.txt  \n",
      "  inflating: synth_data/synthinst68_t0_n21_p20_r20_s1_sol.txt  \n",
      "  inflating: synth_data/synthinst69_t0_n21_p100_r50_s1_inst.txt  \n",
      "  inflating: synth_data/synthinst69_t0_n21_p100_r50_s1_sol.txt  \n",
      "  inflating: synth_data/synthinst6_t0_n5_p80_r20_s1_inst.txt  \n",
      "  inflating: synth_data/synthinst6_t0_n5_p80_r20_s1_sol.txt  \n",
      "  inflating: synth_data/synthinst70_t0_n21_p80_r50_s1_inst.txt  \n",
      "  inflating: synth_data/synthinst70_t0_n21_p80_r50_s1_sol.txt  \n",
      "  inflating: synth_data/synthinst71_t0_n21_p50_r50_s1_inst.txt  \n",
      "  inflating: synth_data/synthinst71_t0_n21_p50_r50_s1_sol.txt  \n",
      "  inflating: synth_data/synthinst72_t0_n21_p20_r50_s1_inst.txt  \n",
      "  inflating: synth_data/synthinst72_t0_n21_p20_r50_s1_sol.txt  \n",
      "  inflating: synth_data/synthinst73_t1_n5_p100_s1_inst.txt  \n",
      "  inflating: synth_data/synthinst73_t1_n5_p100_s1_sol.txt  \n",
      "  inflating: synth_data/synthinst74_t1_n5_p80_s1_inst.txt  \n",
      "  inflating: synth_data/synthinst74_t1_n5_p80_s1_sol.txt  \n",
      "  inflating: synth_data/synthinst75_t1_n5_p50_s1_inst.txt  \n",
      "  inflating: synth_data/synthinst75_t1_n5_p50_s1_sol.txt  \n",
      "  inflating: synth_data/synthinst76_t1_n5_p20_s1_inst.txt  \n",
      "  inflating: synth_data/synthinst76_t1_n5_p20_s1_sol.txt  \n",
      "  inflating: synth_data/synthinst77_t1_n5_p100_r20_s1_inst.txt  \n",
      "  inflating: synth_data/synthinst77_t1_n5_p100_r20_s1_sol.txt  \n",
      "  inflating: synth_data/synthinst78_t1_n5_p80_r20_s1_inst.txt  \n",
      "  inflating: synth_data/synthinst78_t1_n5_p80_r20_s1_sol.txt  \n",
      "  inflating: synth_data/synthinst79_t1_n5_p50_r20_s1_inst.txt  \n",
      "  inflating: synth_data/synthinst79_t1_n5_p50_r20_s1_sol.txt  \n",
      "  inflating: synth_data/synthinst7_t0_n5_p50_r20_s1_inst.txt  \n",
      "  inflating: synth_data/synthinst7_t0_n5_p50_r20_s1_sol.txt  \n",
      "  inflating: synth_data/synthinst80_t1_n5_p20_r20_s1_inst.txt  \n",
      "  inflating: synth_data/synthinst80_t1_n5_p20_r20_s1_sol.txt  \n",
      "  inflating: synth_data/synthinst81_t1_n5_p100_r50_s1_inst.txt  \n",
      "  inflating: synth_data/synthinst81_t1_n5_p100_r50_s1_sol.txt  \n",
      "  inflating: synth_data/synthinst82_t1_n5_p80_r50_s1_inst.txt  \n",
      "  inflating: synth_data/synthinst82_t1_n5_p80_r50_s1_sol.txt  \n",
      "  inflating: synth_data/synthinst83_t1_n5_p50_r50_s1_inst.txt  \n",
      "  inflating: synth_data/synthinst83_t1_n5_p50_r50_s1_sol.txt  \n",
      "  inflating: synth_data/synthinst84_t1_n5_p20_r50_s1_inst.txt  \n",
      "  inflating: synth_data/synthinst84_t1_n5_p20_r50_s1_sol.txt  \n",
      "  inflating: synth_data/synthinst85_t1_n6_p100_s1_inst.txt  \n",
      "  inflating: synth_data/synthinst85_t1_n6_p100_s1_sol.txt  \n",
      "  inflating: synth_data/synthinst86_t1_n6_p80_s1_inst.txt  \n",
      "  inflating: synth_data/synthinst86_t1_n6_p80_s1_sol.txt  \n",
      "  inflating: synth_data/synthinst87_t1_n6_p50_s1_inst.txt  \n",
      "  inflating: synth_data/synthinst87_t1_n6_p50_s1_sol.txt  \n",
      "  inflating: synth_data/synthinst88_t1_n6_p20_s1_inst.txt  \n",
      "  inflating: synth_data/synthinst88_t1_n6_p20_s1_sol.txt  \n",
      "  inflating: synth_data/synthinst89_t1_n6_p100_r20_s1_inst.txt  \n",
      "  inflating: synth_data/synthinst89_t1_n6_p100_r20_s1_sol.txt  \n",
      "  inflating: synth_data/synthinst8_t0_n5_p20_r20_s1_inst.txt  \n",
      "  inflating: synth_data/synthinst8_t0_n5_p20_r20_s1_sol.txt  \n",
      "  inflating: synth_data/synthinst90_t1_n6_p80_r20_s1_inst.txt  \n",
      "  inflating: synth_data/synthinst90_t1_n6_p80_r20_s1_sol.txt  \n",
      "  inflating: synth_data/synthinst91_t1_n6_p50_r20_s1_inst.txt  \n",
      "  inflating: synth_data/synthinst91_t1_n6_p50_r20_s1_sol.txt  \n",
      "  inflating: synth_data/synthinst92_t1_n6_p20_r20_s1_inst.txt  \n",
      "  inflating: synth_data/synthinst92_t1_n6_p20_r20_s1_sol.txt  \n",
      "  inflating: synth_data/synthinst93_t1_n6_p100_r50_s1_inst.txt  \n",
      "  inflating: synth_data/synthinst93_t1_n6_p100_r50_s1_sol.txt  \n",
      "  inflating: synth_data/synthinst94_t1_n6_p80_r50_s1_inst.txt  \n",
      "  inflating: synth_data/synthinst94_t1_n6_p80_r50_s1_sol.txt  \n",
      "  inflating: synth_data/synthinst95_t1_n6_p50_r50_s1_inst.txt  \n",
      "  inflating: synth_data/synthinst95_t1_n6_p50_r50_s1_sol.txt  \n",
      "  inflating: synth_data/synthinst96_t1_n6_p20_r50_s1_inst.txt  \n",
      "  inflating: synth_data/synthinst96_t1_n6_p20_r50_s1_sol.txt  \n",
      "  inflating: synth_data/synthinst97_t1_n9_p100_s1_inst.txt  \n",
      "  inflating: synth_data/synthinst97_t1_n9_p100_s1_sol.txt  \n",
      "  inflating: synth_data/synthinst98_t1_n9_p80_s1_inst.txt  \n",
      "  inflating: synth_data/synthinst98_t1_n9_p80_s1_sol.txt  \n",
      "  inflating: synth_data/synthinst99_t1_n9_p50_s1_inst.txt  \n",
      "  inflating: synth_data/synthinst99_t1_n9_p50_s1_sol.txt  \n",
      "  inflating: synth_data/synthinst9_t0_n5_p100_r50_s1_inst.txt  \n",
      "  inflating: synth_data/synthinst9_t0_n5_p100_r50_s1_sol.txt  \n"
     ]
    }
   ],
   "source": [
    "!mkdir synth_data\n",
    "!unzip synthetic_instance_data.zip -d synth_data"
   ]
  },
  {
   "cell_type": "code",
   "execution_count": 47,
   "metadata": {
    "executionInfo": {
     "elapsed": 5,
     "status": "ok",
     "timestamp": 1626740181457,
     "user": {
      "displayName": "Sergei V. Kalinin",
      "photoUrl": "",
      "userId": "05376171875078605711"
     },
     "user_tz": 240
    },
    "id": "NXS7jNbTToxc"
   },
   "outputs": [],
   "source": [
    "import numpy as np\n",
    "import matplotlib.pyplot as plt\n",
    "import pandas as pd\n",
    "import pdb"
   ]
  },
  {
   "cell_type": "code",
   "execution_count": 52,
   "metadata": {},
   "outputs": [
    {
     "name": "stdout",
     "output_type": "stream",
     "text": [
      "AlLiFe_n240_p100_inst.txt  AlLiFe_n240_p100_sol.txt\r\n"
     ]
    }
   ],
   "source": [
    "ls \"/Users/ollie/Downloads/synthetic_instance_generator (2)/instances\""
   ]
  },
  {
   "cell_type": "code",
   "execution_count": 58,
   "metadata": {
    "executionInfo": {
     "elapsed": 4,
     "status": "ok",
     "timestamp": 1626740181457,
     "user": {
      "displayName": "Sergei V. Kalinin",
      "photoUrl": "",
      "userId": "05376171875078605711"
     },
     "user_tz": 240
    },
    "id": "PpR_HeErToxd"
   },
   "outputs": [],
   "source": [
    "#prefix = \"../xrdc/inputs/synthetic_instance_data/synthinst26_t0_n9_p80_s1{}\"\n",
    "#prefix = \"synth_data/synthinst49_t0_n16_p100_s1{}\"\n",
    "prefix = \"/Users/ollie/Downloads/synth_generator/AlLiFe_n240_p100{}\"\n",
    "solpath, instpath = prefix.format(\"_sol.txt\"), prefix.format(\"_inst.txt\")"
   ]
  },
  {
   "cell_type": "code",
   "execution_count": 59,
   "metadata": {},
   "outputs": [
    {
     "name": "stdout",
     "output_type": "stream",
     "text": [
      "/Users/ollie/Downloads/synth_generator/AlLiFe_n240_p100_sol.txt\r\n"
     ]
    }
   ],
   "source": [
    "ls $solpath"
   ]
  },
  {
   "cell_type": "code",
   "execution_count": 60,
   "metadata": {
    "executionInfo": {
     "elapsed": 201,
     "status": "ok",
     "timestamp": 1626740181655,
     "user": {
      "displayName": "Sergei V. Kalinin",
      "photoUrl": "",
      "userId": "05376171875078605711"
     },
     "user_tz": 240
    },
    "id": "HDJFcM1wToxd"
   },
   "outputs": [],
   "source": [
    "def to_df(d):\n",
    "    return pd.DataFrame(d).T.values\n",
    "\n",
    "def extract_row(key_lookup, name, val, key):\n",
    "    try:\n",
    "        rowname = int(name[1:])\n",
    "    except ValueError:\n",
    "        rowname = name[1:]\n",
    "    key_lookup[key][rowname] = np.array(val.split(',')).astype(float)\n",
    "\n",
    "def load_solution_file(path):\n",
    "    with open(path, 'r') as f:\n",
    "        lines = f.readlines()\n",
    "    # Simulated pattern for each sample\n",
    "    dataset = {}\n",
    "    # Basis pattern for each phase\n",
    "    bases = {}\n",
    "    # Phase fractions for each sample\n",
    "    fractions = {}\n",
    "    # Fractional q scale for each sample-phase combination\n",
    "    shifts = {}\n",
    "    # Peak width multiplier for each sample-phase combination\n",
    "    widths = {}\n",
    "\n",
    "    key_lookup = {'B': bases, 'C': fractions, 'S': shifts, 'W': widths}\n",
    "\n",
    "    for l in lines:\n",
    "        if '=' in l:\n",
    "            name, val = l.split('=')\n",
    "        if l[0] == 'K':\n",
    "            n_phases = int(l[2:])\n",
    "        elif l[0] in ['B', 'C', 'S', 'W']:\n",
    "            extract_row(key_lookup, name, val, l[0])\n",
    "        elif l[0] == 'Q':\n",
    "            Q = np.array(l[2:].split(',')).astype(float) / 10 # convert to inverse Angstrom\n",
    "        elif l[0] == 'R':\n",
    "            sample_idx = int(name.split('_')[0][1:])\n",
    "            dataset[sample_idx] = dataset.setdefault(sample_idx, np.zeros_like(Q)) +\\\n",
    "                np.array(val.split(',')).astype(float)\n",
    "\n",
    "    dataset, bases, fractions, shifts, widths =\\\n",
    "        [to_df(d) for d in [dataset, bases, fractions, shifts, widths]]\n",
    "    \n",
    "    #return lines\n",
    "\n",
    "    return Q, dataset, bases, fractions, shifts, widths, fractions.shape[0], n_phases\n",
    "\n",
    "\n",
    "def load_instance_file(path):\n",
    "    with open(path, 'r') as f:\n",
    "        lines = f.readlines()\n",
    "    # Simulated pattern for each sample\n",
    "    dataset = {}\n",
    "    compositions = {}\n",
    "    key_lookup = {'I': dataset, 'C': compositions}\n",
    "\n",
    "    for l in lines:\n",
    "        if '=' in l:\n",
    "            name, val = l.split('=')\n",
    "        if l[0] == 'M':\n",
    "            n_components = int(l[2:])\n",
    "        elif l[0] == 'N':\n",
    "            n_samples = int(l[2:])\n",
    "        elif l[0] == 'I':\n",
    "            extract_row(key_lookup, name, val, l[0])\n",
    "        elif l[0] == 'C' and len(l.split(',')) > 3:\n",
    "            extract_row(key_lookup, name, val, l[0])\n",
    "        elif l[0] == 'Q':\n",
    "            Q = np.array(l[2:].split(',')).astype(float) / 10 # convert to inverse Angstrom\n",
    "\n",
    "    dataset =  to_df(dataset)\n",
    "    compositions = to_df(compositions)\n",
    "    return Q, dataset, n_samples, compositions"
   ]
  },
  {
   "cell_type": "markdown",
   "metadata": {
    "id": "UO6v4Vu8Toxe"
   },
   "source": [
    "### Load simulated obervational data:"
   ]
  },
  {
   "cell_type": "code",
   "execution_count": 61,
   "metadata": {
    "executionInfo": {
     "elapsed": 4,
     "status": "ok",
     "timestamp": 1626740181655,
     "user": {
      "displayName": "Sergei V. Kalinin",
      "photoUrl": "",
      "userId": "05376171875078605711"
     },
     "user_tz": 240
    },
    "id": "71C8oIN9Toxe"
   },
   "outputs": [],
   "source": [
    "Q, dataset, n_samples, compositions = load_instance_file(instpath)"
   ]
  },
  {
   "cell_type": "code",
   "execution_count": 62,
   "metadata": {},
   "outputs": [
    {
     "data": {
      "text/plain": [
       "(28920, 650)"
      ]
     },
     "execution_count": 62,
     "metadata": {},
     "output_type": "execute_result"
    }
   ],
   "source": [
    "dataset.shape"
   ]
  },
  {
   "cell_type": "code",
   "execution_count": 63,
   "metadata": {
    "executionInfo": {
     "elapsed": 3,
     "status": "ok",
     "timestamp": 1626740181655,
     "user": {
      "displayName": "Sergei V. Kalinin",
      "photoUrl": "",
      "userId": "05376171875078605711"
     },
     "user_tz": 240
    },
    "id": "H7S4bmki073O"
   },
   "outputs": [],
   "source": [
    "# species fractions, e.g. CAl,CLi,CFe\n",
    "assert compositions.shape == (3, n_samples)\n",
    "assert np.isclose(compositions.sum(axis = 0), 1, .02).all()"
   ]
  },
  {
   "cell_type": "markdown",
   "metadata": {
    "id": "B8wMqLH4Toxe"
   },
   "source": [
    "### Load solution data (theoretical ground truth phase distribution +  shifts and peak widths):"
   ]
  },
  {
   "cell_type": "code",
   "execution_count": 115,
   "metadata": {
    "executionInfo": {
     "elapsed": 590,
     "status": "ok",
     "timestamp": 1626740182243,
     "user": {
      "displayName": "Sergei V. Kalinin",
      "photoUrl": "",
      "userId": "05376171875078605711"
     },
     "user_tz": 240
    },
    "id": "04sgcx2ZToxf"
   },
   "outputs": [],
   "source": [
    "Q, dataset, bases, fractions, shifts, widths, n_samples, n_phases = load_solution_file(solpath)"
   ]
  },
  {
   "cell_type": "code",
   "execution_count": 65,
   "metadata": {
    "executionInfo": {
     "elapsed": 28,
     "status": "ok",
     "timestamp": 1626740182248,
     "user": {
      "displayName": "Sergei V. Kalinin",
      "photoUrl": "",
      "userId": "05376171875078605711"
     },
     "user_tz": 240
    },
    "id": "lQfnR96ZToxf"
   },
   "outputs": [],
   "source": [
    "assert fractions.shape[1] == shifts.shape[1] == widths.shape[1] == n_phases\n",
    "assert fractions.shape[0] == shifts.shape[0] == widths.shape[0]"
   ]
  },
  {
   "cell_type": "code",
   "execution_count": 71,
   "metadata": {},
   "outputs": [],
   "source": [
    "from xrdc import featurization as feat"
   ]
  },
  {
   "cell_type": "code",
   "execution_count": 101,
   "metadata": {},
   "outputs": [],
   "source": [
    "mask = ((fractions!= 0).sum(axis = 1) == 3)"
   ]
  },
  {
   "cell_type": "code",
   "execution_count": 106,
   "metadata": {},
   "outputs": [
    {
     "data": {
      "text/plain": [
       "array([[False,  True,  True, False,  True,  True],\n",
       "       [False,  True,  True,  True,  True,  True],\n",
       "       [False,  True,  True,  True,  True,  True],\n",
       "       ...,\n",
       "       [ True,  True, False, False,  True,  True],\n",
       "       [ True,  True, False,  True,  True,  True],\n",
       "       [ True,  True, False, False,  True,  True]])"
      ]
     },
     "execution_count": 106,
     "metadata": {},
     "output_type": "execute_result"
    }
   ],
   "source": [
    "(fractions != 0) == np.array([ True, False,  True,  True, False, False])"
   ]
  },
  {
   "cell_type": "code",
   "execution_count": 117,
   "metadata": {},
   "outputs": [],
   "source": [
    "# shifts[shifts == 0] += 1"
   ]
  },
  {
   "cell_type": "code",
   "execution_count": 118,
   "metadata": {
    "scrolled": true
   },
   "outputs": [
    {
     "data": {
      "text/plain": [
       "array([[1.      , 1.      , 1.      , 1.      , 1.      , 1.      ],\n",
       "       [1.      , 1.      , 1.      , 0.936226, 1.      , 1.      ],\n",
       "       [1.      , 1.      , 1.      , 0.936226, 1.      , 1.      ],\n",
       "       ...,\n",
       "       [0.999771, 1.      , 1.      , 1.      , 1.      , 1.      ],\n",
       "       [1.      , 1.      , 1.      , 1.      , 1.      , 1.      ],\n",
       "       [1.      , 1.      , 1.      , 1.      , 1.      , 1.      ]])"
      ]
     },
     "execution_count": 118,
     "metadata": {},
     "output_type": "execute_result"
    }
   ],
   "source": [
    "shifts"
   ]
  },
  {
   "cell_type": "code",
   "execution_count": 142,
   "metadata": {},
   "outputs": [],
   "source": [
    "composition_similarity = feat.csim_pairs(compositions[:, :2000].T)"
   ]
  },
  {
   "cell_type": "code",
   "execution_count": null,
   "metadata": {},
   "outputs": [],
   "source": [
    "np.argsort(composition_similarity)"
   ]
  },
  {
   "cell_type": "code",
   "execution_count": 141,
   "metadata": {
    "scrolled": false
   },
   "outputs": [],
   "source": [
    "shift_similarity = feat.csim_pairs(shifts[:2000, :])"
   ]
  },
  {
   "cell_type": "code",
   "execution_count": 132,
   "metadata": {},
   "outputs": [
    {
     "data": {
      "text/plain": [
       "(array([453118.,  23960.,   8628.,  13412.,      0.,      0.,      0.,\n",
       "             0.,      0., 500882.]),\n",
       " array([0.99971158, 0.99974043, 0.99976927, 0.99979811, 0.99982695,\n",
       "        0.99985579, 0.99988463, 0.99991348, 0.99994232, 0.99997116,\n",
       "        1.        ]),\n",
       " <BarContainer object of 10 artists>)"
      ]
     },
     "execution_count": 132,
     "metadata": {},
     "output_type": "execute_result"
    },
    {
     "data": {
      "image/png": "[encoded data removed]",
      "text/plain": [
       "<Figure size 432x288 with 1 Axes>"
      ]
     },
     "metadata": {
      "needs_background": "light"
     },
     "output_type": "display_data"
    }
   ],
   "source": [
    "plt.hist(shift_similarity.ravel())"
   ]
  },
  {
   "cell_type": "code",
   "execution_count": 138,
   "metadata": {},
   "outputs": [],
   "source": [
    "shift_similarity[shift_similarity >= 1] = np.nan"
   ]
  },
  {
   "cell_type": "code",
   "execution_count": 139,
   "metadata": {},
   "outputs": [
    {
     "data": {
      "text/plain": [
       "array([[       nan, 0.99971158, 0.99971158, ..., 0.99972357, 0.99972372,\n",
       "        0.99972389],\n",
       "       [0.99971158,        nan,        nan, ..., 0.99999987, 0.99999987,\n",
       "        0.99999987],\n",
       "       [0.99971158,        nan,        nan, ..., 0.99999987, 0.99999987,\n",
       "        0.99999987],\n",
       "       ...,\n",
       "       [0.99972357, 0.99999987, 0.99999987, ...,        nan, 1.        ,\n",
       "        1.        ],\n",
       "       [0.99972372, 0.99999987, 0.99999987, ..., 1.        , 1.        ,\n",
       "        1.        ],\n",
       "       [0.99972389, 0.99999987, 0.99999987, ..., 1.        , 1.        ,\n",
       "               nan]])"
      ]
     },
     "execution_count": 139,
     "metadata": {},
     "output_type": "execute_result"
    }
   ],
   "source": [
    "shift_similarity"
   ]
  },
  {
   "cell_type": "code",
   "execution_count": 143,
   "metadata": {},
   "outputs": [
    {
     "data": {
      "text/plain": [
       "<matplotlib.image.AxesImage at 0x7fe097c91f50>"
      ]
     },
     "execution_count": 143,
     "metadata": {},
     "output_type": "execute_result"
    },
    {
     "data": {
      "image/png": "[encoded data removed]",
      "text/plain": [
       "<Figure size 432x288 with 1 Axes>"
      ]
     },
     "metadata": {
      "needs_background": "light"
     },
     "output_type": "display_data"
    }
   ],
   "source": [
    "plt.imshow(shift_similarity)"
   ]
  },
  {
   "cell_type": "code",
   "execution_count": 144,
   "metadata": {},
   "outputs": [
    {
     "data": {
      "text/plain": [
       "<matplotlib.image.AxesImage at 0x7fe098079990>"
      ]
     },
     "execution_count": 144,
     "metadata": {},
     "output_type": "execute_result"
    },
    {
     "data": {
      "image/png": "[encoded data removed]",
      "text/plain": [
       "<Figure size 432x288 with 1 Axes>"
      ]
     },
     "metadata": {
      "needs_background": "light"
     },
     "output_type": "display_data"
    }
   ],
   "source": [
    "plt.imshow(composition_similarity)"
   ]
  },
  {
   "cell_type": "code",
   "execution_count": 127,
   "metadata": {},
   "outputs": [
    {
     "data": {
      "text/plain": [
       "<matplotlib.image.AxesImage at 0x7fe0ed3e9490>"
      ]
     },
     "execution_count": 127,
     "metadata": {},
     "output_type": "execute_result"
    },
    {
     "data": {
      "image/png": "[encoded data removed]",
      "text/plain": [
       "<Figure size 432x288 with 1 Axes>"
      ]
     },
     "metadata": {
      "needs_background": "light"
     },
     "output_type": "display_data"
    }
   ],
   "source": [
    "plt.imshow(compositions[:2, :1000])"
   ]
  },
  {
   "cell_type": "code",
   "execution_count": 89,
   "metadata": {},
   "outputs": [],
   "source": [
    "from scipy.stats import pearsonr"
   ]
  },
  {
   "cell_type": "code",
   "execution_count": 90,
   "metadata": {},
   "outputs": [
    {
     "data": {
      "text/plain": [
       "(0.5337624977580504, 1.0049126533766971e-74)"
      ]
     },
     "execution_count": 90,
     "metadata": {},
     "output_type": "execute_result"
    }
   ],
   "source": [
    "pearsonr(shift_similarity[0], composition_similarity[0])"
   ]
  },
  {
   "cell_type": "code",
   "execution_count": 82,
   "metadata": {},
   "outputs": [
    {
     "data": {
      "text/plain": [
       "(1000, 6)"
      ]
     },
     "execution_count": 82,
     "metadata": {},
     "output_type": "execute_result"
    }
   ],
   "source": [
    "shifts[:1000, :].shape\n"
   ]
  },
  {
   "cell_type": "code",
   "execution_count": 69,
   "metadata": {},
   "outputs": [
    {
     "data": {
      "text/plain": [
       "array([[0.      , 0.      , 1.      , 0.      , 0.      , 0.      ],\n",
       "       [0.      , 0.      , 1.      , 0.936226, 0.      , 0.      ],\n",
       "       [0.      , 0.      , 1.      , 0.936226, 0.      , 0.      ],\n",
       "       ...,\n",
       "       [0.999771, 0.      , 0.      , 0.      , 0.      , 0.      ],\n",
       "       [1.      , 0.      , 0.      , 1.      , 0.      , 0.      ],\n",
       "       [1.      , 0.      , 0.      , 0.      , 0.      , 0.      ]])"
      ]
     },
     "execution_count": 69,
     "metadata": {},
     "output_type": "execute_result"
    }
   ],
   "source": [
    "shifts"
   ]
  },
  {
   "cell_type": "markdown",
   "metadata": {
    "id": "e4647aQ-Toxg"
   },
   "source": [
    "#### Example: the second pattern in this dataset contains two phase contributions. The contribution of the phase with index 3 is q-scaled by a factor of .936226."
   ]
  },
  {
   "cell_type": "code",
   "execution_count": 10,
   "metadata": {
    "colab": {
     "base_uri": "https://localhost:8080/",
     "height": 300
    },
    "executionInfo": {
     "elapsed": 239,
     "status": "ok",
     "timestamp": 1626740182464,
     "user": {
      "displayName": "Sergei V. Kalinin",
      "photoUrl": "",
      "userId": "05376171875078605711"
     },
     "user_tz": 240
    },
    "id": "ZJRJql2TToxg",
    "outputId": "40ff4aa9-ae90-4cc8-90c9-06a7ae4c9933"
   },
   "outputs": [
    {
     "name": "stdout",
     "output_type": "stream",
     "text": [
      "[0.       0.       1.       0.936226 0.       0.      ]\n"
     ]
    },
    {
     "data": {
      "text/plain": [
       "<matplotlib.legend.Legend at 0x7f0cf6db9c10>"
      ]
     },
     "execution_count": 10,
     "metadata": {
      "tags": []
     },
     "output_type": "execute_result"
    },
    {
     "data": {
      "image/png": "[encoded data removed]",
      "text/plain": [
       "<Figure size 432x288 with 1 Axes>"
      ]
     },
     "metadata": {
      "needs_background": "light",
      "tags": []
     },
     "output_type": "display_data"
    }
   ],
   "source": [
    "print(shifts[1])\n",
    "plt.plot(Q, dataset[1], label = 'simulated XRD')\n",
    "plt.plot(Q, bases[2] * fractions[1][2], label = 'phase 3')\n",
    "plt.plot(Q, bases[3] * fractions[1][3], label = 'phase 4')\n",
    "plt.legend()"
   ]
  },
  {
   "cell_type": "code",
   "execution_count": 11,
   "metadata": {
    "colab": {
     "base_uri": "https://localhost:8080/"
    },
    "executionInfo": {
     "elapsed": 11,
     "status": "ok",
     "timestamp": 1626740182466,
     "user": {
      "displayName": "Sergei V. Kalinin",
      "photoUrl": "",
      "userId": "05376171875078605711"
     },
     "user_tz": 240
    },
    "id": "zTnpSBfHToxg",
    "outputId": "06a44065-b368-4c3b-c2a2-e3b748f3f1cc"
   },
   "outputs": [
    {
     "name": "stdout",
     "output_type": "stream",
     "text": [
      "number of phases: 6\n",
      "number of samples: 136\n"
     ]
    }
   ],
   "source": [
    "print(\"number of phases:\", n_phases)\n",
    "print(\"number of samples:\", n_samples)\n",
    "#print(\"q array (inverse Angstrom):\", Q)"
   ]
  },
  {
   "cell_type": "code",
   "execution_count": 13,
   "metadata": {
    "colab": {
     "base_uri": "https://localhost:8080/"
    },
    "executionInfo": {
     "elapsed": 203,
     "status": "ok",
     "timestamp": 1626740222193,
     "user": {
      "displayName": "Sergei V. Kalinin",
      "photoUrl": "",
      "userId": "05376171875078605711"
     },
     "user_tz": 240
    },
    "id": "J0a5eASsRcNx",
    "outputId": "efa1ac82-0761-4c83-f60b-e3e07309b94e"
   },
   "outputs": [
    {
     "data": {
      "text/plain": [
       "(3, 136)"
      ]
     },
     "execution_count": 13,
     "metadata": {
      "tags": []
     },
     "output_type": "execute_result"
    }
   ],
   "source": [
    "compositions.shape"
   ]
  },
  {
   "cell_type": "code",
   "execution_count": 12,
   "metadata": {
    "executionInfo": {
     "elapsed": 11,
     "status": "ok",
     "timestamp": 1626740182468,
     "user": {
      "displayName": "Sergei V. Kalinin",
      "photoUrl": "",
      "userId": "05376171875078605711"
     },
     "user_tz": 240
    },
    "id": "XRMSwaQxToxg"
   },
   "outputs": [],
   "source": [
    "# from PyWaveletPeakID import PyWaveletPeakID as pywaves\n",
    "\n",
    "# waves, scales=pywaves.getwavesetfromdatabase([2., 33., 70., 130.]) # the scales must be a subset of those in the database, otherwise the closest available scale will be used\n",
    "\n",
    "# sg=pywaves.scalegrid_scalesubset(stopscale=80.,startscale=2.,scalemultiplier=1.5)\n",
    "# scalevals=pywaves.scale_scalegrid_ind(sg)\n",
    "\n",
    "# wtset=pywaves.wavetrans1d(dataset, waves[:3], scalevals=scalevals)"
   ]
  }
 ],
 "metadata": {
  "colab": {
   "collapsed_sections": [],
   "name": "datasets.ipynb",
   "provenance": []
  },
  "kernelspec": {
   "display_name": "Python 3",
   "language": "python",
   "name": "python3"
  },
  "language_info": {
   "codemirror_mode": {
    "name": "ipython",
    "version": 3
   },
   "file_extension": ".py",
   "mimetype": "text/x-python",
   "name": "python",
   "nbconvert_exporter": "python",
   "pygments_lexer": "ipython3",
   "version": "3.7.9"
  }
 },
 "nbformat": 4,
 "nbformat_minor": 1
}
