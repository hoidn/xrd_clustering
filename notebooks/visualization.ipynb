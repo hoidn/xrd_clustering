{
 "cells": [
  {
   "cell_type": "code",
   "execution_count": 3,
   "metadata": {},
   "outputs": [],
   "source": [
    "import k3d\n",
    "import math\n",
    "import numpy as np\n",
    "from k3d.helpers import download"
   ]
  },
  {
   "cell_type": "code",
   "execution_count": 4,
   "metadata": {},
   "outputs": [
    {
     "name": "stdout",
     "output_type": "stream",
     "text": [
      "Downloading: adi_brain.nii.gz\n"
     ]
    },
    {
     "data": {
      "application/vnd.jupyter.widget-view+json": {
       "model_id": "d4989889715e4643b7499404d7acc82d",
       "version_major": 2,
       "version_minor": 0
      },
      "text/plain": [
       "Output()"
      ]
     },
     "metadata": {},
     "output_type": "display_data"
    }
   ],
   "source": [
    "import nibabel as nib\n",
    "\n",
    "filename = download('https://github.com/FNNDSC/data/raw/master/nifti/adi_brain/adi_brain.nii.gz')\n",
    "\n",
    "nii_source = nib.load(filename)\n",
    "img = nii_source.get_fdata()\n",
    "dx, dy, dz = nii_source.header.get_zooms()\n",
    "img = np.swapaxes(img,0,2).astype(np.float32)\n",
    "nz, ny, nx = img.shape\n",
    "\n",
    "volume = k3d.volume(img, color_range=[50,1000], color_map=np.array(k3d.basic_color_maps.Jet, dtype=np.float32))\n",
    "\n",
    "plot = k3d.plot()\n",
    "plot += volume\n",
    "plot.display()"
   ]
  },
  {
   "cell_type": "code",
   "execution_count": 5,
   "metadata": {},
   "outputs": [
    {
     "name": "stdout",
     "output_type": "stream",
     "text": [
      "Loading Data from: /Users/ollie/Documents/SLAC/xrd_clustering/notebooks/../../TiNiSn_500C-20190604T152446Z-001/TiNiSn_500C/\n",
      "Data Loaded Succesfully\n",
      "(177, 800)\n"
     ]
    }
   ],
   "source": [
    "import xrdc\n",
    "from xrdc.datasets import d3d"
   ]
  },
  {
   "cell_type": "code",
   "execution_count": 14,
   "metadata": {},
   "outputs": [],
   "source": [
    "import matplotlib.pyplot as plt"
   ]
  },
  {
   "cell_type": "code",
   "execution_count": 15,
   "metadata": {},
   "outputs": [
    {
     "data": {
      "text/plain": [
       "[<matplotlib.lines.Line2D at 0x7f8d7ef2b350>]"
      ]
     },
     "execution_count": 15,
     "metadata": {},
     "output_type": "execute_result"
    },
    {
     "data": {
      "image/png": "[encoded data removed]",
      "text/plain": [
       "<Figure size 432x288 with 1 Axes>"
      ]
     },
     "metadata": {
      "needs_background": "light"
     },
     "output_type": "display_data"
    }
   ],
   "source": [
    "plt.plot(d3d.get_data().reshape(15, 15, 200, -1).sum(axis = 3)[5, 5, :])"
   ]
  },
  {
   "cell_type": "code",
   "execution_count": 25,
   "metadata": {},
   "outputs": [],
   "source": [
    "def heatmap3d():\n",
    "    patterns = m3d = d3d.get_data().reshape(15, 15, 200, -1).sum(axis = 3)\n",
    "\n",
    "    img = patterns\n",
    "    dx, dy, dz = 1, 1, 1#nii_source.header.get_zooms()\n",
    "    img = img.astype(np.float32) / img.max()#np.swapaxes(img,0,2).astype(np.float32)\n",
    "\n",
    "    img = np.log(1 + 10 * img)\n",
    "    nz, ny, nx = img.shape\n",
    "\n",
    "    volume = k3d.volume(img, interpolation = True, bounds = [0, 1, 0, 1, 0, 1], color_range=[0.2,.9],\n",
    "                        color_map=np.array(k3d.basic_color_maps.Jet, dtype=np.float32))\n",
    "\n",
    "    plot = k3d.plot()\n",
    "    plot += volume\n",
    "    plot.display()\n",
    "    return plot, volume"
   ]
  },
  {
   "cell_type": "code",
   "execution_count": 26,
   "metadata": {},
   "outputs": [],
   "source": [
    "from ipywidgets import interactive\n",
    "\n",
    "\n",
    "def iplot_rows(log = False, offset = 0, height = '550px'):\n",
    "    \"\"\"\n",
    "    \"\"\"\n",
    "    plot, volume = heatmap3d()\n",
    "    def f(i):\n",
    "        volume.samples = 512 * 2\n",
    "        plot.clipping_planes = [[-1, 0, 0, 1 - i]]\n",
    "\n",
    "    interactive_plot = interactive(f, i=(0, 1, .005))\n",
    "#     output = interactive_plot.children[-1]\n",
    "#     output.layout.height = height\n",
    "    return interactive_plot\n"
   ]
  },
  {
   "cell_type": "code",
   "execution_count": 27,
   "metadata": {},
   "outputs": [
    {
     "data": {
      "application/vnd.jupyter.widget-view+json": {
       "model_id": "343758007d694ebfa35cd6cc84aba0e0",
       "version_major": 2,
       "version_minor": 0
      },
      "text/plain": [
       "Output()"
      ]
     },
     "metadata": {},
     "output_type": "display_data"
    },
    {
     "data": {
      "application/vnd.jupyter.widget-view+json": {
       "model_id": "8f988c6e99934eecbd1f4e7eaebd4bed",
       "version_major": 2,
       "version_minor": 0
      },
      "text/plain": [
       "interactive(children=(FloatSlider(value=0.0, description='i', max=1.0, step=0.005), Output()), _dom_classes=('…"
      ]
     },
     "metadata": {},
     "output_type": "display_data"
    }
   ],
   "source": [
    "iplot_rows()"
   ]
  },
  {
   "cell_type": "code",
   "execution_count": null,
   "metadata": {},
   "outputs": [],
   "source": []
  }
 ],
 "metadata": {
  "kernelspec": {
   "display_name": "Python 3",
   "language": "python",
   "name": "python3"
  },
  "language_info": {
   "codemirror_mode": {
    "name": "ipython",
    "version": 3
   },
   "file_extension": ".py",
   "mimetype": "text/x-python",
   "name": "python",
   "nbconvert_exporter": "python",
   "pygments_lexer": "ipython3",
   "version": "3.7.9"
  }
 },
 "nbformat": 4,
 "nbformat_minor": 4
}
