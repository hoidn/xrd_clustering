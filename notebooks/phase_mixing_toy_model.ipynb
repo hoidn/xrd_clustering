{
 "cells": [
  {
   "cell_type": "markdown",
   "metadata": {
    "colab_type": "text",
    "id": "6oXxxX9LZL-h"
   },
   "source": [
    "# Dirichlet Process Mixture Models in Pyro\n",
    "\n",
    "\n",
    "## What are Bayesian nonparametric models?\n",
    "Bayesian nonparametric models are models where the number of parameters grow freely with the amount of data provided; thus, instead of training several models that vary in complexity and comparing them, one is able to design a model whose complexity grows as more data are observed. The prototypical example of Bayesian nonparametrics in practice is the *Dirichlet Process Mixture Model* (DPMM). A DPMM allows for a practitioner to build a mixture model when the number of distinct clusters in the geometric structure of their data is unknown – in other words, the number of clusters is allowed to grow as more data is observed. This feature makes the DPMM highly useful towards exploratory data analysis, where few facets of the data in question are known; this presentation aims to demonstrate this fact.\n",
    "\n",
    "## The Dirichlet Process (Ferguson, 1973)\n",
    "Dirichlet processes are a family of probability distributions over discrete probability distributions. Formally, the Dirichlet process (DP) is specified by some base probability distribution $G_0: \\Omega \\to \\mathbb{R}$ and a positive, real, scaling parameter commonly denoted as $\\alpha$. A sample $G$ from a Dirichlet process with parameters $G_0: \\Omega \\to \\mathbb{R}$ and $\\alpha$ is itself a distribution over $\\Omega$. For any disjoint partition $\\Omega_1, ..., \\Omega_k$ of $\\Omega$, and any sample $G \\sim DP(G_0, \\alpha)$, we have:\n",
    "\n",
    "$$(G(\\Omega_1), ..., G(\\Omega_k)) \\sim \\text{Dir}(\\alpha G_0(\\Omega_1), ..., \\alpha G_0(\\Omega_k))$$\n",
    "\n",
    "Essentially, this is taking a discrete partition of our sample space $\\Omega$ and subsequently constructing a discrete distribution over it using the base distribution $G_0$. While quite abstract in formulation, the Dirichlet process is very useful as a prior in various graphical models. This fact becomes easier to see in the following scheme.\n",
    "\n",
    "## The Chinese Restaurant Process (Aldous, 1985)\n",
    "\n",
    "Imagine a restaurant with infinite tables (indexed by the positive integers) that accepts customers one at a time. The $n$th customer chooses their seat according to the following probabilities:\n",
    "\n",
    "*   With probability $\\frac{n_t}{\\alpha + n - 1}$, sit at table $t$, where $n_t$ is the number of people at table $t$\n",
    "*   With probability $\\frac{\\alpha}{\\alpha + n - 1}$, sit at an empty table\n",
    "\n",
    "If we associate to each table $t$ a draw from a base distribution $G_0$ over $\\Omega$, and then associate unnormalized probability mass $n_t$ to that draw, the resulting distribution over $\\Omega$ is equivalent to a draw from a Dirichlet process $DP(G_0, \\alpha)$. \n",
    "\n",
    "Furthermore, we can easily extend this to define the generative process of a nonparametric mixture model: every table $t$ that has at least one customer seated is associated with a set of cluster parameters $\\theta_t$, which were themselves drawn from some base distribution $G_0$. For each new observation, first assign that observation to a table according to the above probabilities; then, that observation is drawn from the distribution parameterized by the cluster parameters for that table. If the observation was assigned to a new table, draw a new set of cluster parameters from $G_0$, and then draw the observation from the distribution parameterized by those cluster parameters.\n",
    "\n",
    "While this formulation of a Dirichlet process mixture model is intuitive, it is also very difficult to perform inference on in a probabilistic programming framework. This motivates an alternative formulation of DPMMs, which has empirically been shown to be more conducive to inference (e.g. Blei and Jordan, 2004).\n",
    "\n",
    "## The Stick-Breaking Method (Sethuraman, 1994)\n",
    "\n",
    "The generative process for the stick-breaking formulation of DPMMs proceeds as follows:\n",
    "\n",
    "* Draw $\\beta_i \\sim \\text{Beta}(1, \\alpha)$ for $i \\in \\mathbb{N}$\n",
    "* Draw $\\theta_i \\sim G_0$ for $i \\in \\mathbb{N}$\n",
    "* Construct the mixture weights $\\pi$ by taking $\\pi_i(\\beta_{1:\\infty}) = \\beta_i \\prod_{j<i} (1-\\beta_j)$\n",
    "\n",
    "* For each observation $n \\in \\{1, ..., N\\}$, draw $z_n \\sim \\pi(\\beta_{1:\\infty})$, and then draw $x_n \\sim f(\\theta_{z_n})$\n",
    "\n",
    "Here, the infinite nature of the Dirichlet process mixture model can more easily be seen. Furthermore, all $\\beta_i$ are independent, so it is far easier to perform inference in a probabilistic programming framework.\n",
    "\n",
    "First, we import all the modules we're going to need:"
   ]
  },
  {
   "cell_type": "code",
   "execution_count": 1,
   "metadata": {
    "colab": {
     "base_uri": "https://localhost:8080/",
     "height": 400
    },
    "colab_type": "code",
    "id": "VaAgD92IdE6i",
    "outputId": "47dd309c-4689-403e-900b-413381c4fedc"
   },
   "outputs": [],
   "source": [
    "import matplotlib.pyplot as plt\n",
    "import numpy as np\n",
    "import pandas as pd\n",
    "from tqdm import tqdm\n",
    "\n",
    "import torch\n",
    "import torch.nn.functional as F\n",
    "from torch.distributions import constraints\n",
    "\n",
    "import pyro\n",
    "from pyro.distributions import *\n",
    "from pyro.infer import Predictive, SVI, Trace_ELBO\n",
    "from pyro.optim import Adam\n",
    "\n",
    "assert pyro.__version__.startswith('1.8.0')\n",
    "pyro.set_rng_seed(0)"
   ]
  },
  {
   "cell_type": "markdown",
   "metadata": {
    "colab_type": "text",
    "id": "GomHVM-cBrQY"
   },
   "source": [
    "\n",
    "\n",
    "## **Inference**\n",
    "\n",
    "\n",
    "\n",
    "\n",
    "### Synthetic Mixture of Gaussians\n",
    "\n",
    "We begin by demonstrating the capabilities of Dirichlet process mixture models on a synthetic dataset generated by a mixture of four 2D Gaussians:"
   ]
  },
  {
   "cell_type": "code",
   "execution_count": 2,
   "metadata": {},
   "outputs": [
    {
     "name": "stdout",
     "output_type": "stream",
     "text": [
      "Loading Data from: /home/ollie/anaconda3/lib/python3.8/site-packages/xrdc-1.0-py3.8.egg/xrdc/inputs/\n",
      "Data Loaded Succesfully\n",
      "(177, 800)\n"
     ]
    }
   ],
   "source": [
    "from xrdc import visualization as vis"
   ]
  },
  {
   "cell_type": "code",
   "execution_count": 181,
   "metadata": {},
   "outputs": [],
   "source": [
    "ndim = 2\n",
    "N = 1000\n",
    "T = 3\n",
    "\n",
    "# data = torch.dstack([MultivariateNormal(10 * Normal(0, 1).expand([ndim]).sample(), torch.eye(ndim)).sample([N]),\n",
    "#                   MultivariateNormal(10 * Normal(0, 1).expand([ndim]).sample(), torch.eye(ndim)).sample([N]),\n",
    "#                   MultivariateNormal(10 * Normal(0, 1).expand([ndim]).sample(), torch.eye(ndim)).sample([N])])\n",
    "\n",
    "weights = Dirichlet(torch.ones(nphases) * .2).expand([N]).sample()\n",
    "\n",
    "centers = MultivariateNormal(20 * Normal(0, 1).expand([ndim]).sample(), torch.eye(ndim)).sample([T])\n",
    "\n",
    "mixture_centers = torch.matmul(weights, centers)\n",
    "\n",
    "X = data = MultivariateNormal(mixture_centers, torch.eye(ndim) / 10).sample()\n",
    "\n",
    "X = X / X.abs().mean()\n",
    "# X = torch.einsum('...ij,...j->...i', data, weights)"
   ]
  },
  {
   "cell_type": "code",
   "execution_count": 1105,
   "metadata": {},
   "outputs": [
    {
     "data": {
      "text/plain": [
       "<matplotlib.collections.PathCollection at 0x7f036da216a0>"
      ]
     },
     "execution_count": 1105,
     "metadata": {},
     "output_type": "execute_result"
    },
    {
     "data": {
      "image/png": "[encoded data removed]",
      "text/plain": [
       "<Figure size 432x288 with 1 Axes>"
      ]
     },
     "metadata": {
      "needs_background": "light"
     },
     "output_type": "display_data"
    }
   ],
   "source": [
    "plt.scatter(*np.array(mixture_centers.T), s = 2)"
   ]
  },
  {
   "cell_type": "code",
   "execution_count": 1116,
   "metadata": {},
   "outputs": [
    {
     "data": {
      "text/plain": [
       "<matplotlib.collections.PathCollection at 0x7f036dcc53d0>"
      ]
     },
     "execution_count": 1116,
     "metadata": {},
     "output_type": "execute_result"
    },
    {
     "data": {
      "image/png": "[encoded data removed]",
      "text/plain": [
       "<Figure size 432x288 with 1 Axes>"
      ]
     },
     "metadata": {
      "needs_background": "light"
     },
     "output_type": "display_data"
    }
   ],
   "source": [
    "plt.scatter(*np.array(X.T), s = 2)"
   ]
  },
  {
   "cell_type": "code",
   "execution_count": 1117,
   "metadata": {},
   "outputs": [],
   "source": [
    "def mix_weights(beta):\n",
    "    beta1m_cumprod = (1 - beta).cumprod(-1)\n",
    "    return F.pad(beta, (0, 1), value=1) * F.pad(beta1m_cumprod, (1, 0), value=1)"
   ]
  },
  {
   "cell_type": "code",
   "execution_count": 1118,
   "metadata": {},
   "outputs": [],
   "source": [
    "T = 3\n",
    "observation_sigma = .5\n",
    "mu_scale = 10"
   ]
  },
  {
   "cell_type": "code",
   "execution_count": 1119,
   "metadata": {},
   "outputs": [],
   "source": [
    "# def model(data):\n",
    "#     weights = torch.ones(T) / T\n",
    "#     #weights = pyro.sample('global_weights', Dirichlet(0.5 * torch.ones(T)))\n",
    "    \n",
    "# #     with pyro.plate(\"beta_plate\", T-1):\n",
    "# #         beta = pyro.sample(\"beta\", Beta(1, alpha))\n",
    "\n",
    "#     with pyro.plate(\"mu_plate\", T):\n",
    "#         mu = pyro.sample(\"mu\", MultivariateNormal(mu_scale * torch.zeros(ndim), torch.eye(ndim)))\n",
    "\n",
    "#     with pyro.plate(\"data\", N):\n",
    "# # #         z = pyro.sample(\"z\", Categorical(mix_weights(beta)))\n",
    "# # #         pyro.sample(\"obs\", MultivariateNormal(mu[z], torch.eye(ndim)), obs=data)\n",
    "# #         phase_weights = pyro.sample(\"phase_weights\", Dirichlet(mix_weights(beta)))\n",
    "# #         ndsample = pyro.sample('ndsample', MultivariateNormal(mu, torch.eye(ndim) / 2).to_event(1))\n",
    "# #         pyro.sample('obs', Normal(torch.einsum('...ji,...j->...i', ndsample, phase_weights),\n",
    "# #                                    observation_sigma).to_event(1), obs = data)\n",
    "        \n",
    "#         phase_weights = pyro.sample(\"phase_weights\", Dirichlet(weights * alpha))\n",
    "#         #ndsample = pyro.sample('ndsample', MultivariateNormal(mu, torch.eye(ndim) / 2).to_event(1))\n",
    "#         weighted_expectation = torch.einsum('...ji,...j->...i', mu, phase_weights)\n",
    "#         pyro.sample('obs', Normal(weighted_expectation,\n",
    "#                                    observation_sigma).to_event(1), obs = data)\n",
    "\n",
    "def model(data):\n",
    "    weights = torch.ones(T) / T\n",
    "    #weights = pyro.sample('global_weights', Dirichlet(0.5 * torch.ones(T)))\n",
    "    \n",
    "#     with pyro.plate(\"beta_plate\", T-1):\n",
    "#         beta = pyro.sample(\"beta\", Beta(1, alpha))\n",
    "\n",
    "    with pyro.plate(\"mu_plate\", T):\n",
    "        mu = pyro.sample(\"mu\", MultivariateNormal(mu_scale * torch.zeros(ndim), torch.eye(ndim)))\n",
    "\n",
    "    with pyro.plate(\"data\", N):\n",
    "# #         z = pyro.sample(\"z\", Categorical(mix_weights(beta)))\n",
    "# #         pyro.sample(\"obs\", MultivariateNormal(mu[z], torch.eye(ndim)), obs=data)\n",
    "#         phase_weights = pyro.sample(\"phase_weights\", Dirichlet(mix_weights(beta)))\n",
    "#         ndsample = pyro.sample('ndsample', MultivariateNormal(mu, torch.eye(ndim) / 2).to_event(1))\n",
    "#         pyro.sample('obs', Normal(torch.einsum('...ji,...j->...i', ndsample, phase_weights),\n",
    "#                                    observation_sigma).to_event(1), obs = data)\n",
    "        \n",
    "        phase_weights = pyro.sample(\"phase_weights\", Dirichlet(weights * alpha))\n",
    "        #ndsample = pyro.sample('ndsample', MultivariateNormal(mu, torch.eye(ndim) / 2).to_event(1))\n",
    "        weighted_expectation = torch.einsum('...ji,...j->...i', mu, phase_weights)\n",
    "        pyro.sample('obs', Normal(weighted_expectation,\n",
    "                                   observation_sigma).to_event(1), obs = data)"
   ]
  },
  {
   "cell_type": "code",
   "execution_count": 710,
   "metadata": {},
   "outputs": [],
   "source": [
    "topic_weights_posterior = pyro.param(\n",
    "    \"topic_weights_posterior\",\n",
    "    lambda: torch.ones(2),\n",
    "    constraint=constraints.positive,\n",
    ")\n",
    "        \n",
    "topic_words_posterior = pyro.param(\n",
    "    \"topic_words_posterior\",\n",
    "    lambda: torch.ones(2, args.num_words),\n",
    "    constraint=constraints.greater_than(0.5),\n",
    ")\n",
    "with pyro.plate(\"topics\", 2):\n",
    "    pyro.sample(\"topic_weights\", Gamma(topic_weights_posterior, 1.0))\n",
    "    pyro.sample(\"topic_words\", Dirichlet(topic_words_posterior))"
   ]
  },
  {
   "cell_type": "code",
   "execution_count": 734,
   "metadata": {},
   "outputs": [],
   "source": [
    "from torch import nn\n",
    "\n",
    "# We will use amortized inference of the local topic variables, achieved by a\n",
    "# multi-layer perceptron. We'll wrap the guide in an nn.Module.\n",
    "def make_predictor(layer_size):\n",
    "    layer_sizes = (\n",
    "        [args.num_words]\n",
    "        + [int(s) for s in args.layer_sizes.split(\"-\")]\n",
    "        + [args.num_topics]\n",
    "    )\n",
    "    logging.info(\"Creating MLP with sizes {}\".format(layer_sizes))\n",
    "    layers = []\n",
    "    for in_size, out_size in zip(layer_sizes, layer_sizes[1:]):\n",
    "        layer = nn.Linear(in_size, out_size)\n",
    "        layer.weight.data.normal_(0, 0.001)\n",
    "        layer.bias.data.normal_(0, 0.001)\n",
    "        layers.append(layer)\n",
    "        layers.append(nn.Sigmoid())\n",
    "    layers.append(nn.Softmax(dim=-1))\n",
    "    return nn.Sequential(*layers)"
   ]
  },
  {
   "cell_type": "code",
   "execution_count": 1122,
   "metadata": {},
   "outputs": [],
   "source": [
    "# def guide(data):\n",
    "#     #kappa = pyro.param('kappa', lambda: Uniform(0, 2).sample([T-1]), constraint=constraints.positive)\n",
    "#     tau = pyro.param('tau', lambda: MultivariateNormal(torch.zeros(ndim), 10 * torch.eye(ndim)).sample([T]))\n",
    "#     #phi = pyro.param('phi', lambda: Dirichlet(1/T * torch.ones(T)).sample([N]), constraint=constraints.simplex)\n",
    "    \n",
    "#     #phi = pyro.param('phi', lambda: 1/T * torch.ones(T), constraint=constraints.simplex)\n",
    "#     phi = pyro.param('phi', lambda: alpha * Dirichlet(1/T * torch.ones(T)).sample([N]), constraint=constraints.simplex)\n",
    "\n",
    "# #     cluster_weights_posterior = pyro.param(\n",
    "# #         'cluster_weights_posterior',\n",
    "# #         lambda: torch.ones(T) / T,\n",
    "# #         contraint = constraints.positive,\n",
    "# #     )\n",
    "\n",
    "# #     with pyro.plate(\"beta_plate\", T-1):\n",
    "# #         q_beta = pyro.sample(\"beta\", Beta(torch.ones(T-1), kappa))\n",
    "\n",
    "# #     with pyro.plate(\"global_weights_plate\", T):\n",
    "# #         q_weights = pyro.sample(\"global_weights\", Delta(phi))\n",
    "\n",
    "#     with pyro.plate(\"mu_plate\", T):\n",
    "#         q_mu = pyro.sample(\"mu\", MultivariateNormal(tau, torch.eye(ndim)))\n",
    "\n",
    "#     with pyro.plate(\"data\", N):\n",
    "#         #phase_weights = pyro.sample('phase_weights', Dirichlet(alpha * phi))\n",
    "#         phase_weights = pyro.sample('phase_weights', Delta(phi).to_event(1))\n",
    "\n",
    "def guide(data):\n",
    "    kappa = pyro.param('kappa', lambda: Uniform(0, 2).sample([T-1]), constraint=constraints.positive)\n",
    "    tau = pyro.param('tau', lambda: MultivariateNormal(torch.zeros(ndim), 5 * torch.eye(ndim)).sample([T]))\n",
    "    #phi = pyro.param('phi', lambda: Dirichlet(1/T * torch.ones(T)).sample([N]), constraint=constraints.simplex)\n",
    "    \n",
    "    #phi = pyro.param('phi', lambda: 1/T * torch.ones(T), constraint=constraints.simplex)\n",
    "    phi = pyro.param('phi', lambda: Dirichlet(1/T * torch.ones(T)).sample([N]), constraint=constraints.simplex)\n",
    "\n",
    "#     cluster_weights_posterior = pyro.param(\n",
    "#         'cluster_weights_posterior',\n",
    "#         lambda: torch.ones(T) / T,\n",
    "#         contraint = constraints.positive,\n",
    "#     )\n",
    "\n",
    "#     with pyro.plate(\"beta_plate\", T-1):\n",
    "#         q_beta = pyro.sample(\"beta\", Beta(torch.ones(T-1), kappa))\n",
    "\n",
    "#     with pyro.plate(\"global_weights_plate\", T):\n",
    "#         q_weights = pyro.sample(\"global_weights\", Delta(phi))\n",
    "\n",
    "    with pyro.plate(\"mu_plate\", T):\n",
    "        q_mu = pyro.sample(\"mu\", MultivariateNormal(tau, torch.eye(ndim)))\n",
    "\n",
    "    with pyro.plate(\"data\", N):\n",
    "        phase_weights = pyro.sample('phase_weights', Dirichlet(alpha * phi))"
   ]
  },
  {
   "cell_type": "code",
   "execution_count": 1109,
   "metadata": {},
   "outputs": [
    {
     "data": {
      "text/plain": [
       "tensor([1.0000e+00, 6.8919e-09, 2.8135e-09])"
      ]
     },
     "execution_count": 1109,
     "metadata": {},
     "output_type": "execute_result"
    }
   ],
   "source": [
    "pyro.sample('phase_weights', Dirichlet(alpha * torch.ones(T) / T))"
   ]
  },
  {
   "cell_type": "code",
   "execution_count": 1110,
   "metadata": {},
   "outputs": [],
   "source": [
    "kappa = pyro.param('kappa', lambda: Uniform(0, 2).sample([T-1]), constraint=constraints.positive)\n",
    "tau = pyro.param('tau', lambda: MultivariateNormal(torch.zeros(ndim), 10 * torch.eye(ndim)).sample([T]))\n",
    "#phi = pyro.param('phi', lambda: Dirichlet(1/T * torch.ones(T)).sample([N]), constraint=constraints.simplex)\n",
    "\n",
    "phi = pyro.param('phi', lambda: 1/T * torch.ones(T), constraint=constraints.simplex)\n",
    "phi2 = pyro.param('phi2', lambda: Dirichlet(1/T * torch.ones(T)).sample([N]), constraint=constraints.simplex)\n",
    "\n",
    "#     cluster_weights_posterior = pyro.param(\n",
    "#         'cluster_weights_posterior',\n",
    "#         lambda: torch.ones(T) / T,\n",
    "#         contraint = constraints.positive,\n",
    "#     )\n",
    "\n",
    "#     with pyro.plate(\"beta_plate\", T-1):\n",
    "#         q_beta = pyro.sample(\"beta\", Beta(torch.ones(T-1), kappa))\n",
    "\n",
    "with pyro.plate(\"global_weights_plate\", T):\n",
    "    q_weights = pyro.sample(\"global_weights\", Delta(phi))\n",
    "\n",
    "with pyro.plate(\"mu_plate\", T):\n",
    "    q_mu = pyro.sample(\"mu\", MultivariateNormal(tau, torch.eye(ndim)))\n",
    "\n",
    "with pyro.plate(\"data\", N):\n",
    "    phase_weights = pyro.sample('phase_weights', Dirichlet(alpha * phi2))"
   ]
  },
  {
   "cell_type": "code",
   "execution_count": 858,
   "metadata": {},
   "outputs": [
    {
     "data": {
      "text/plain": [
       "torch.Size([3])"
      ]
     },
     "execution_count": 858,
     "metadata": {},
     "output_type": "execute_result"
    }
   ],
   "source": [
    "phi.shape"
   ]
  },
  {
   "cell_type": "code",
   "execution_count": 859,
   "metadata": {
    "scrolled": false
   },
   "outputs": [
    {
     "data": {
      "text/plain": [
       "torch.Size([3])"
      ]
     },
     "execution_count": 859,
     "metadata": {},
     "output_type": "execute_result"
    }
   ],
   "source": [
    "q_weights.shape"
   ]
  },
  {
   "cell_type": "code",
   "execution_count": 797,
   "metadata": {},
   "outputs": [],
   "source": [
    "# kappa = pyro.param('kappa', lambda: Uniform(0, 2).sample([T-1]), constraint=constraints.positive)\n",
    "# tau = pyro.param('tau', lambda: MultivariateNormal(torch.zeros(ndim), 10 * torch.eye(ndim)).sample([T]))\n",
    "# phi = pyro.param('phi', lambda: Dirichlet(1/T * torch.ones(T)).sample([N]), constraint=constraints.simplex)\n",
    "\n",
    "# with pyro.plate(\"beta_plate\", T-1):\n",
    "#     q_beta = pyro.sample(\"beta\", Beta(torch.ones(T-1), kappa))\n",
    "\n",
    "# with pyro.plate(\"mu_plate\", T):\n",
    "#     q_mu = pyro.sample(\"mu\", MultivariateNormal(tau, torch.eye(ndim)))\n",
    "\n",
    "# with pyro.plate(\"data\", N):\n",
    "#     phase_weights = pyro.sample('phase_weights', Dirichlet(phi))"
   ]
  },
  {
   "cell_type": "code",
   "execution_count": 741,
   "metadata": {},
   "outputs": [
    {
     "data": {
      "text/plain": [
       "(torch.Size([2]), torch.Size([3, 2]), torch.Size([1000, 2]))"
      ]
     },
     "execution_count": 741,
     "metadata": {},
     "output_type": "execute_result"
    }
   ],
   "source": [
    "beta.shape, mu.shape, foo.shape"
   ]
  },
  {
   "cell_type": "code",
   "execution_count": 750,
   "metadata": {},
   "outputs": [
    {
     "data": {
      "text/plain": [
       "(torch.Size([2]), torch.Size([3, 2]), torch.Size([1000, 2]))"
      ]
     },
     "execution_count": 750,
     "metadata": {},
     "output_type": "execute_result"
    }
   ],
   "source": [
    "beta.shape, mu.shape, foo.shape"
   ]
  },
  {
   "cell_type": "code",
   "execution_count": 751,
   "metadata": {
    "scrolled": true
   },
   "outputs": [
    {
     "data": {
      "text/plain": [
       "(torch.Size([2]), torch.Size([3, 2]), torch.Size([1000, 3]))"
      ]
     },
     "execution_count": 751,
     "metadata": {},
     "output_type": "execute_result"
    }
   ],
   "source": [
    "q_beta.shape, q_mu.shape, phase_weights.shape"
   ]
  },
  {
   "cell_type": "code",
   "execution_count": 739,
   "metadata": {},
   "outputs": [
    {
     "data": {
      "text/plain": [
       "torch.Size([1000, 3])"
      ]
     },
     "execution_count": 739,
     "metadata": {},
     "output_type": "execute_result"
    }
   ],
   "source": [
    "phase_weights.shape"
   ]
  },
  {
   "cell_type": "code",
   "execution_count": 1123,
   "metadata": {},
   "outputs": [
    {
     "name": "stderr",
     "output_type": "stream",
     "text": [
      "100%|██████████| 500/500 [00:01<00:00, 334.48it/s]\n"
     ]
    },
    {
     "data": {
      "text/plain": [
       "<matplotlib.collections.PathCollection at 0x7f036d832400>"
      ]
     },
     "execution_count": 1123,
     "metadata": {},
     "output_type": "execute_result"
    },
    {
     "data": {
      "image/png": "[encoded data removed]",
      "text/plain": [
       "<Figure size 1080x360 with 1 Axes>"
      ]
     },
     "metadata": {
      "needs_background": "light"
     },
     "output_type": "display_data"
    }
   ],
   "source": [
    "n_iter = 500\n",
    "T = 3\n",
    "optim = Adam({\"lr\": 0.02})\n",
    "svi = SVI(model, guide, optim, loss=Trace_ELBO())\n",
    "losses = []\n",
    "\n",
    "def train(num_iterations):\n",
    "    pyro.clear_param_store()\n",
    "    for j in tqdm(range(num_iterations)):\n",
    "        loss = svi.step(X)\n",
    "        losses.append(loss)\n",
    "\n",
    "def truncate(alpha, centers):#, weights):\n",
    "    threshold = alpha**-1 / 100.\n",
    "    true_centers = centers#[weights > threshold]\n",
    "    #true_weights = weights[weights > threshold] / torch.sum(weights[weights > threshold])\n",
    "    return true_centers#, true_weights\n",
    "\n",
    "alpha = .25\n",
    "train(n_iter)\n",
    "\n",
    "# We make a point-estimate of our model parameters using the posterior means of tau and phi for the centers and weights\n",
    "# Bayes_Centers_01, Bayes_Weights_01 = truncate(alpha, pyro.param(\"tau\").detach(), torch.mean(pyro.param(\"phi\").detach(), dim=0))\n",
    "Bayes_Centers_01 = truncate(alpha, pyro.param(\"tau\").detach())\n",
    "\n",
    "# alpha = 1.5\n",
    "# train(1000)\n",
    "\n",
    "# # We make a point-estimate of our model parameters using the posterior means of tau and phi for the centers and weights\n",
    "# Bayes_Centers_15, Bayes_Weights_15 = truncate(alpha, pyro.param(\"tau\").detach(), torch.mean(pyro.param(\"phi\").detach(), dim=0))\n",
    "\n",
    "plt.figure(figsize=(15, 5))\n",
    "plt.subplot(1, 2, 1)\n",
    "plt.scatter(X[:, 0], X[:, 1], color=\"blue\")\n",
    "plt.scatter(Bayes_Centers_01[:, 0], Bayes_Centers_01[:, 1], color=\"red\")\n"
   ]
  },
  {
   "cell_type": "code",
   "execution_count": 1006,
   "metadata": {},
   "outputs": [
    {
     "data": {
      "text/plain": [
       "tensor([[  0.5243,  -9.5567, -15.7553],\n",
       "        [-18.0407,  11.8694,   6.0076]])"
      ]
     },
     "execution_count": 1006,
     "metadata": {},
     "output_type": "execute_result"
    }
   ],
   "source": [
    "data.mean(axis = 0)"
   ]
  },
  {
   "cell_type": "code",
   "execution_count": 918,
   "metadata": {},
   "outputs": [
    {
     "data": {
      "text/plain": [
       "(tensor([-8.5926, -8.4093, -8.4686]), tensor([0.0025, 0.1109, 0.1479]))"
      ]
     },
     "execution_count": 918,
     "metadata": {},
     "output_type": "execute_result"
    }
   ],
   "source": [
    "Bayes_Centers_01[:, 0], Bayes_Centers_01[:, 1]"
   ]
  },
  {
   "cell_type": "code",
   "execution_count": 809,
   "metadata": {},
   "outputs": [
    {
     "data": {
      "text/plain": [
       "tensor([0.2742, 0.3301, 0.3957], grad_fn=<DivBackward0>)"
      ]
     },
     "execution_count": 809,
     "metadata": {},
     "output_type": "execute_result"
    }
   ],
   "source": [
    "pyro.param('phi')"
   ]
  },
  {
   "cell_type": "code",
   "execution_count": 793,
   "metadata": {},
   "outputs": [
    {
     "data": {
      "text/plain": [
       "<module 'torch.nn' from '/home/ollie/anaconda3/lib/python3.8/site-packages/torch/nn/__init__.py'>"
      ]
     },
     "execution_count": 793,
     "metadata": {},
     "output_type": "execute_result"
    }
   ],
   "source": [
    "nn"
   ]
  },
  {
   "cell_type": "code",
   "execution_count": 784,
   "metadata": {},
   "outputs": [
    {
     "name": "stdout",
     "output_type": "stream",
     "text": [
      "Automatic pdb calling has been turned ON\n"
     ]
    }
   ],
   "source": [
    "%pdb"
   ]
  },
  {
   "cell_type": "code",
   "execution_count": 961,
   "metadata": {},
   "outputs": [
    {
     "ename": "ValueError",
     "evalue": "maxlags must be None or strictly positive < 500",
     "output_type": "error",
     "traceback": [
      "\u001b[0;31m---------------------------------------------------------------------------\u001b[0m",
      "\u001b[0;31mValueError\u001b[0m                                Traceback (most recent call last)",
      "\u001b[0;32m<ipython-input-961-5196911c7581>\u001b[0m in \u001b[0;36m<module>\u001b[0;34m\u001b[0m\n\u001b[1;32m      9\u001b[0m \u001b[0;34m\u001b[0m\u001b[0m\n\u001b[1;32m     10\u001b[0m \u001b[0mautocorr_ax\u001b[0m \u001b[0;34m=\u001b[0m \u001b[0melbo_plot\u001b[0m\u001b[0;34m.\u001b[0m\u001b[0madd_subplot\u001b[0m\u001b[0;34m(\u001b[0m\u001b[0;36m1\u001b[0m\u001b[0;34m,\u001b[0m \u001b[0;36m2\u001b[0m\u001b[0;34m,\u001b[0m \u001b[0;36m2\u001b[0m\u001b[0;34m)\u001b[0m\u001b[0;34m\u001b[0m\u001b[0;34m\u001b[0m\u001b[0m\n\u001b[0;32m---> 11\u001b[0;31m \u001b[0mautocorr_ax\u001b[0m\u001b[0;34m.\u001b[0m\u001b[0macorr\u001b[0m\u001b[0;34m(\u001b[0m\u001b[0mnp\u001b[0m\u001b[0;34m.\u001b[0m\u001b[0masarray\u001b[0m\u001b[0;34m(\u001b[0m\u001b[0mlosses\u001b[0m\u001b[0;34m)\u001b[0m\u001b[0;34m,\u001b[0m \u001b[0mdetrend\u001b[0m\u001b[0;34m=\u001b[0m\u001b[0;32mlambda\u001b[0m \u001b[0mx\u001b[0m\u001b[0;34m:\u001b[0m \u001b[0mx\u001b[0m \u001b[0;34m-\u001b[0m \u001b[0mx\u001b[0m\u001b[0;34m.\u001b[0m\u001b[0mmean\u001b[0m\u001b[0;34m(\u001b[0m\u001b[0;34m)\u001b[0m\u001b[0;34m,\u001b[0m \u001b[0mmaxlags\u001b[0m\u001b[0;34m=\u001b[0m\u001b[0;36m750\u001b[0m\u001b[0;34m,\u001b[0m \u001b[0musevlines\u001b[0m\u001b[0;34m=\u001b[0m\u001b[0;32mFalse\u001b[0m\u001b[0;34m,\u001b[0m \u001b[0mmarker\u001b[0m\u001b[0;34m=\u001b[0m\u001b[0;34m','\u001b[0m\u001b[0;34m)\u001b[0m\u001b[0;34m\u001b[0m\u001b[0;34m\u001b[0m\u001b[0m\n\u001b[0m\u001b[1;32m     12\u001b[0m \u001b[0mautocorr_ax\u001b[0m\u001b[0;34m.\u001b[0m\u001b[0mset_xlim\u001b[0m\u001b[0;34m(\u001b[0m\u001b[0;36m0\u001b[0m\u001b[0;34m,\u001b[0m \u001b[0;36m500\u001b[0m\u001b[0;34m)\u001b[0m\u001b[0;34m\u001b[0m\u001b[0;34m\u001b[0m\u001b[0m\n\u001b[1;32m     13\u001b[0m \u001b[0mautocorr_ax\u001b[0m\u001b[0;34m.\u001b[0m\u001b[0maxhline\u001b[0m\u001b[0;34m(\u001b[0m\u001b[0;36m0\u001b[0m\u001b[0;34m,\u001b[0m \u001b[0mls\u001b[0m\u001b[0;34m=\u001b[0m\u001b[0;34m\"--\"\u001b[0m\u001b[0;34m,\u001b[0m \u001b[0mc\u001b[0m\u001b[0;34m=\u001b[0m\u001b[0;34m\"k\"\u001b[0m\u001b[0;34m,\u001b[0m \u001b[0mlw\u001b[0m\u001b[0;34m=\u001b[0m\u001b[0;36m1\u001b[0m\u001b[0;34m)\u001b[0m\u001b[0;34m\u001b[0m\u001b[0;34m\u001b[0m\u001b[0m\n",
      "\u001b[0;32m~/anaconda3/lib/python3.8/site-packages/matplotlib/__init__.py\u001b[0m in \u001b[0;36minner\u001b[0;34m(ax, data, *args, **kwargs)\u001b[0m\n\u001b[1;32m   1436\u001b[0m     \u001b[0;32mdef\u001b[0m \u001b[0minner\u001b[0m\u001b[0;34m(\u001b[0m\u001b[0max\u001b[0m\u001b[0;34m,\u001b[0m \u001b[0;34m*\u001b[0m\u001b[0margs\u001b[0m\u001b[0;34m,\u001b[0m \u001b[0mdata\u001b[0m\u001b[0;34m=\u001b[0m\u001b[0;32mNone\u001b[0m\u001b[0;34m,\u001b[0m \u001b[0;34m**\u001b[0m\u001b[0mkwargs\u001b[0m\u001b[0;34m)\u001b[0m\u001b[0;34m:\u001b[0m\u001b[0;34m\u001b[0m\u001b[0;34m\u001b[0m\u001b[0m\n\u001b[1;32m   1437\u001b[0m         \u001b[0;32mif\u001b[0m \u001b[0mdata\u001b[0m \u001b[0;32mis\u001b[0m \u001b[0;32mNone\u001b[0m\u001b[0;34m:\u001b[0m\u001b[0;34m\u001b[0m\u001b[0;34m\u001b[0m\u001b[0m\n\u001b[0;32m-> 1438\u001b[0;31m             \u001b[0;32mreturn\u001b[0m \u001b[0mfunc\u001b[0m\u001b[0;34m(\u001b[0m\u001b[0max\u001b[0m\u001b[0;34m,\u001b[0m \u001b[0;34m*\u001b[0m\u001b[0mmap\u001b[0m\u001b[0;34m(\u001b[0m\u001b[0msanitize_sequence\u001b[0m\u001b[0;34m,\u001b[0m \u001b[0margs\u001b[0m\u001b[0;34m)\u001b[0m\u001b[0;34m,\u001b[0m \u001b[0;34m**\u001b[0m\u001b[0mkwargs\u001b[0m\u001b[0;34m)\u001b[0m\u001b[0;34m\u001b[0m\u001b[0;34m\u001b[0m\u001b[0m\n\u001b[0m\u001b[1;32m   1439\u001b[0m \u001b[0;34m\u001b[0m\u001b[0m\n\u001b[1;32m   1440\u001b[0m         \u001b[0mbound\u001b[0m \u001b[0;34m=\u001b[0m \u001b[0mnew_sig\u001b[0m\u001b[0;34m.\u001b[0m\u001b[0mbind\u001b[0m\u001b[0;34m(\u001b[0m\u001b[0max\u001b[0m\u001b[0;34m,\u001b[0m \u001b[0;34m*\u001b[0m\u001b[0margs\u001b[0m\u001b[0;34m,\u001b[0m \u001b[0;34m**\u001b[0m\u001b[0mkwargs\u001b[0m\u001b[0;34m)\u001b[0m\u001b[0;34m\u001b[0m\u001b[0;34m\u001b[0m\u001b[0m\n",
      "\u001b[0;32m~/anaconda3/lib/python3.8/site-packages/matplotlib/axes/_axes.py\u001b[0m in \u001b[0;36macorr\u001b[0;34m(self, x, **kwargs)\u001b[0m\n\u001b[1;32m   2034\u001b[0m         \u001b[0;31m`\u001b[0m\u001b[0;31m`\u001b[0m\u001b[0mmode\u001b[0m \u001b[0;34m=\u001b[0m \u001b[0;34m\"full\"\u001b[0m\u001b[0;31m`\u001b[0m\u001b[0;31m`\u001b[0m\u001b[0;34m.\u001b[0m\u001b[0;34m\u001b[0m\u001b[0;34m\u001b[0m\u001b[0m\n\u001b[1;32m   2035\u001b[0m         \"\"\"\n\u001b[0;32m-> 2036\u001b[0;31m         \u001b[0;32mreturn\u001b[0m \u001b[0mself\u001b[0m\u001b[0;34m.\u001b[0m\u001b[0mxcorr\u001b[0m\u001b[0;34m(\u001b[0m\u001b[0mx\u001b[0m\u001b[0;34m,\u001b[0m \u001b[0mx\u001b[0m\u001b[0;34m,\u001b[0m \u001b[0;34m**\u001b[0m\u001b[0mkwargs\u001b[0m\u001b[0;34m)\u001b[0m\u001b[0;34m\u001b[0m\u001b[0;34m\u001b[0m\u001b[0m\n\u001b[0m\u001b[1;32m   2037\u001b[0m \u001b[0;34m\u001b[0m\u001b[0m\n\u001b[1;32m   2038\u001b[0m     \u001b[0;34m@\u001b[0m\u001b[0m_preprocess_data\u001b[0m\u001b[0;34m(\u001b[0m\u001b[0mreplace_names\u001b[0m\u001b[0;34m=\u001b[0m\u001b[0;34m[\u001b[0m\u001b[0;34m\"x\"\u001b[0m\u001b[0;34m,\u001b[0m \u001b[0;34m\"y\"\u001b[0m\u001b[0;34m]\u001b[0m\u001b[0;34m,\u001b[0m \u001b[0mlabel_namer\u001b[0m\u001b[0;34m=\u001b[0m\u001b[0;34m\"y\"\u001b[0m\u001b[0;34m)\u001b[0m\u001b[0;34m\u001b[0m\u001b[0;34m\u001b[0m\u001b[0m\n",
      "\u001b[0;32m~/anaconda3/lib/python3.8/site-packages/matplotlib/__init__.py\u001b[0m in \u001b[0;36minner\u001b[0;34m(ax, data, *args, **kwargs)\u001b[0m\n\u001b[1;32m   1436\u001b[0m     \u001b[0;32mdef\u001b[0m \u001b[0minner\u001b[0m\u001b[0;34m(\u001b[0m\u001b[0max\u001b[0m\u001b[0;34m,\u001b[0m \u001b[0;34m*\u001b[0m\u001b[0margs\u001b[0m\u001b[0;34m,\u001b[0m \u001b[0mdata\u001b[0m\u001b[0;34m=\u001b[0m\u001b[0;32mNone\u001b[0m\u001b[0;34m,\u001b[0m \u001b[0;34m**\u001b[0m\u001b[0mkwargs\u001b[0m\u001b[0;34m)\u001b[0m\u001b[0;34m:\u001b[0m\u001b[0;34m\u001b[0m\u001b[0;34m\u001b[0m\u001b[0m\n\u001b[1;32m   1437\u001b[0m         \u001b[0;32mif\u001b[0m \u001b[0mdata\u001b[0m \u001b[0;32mis\u001b[0m \u001b[0;32mNone\u001b[0m\u001b[0;34m:\u001b[0m\u001b[0;34m\u001b[0m\u001b[0;34m\u001b[0m\u001b[0m\n\u001b[0;32m-> 1438\u001b[0;31m             \u001b[0;32mreturn\u001b[0m \u001b[0mfunc\u001b[0m\u001b[0;34m(\u001b[0m\u001b[0max\u001b[0m\u001b[0;34m,\u001b[0m \u001b[0;34m*\u001b[0m\u001b[0mmap\u001b[0m\u001b[0;34m(\u001b[0m\u001b[0msanitize_sequence\u001b[0m\u001b[0;34m,\u001b[0m \u001b[0margs\u001b[0m\u001b[0;34m)\u001b[0m\u001b[0;34m,\u001b[0m \u001b[0;34m**\u001b[0m\u001b[0mkwargs\u001b[0m\u001b[0;34m)\u001b[0m\u001b[0;34m\u001b[0m\u001b[0;34m\u001b[0m\u001b[0m\n\u001b[0m\u001b[1;32m   1439\u001b[0m \u001b[0;34m\u001b[0m\u001b[0m\n\u001b[1;32m   1440\u001b[0m         \u001b[0mbound\u001b[0m \u001b[0;34m=\u001b[0m \u001b[0mnew_sig\u001b[0m\u001b[0;34m.\u001b[0m\u001b[0mbind\u001b[0m\u001b[0;34m(\u001b[0m\u001b[0max\u001b[0m\u001b[0;34m,\u001b[0m \u001b[0;34m*\u001b[0m\u001b[0margs\u001b[0m\u001b[0;34m,\u001b[0m \u001b[0;34m**\u001b[0m\u001b[0mkwargs\u001b[0m\u001b[0;34m)\u001b[0m\u001b[0;34m\u001b[0m\u001b[0;34m\u001b[0m\u001b[0m\n",
      "\u001b[0;32m~/anaconda3/lib/python3.8/site-packages/matplotlib/axes/_axes.py\u001b[0m in \u001b[0;36mxcorr\u001b[0;34m(self, x, y, normed, detrend, usevlines, maxlags, **kwargs)\u001b[0m\n\u001b[1;32m   2124\u001b[0m \u001b[0;34m\u001b[0m\u001b[0m\n\u001b[1;32m   2125\u001b[0m         \u001b[0;32mif\u001b[0m \u001b[0mmaxlags\u001b[0m \u001b[0;34m>=\u001b[0m \u001b[0mNx\u001b[0m \u001b[0;32mor\u001b[0m \u001b[0mmaxlags\u001b[0m \u001b[0;34m<\u001b[0m \u001b[0;36m1\u001b[0m\u001b[0;34m:\u001b[0m\u001b[0;34m\u001b[0m\u001b[0;34m\u001b[0m\u001b[0m\n\u001b[0;32m-> 2126\u001b[0;31m             raise ValueError('maxlags must be None or strictly '\n\u001b[0m\u001b[1;32m   2127\u001b[0m                              'positive < %d' % Nx)\n\u001b[1;32m   2128\u001b[0m \u001b[0;34m\u001b[0m\u001b[0m\n",
      "\u001b[0;31mValueError\u001b[0m: maxlags must be None or strictly positive < 500"
     ]
    },
    {
     "name": "stdout",
     "output_type": "stream",
     "text": [
      "> \u001b[0;32m/home/ollie/anaconda3/lib/python3.8/site-packages/matplotlib/axes/_axes.py\u001b[0m(2126)\u001b[0;36mxcorr\u001b[0;34m()\u001b[0m\n",
      "\u001b[0;32m   2124 \u001b[0;31m\u001b[0;34m\u001b[0m\u001b[0m\n",
      "\u001b[0m\u001b[0;32m   2125 \u001b[0;31m        \u001b[0;32mif\u001b[0m \u001b[0mmaxlags\u001b[0m \u001b[0;34m>=\u001b[0m \u001b[0mNx\u001b[0m \u001b[0;32mor\u001b[0m \u001b[0mmaxlags\u001b[0m \u001b[0;34m<\u001b[0m \u001b[0;36m1\u001b[0m\u001b[0;34m:\u001b[0m\u001b[0;34m\u001b[0m\u001b[0;34m\u001b[0m\u001b[0m\n",
      "\u001b[0m\u001b[0;32m-> 2126 \u001b[0;31m            raise ValueError('maxlags must be None or strictly '\n",
      "\u001b[0m\u001b[0;32m   2127 \u001b[0;31m                             'positive < %d' % Nx)\n",
      "\u001b[0m\u001b[0;32m   2128 \u001b[0;31m\u001b[0;34m\u001b[0m\u001b[0m\n",
      "\u001b[0m\n",
      "ipdb> c\n"
     ]
    },
    {
     "data": {
      "image/png": "[encoded data removed]",
      "text/plain": [
       "<Figure size 1080x360 with 2 Axes>"
      ]
     },
     "metadata": {
      "needs_background": "light"
     },
     "output_type": "display_data"
    }
   ],
   "source": [
    "elbo_plot = plt.figure(figsize=(15, 5))\n",
    "\n",
    "elbo_ax = elbo_plot.add_subplot(1, 2, 1)\n",
    "# elbo_ax.set_title(\"ELBO Value vs. Iteration Number for Pyro BBVI on Sunspot Data\")\n",
    "elbo_ax.set_ylabel(\"ELBO\")\n",
    "elbo_ax.set_xlabel(\"Iteration Number\")\n",
    "elbo_ax.plot(np.arange(n_iter), losses)\n",
    "#elbo_ax.semilogy()\n",
    "\n",
    "autocorr_ax = elbo_plot.add_subplot(1, 2, 2)\n",
    "autocorr_ax.acorr(np.asarray(losses), detrend=lambda x: x - x.mean(), maxlags=750, usevlines=False, marker=',')\n",
    "autocorr_ax.set_xlim(0, 500)\n",
    "autocorr_ax.axhline(0, ls=\"--\", c=\"k\", lw=1)\n",
    "# autocorr_ax.set_title(\"Autocorrelation of ELBO vs. Lag for Pyro BBVI on Sunspot Data\")\n",
    "autocorr_ax.set_xlabel(\"Lag\")\n",
    "autocorr_ax.set_ylabel(\"Autocorrelation\")\n",
    "elbo_plot.tight_layout()\n",
    "plt.show()"
   ]
  },
  {
   "cell_type": "code",
   "execution_count": 628,
   "metadata": {
    "scrolled": true
   },
   "outputs": [],
   "source": [
    "# pyro.deterministic('obs', torch.einsum('...ji,...j->...i', ndsample, z), obs=data)"
   ]
  },
  {
   "cell_type": "code",
   "execution_count": null,
   "metadata": {},
   "outputs": [],
   "source": [
    "from torch.distributions.transforms import *"
   ]
  },
  {
   "cell_type": "code",
   "execution_count": 745,
   "metadata": {},
   "outputs": [],
   "source": [
    "alpha = 1\n",
    "with pyro.plate(\"beta_plate\", T-1):\n",
    "    beta = pyro.sample(\"beta\", Beta(1, alpha))\n",
    "\n",
    "with pyro.plate(\"mu_plate\", T):\n",
    "    mu = pyro.sample(\"mu\", MultivariateNormal(torch.zeros(ndim), 10 * torch.eye(ndim)))"
   ]
  },
  {
   "cell_type": "code",
   "execution_count": 746,
   "metadata": {},
   "outputs": [],
   "source": [
    "# with pyro.plate(\"data\", N):\n",
    "# #         z = pyro.sample(\"z\", Categorical(mix_weights(beta)))\n",
    "# #         pyro.sample(\"obs\", MultivariateNormal(mu[z], torch.eye(ndim)), obs=data)\n",
    "#     weights = mix_weights(beta)\n",
    "\n",
    "#     z = pyro.sample(\"z\", Dirichlet(mix_weights(beta)))\n",
    "#     ndsample = pyro.sample('ndsample', MultivariateNormal(mu, torch.eye(ndim) / 2).to_event(1))\n",
    "#     foo = pyro.sample('obs', Normal(torch.einsum('...ji,...j->...i', ndsample, z),\n",
    "#                                    observation_sigma).to_event(1))"
   ]
  },
  {
   "cell_type": "code",
   "execution_count": 748,
   "metadata": {},
   "outputs": [],
   "source": [
    "with pyro.plate(\"data\", N):\n",
    "#         z = pyro.sample(\"z\", Categorical(mix_weights(beta)))\n",
    "#         pyro.sample(\"obs\", MultivariateNormal(mu[z], torch.eye(ndim)), obs=data)\n",
    "        phase_weights = pyro.sample(\"phase_weights\", Dirichlet(mix_weights(beta)))\n",
    "        #ndsample = pyro.sample('ndsample', MultivariateNormal(mu, torch.eye(ndim) / 2).to_event(1))\n",
    "        weighted_expectation = torch.einsum('...ji,...j->...i', mu, phase_weights)\n",
    "        foo = pyro.sample('foo', Normal(weighted_expectation,\n",
    "                                   observation_sigma).to_event(1))"
   ]
  },
  {
   "cell_type": "code",
   "execution_count": 730,
   "metadata": {},
   "outputs": [
    {
     "data": {
      "text/plain": [
       "<matplotlib.collections.PathCollection at 0x7f038e6c9340>"
      ]
     },
     "execution_count": 730,
     "metadata": {},
     "output_type": "execute_result"
    },
    {
     "data": {
      "image/png": "[encoded data removed]",
      "text/plain": [
       "<Figure size 432x288 with 1 Axes>"
      ]
     },
     "metadata": {
      "needs_background": "light"
     },
     "output_type": "display_data"
    }
   ],
   "source": [
    "#ndsample = pyro.sample('ndsample', MultivariateNormal(mu, torch.eye(ndim)).to_event(1))\n",
    "#foo = torch.einsum('...ji,...j->...i', ndsample, z)\n",
    "plt.scatter(*np.array(foo.T), s = 5)"
   ]
  },
  {
   "cell_type": "code",
   "execution_count": 654,
   "metadata": {},
   "outputs": [
    {
     "data": {
      "text/plain": [
       "torch.Size([1000, 2])"
      ]
     },
     "execution_count": 654,
     "metadata": {},
     "output_type": "execute_result"
    }
   ],
   "source": [
    "model(data).shape"
   ]
  },
  {
   "cell_type": "code",
   "execution_count": 650,
   "metadata": {
    "collapsed": true
   },
   "outputs": [
    {
     "ename": "TypeError",
     "evalue": "scatter() got multiple values for argument 's'",
     "output_type": "error",
     "traceback": [
      "\u001b[0;31m---------------------------------------------------------------------------\u001b[0m",
      "\u001b[0;31mTypeError\u001b[0m                                 Traceback (most recent call last)",
      "\u001b[0;32m<ipython-input-650-fc78b8b55ce2>\u001b[0m in \u001b[0;36m<module>\u001b[0;34m\u001b[0m\n\u001b[0;32m----> 1\u001b[0;31m \u001b[0mplt\u001b[0m\u001b[0;34m.\u001b[0m\u001b[0mscatter\u001b[0m\u001b[0;34m(\u001b[0m\u001b[0;34m*\u001b[0m\u001b[0mnp\u001b[0m\u001b[0;34m.\u001b[0m\u001b[0marray\u001b[0m\u001b[0;34m(\u001b[0m\u001b[0mmodel\u001b[0m\u001b[0;34m(\u001b[0m\u001b[0mdata\u001b[0m\u001b[0;34m)\u001b[0m\u001b[0;34m.\u001b[0m\u001b[0mT\u001b[0m\u001b[0;34m)\u001b[0m\u001b[0;34m,\u001b[0m \u001b[0ms\u001b[0m \u001b[0;34m=\u001b[0m \u001b[0;36m5\u001b[0m\u001b[0;34m)\u001b[0m\u001b[0;34m\u001b[0m\u001b[0;34m\u001b[0m\u001b[0m\n\u001b[0m",
      "\u001b[0;31mTypeError\u001b[0m: scatter() got multiple values for argument 's'"
     ]
    }
   ],
   "source": [
    "plt.scatter(*np.array(foo.T), s = 5)"
   ]
  },
  {
   "cell_type": "code",
   "execution_count": null,
   "metadata": {},
   "outputs": [],
   "source": [
    "# with pyro.plate(\"data\", N):\n",
    "# #         z = pyro.sample(\"z\", Categorical(mix_weights(beta)))\n",
    "# #         pyro.sample(\"obs\", MultivariateNormal(mu[z], torch.eye(ndim)), obs=data)\n",
    "#     weights = mix_weights(beta)\n",
    "\n",
    "#     z = pyro.sample(\"z\", Dirichlet(mix_weights(beta)))[..., None]\n",
    "#     #z_dist = Dirichlet(mix_weights(beta))\n",
    "#     spatial_dist = MultivariateNormal(mu, torch.eye(ndim) / 2).to_event(1)\n",
    "    \n",
    "#     #ndsample = pyro.sample('ndsample', MultivariateNormal(mu, torch.eye(ndim) / 2).to_event(1))\n",
    "#     #foo = pyro.deterministic('obs', torch.einsum('...ji,...j->...i', ndsample, z))\n",
    "#     foo = pyro.sample('foo', TransformedDistribution(\n",
    "#         spatial_dist, AffineTransform(0, z, event_dim = 1)))"
   ]
  },
  {
   "cell_type": "code",
   "execution_count": 749,
   "metadata": {},
   "outputs": [
    {
     "data": {
      "text/plain": [
       "torch.Size([1000, 2])"
      ]
     },
     "execution_count": 749,
     "metadata": {},
     "output_type": "execute_result"
    }
   ],
   "source": [
    "foo.shape"
   ]
  },
  {
   "cell_type": "code",
   "execution_count": 232,
   "metadata": {
    "collapsed": true
   },
   "outputs": [
    {
     "ename": "TypeError",
     "evalue": "'Tensor' object is not callable",
     "output_type": "error",
     "traceback": [
      "\u001b[0;31m---------------------------------------------------------------------------\u001b[0m",
      "\u001b[0;31mTypeError\u001b[0m                                 Traceback (most recent call last)",
      "\u001b[0;32m<ipython-input-232-384be80ebcbe>\u001b[0m in \u001b[0;36m<module>\u001b[0;34m\u001b[0m\n\u001b[1;32m      1\u001b[0m \u001b[0;32mwith\u001b[0m \u001b[0mpyro\u001b[0m\u001b[0;34m.\u001b[0m\u001b[0mplate\u001b[0m\u001b[0;34m(\u001b[0m\u001b[0;34m\"data2\"\u001b[0m\u001b[0;34m,\u001b[0m \u001b[0mN\u001b[0m\u001b[0;34m)\u001b[0m\u001b[0;34m:\u001b[0m\u001b[0;34m\u001b[0m\u001b[0;34m\u001b[0m\u001b[0m\n\u001b[0;32m----> 2\u001b[0;31m     \u001b[0mzz\u001b[0m \u001b[0;34m=\u001b[0m \u001b[0mpyro\u001b[0m\u001b[0;34m.\u001b[0m\u001b[0msample\u001b[0m\u001b[0;34m(\u001b[0m\u001b[0;34m\"zz\"\u001b[0m\u001b[0;34m,\u001b[0m \u001b[0mmix_weights\u001b[0m\u001b[0;34m(\u001b[0m\u001b[0mbeta\u001b[0m\u001b[0;34m)\u001b[0m\u001b[0;34m)\u001b[0m\u001b[0;34m\u001b[0m\u001b[0;34m\u001b[0m\u001b[0m\n\u001b[0m",
      "\u001b[0;32m~/anaconda3/lib/python3.8/site-packages/pyro/primitives.py\u001b[0m in \u001b[0;36msample\u001b[0;34m(name, fn, *args, **kwargs)\u001b[0m\n\u001b[1;32m    161\u001b[0m         }\n\u001b[1;32m    162\u001b[0m         \u001b[0;31m# apply the stack and return its return value\u001b[0m\u001b[0;34m\u001b[0m\u001b[0;34m\u001b[0m\u001b[0;34m\u001b[0m\u001b[0m\n\u001b[0;32m--> 163\u001b[0;31m         \u001b[0mapply_stack\u001b[0m\u001b[0;34m(\u001b[0m\u001b[0mmsg\u001b[0m\u001b[0;34m)\u001b[0m\u001b[0;34m\u001b[0m\u001b[0;34m\u001b[0m\u001b[0m\n\u001b[0m\u001b[1;32m    164\u001b[0m         \u001b[0;32mreturn\u001b[0m \u001b[0mmsg\u001b[0m\u001b[0;34m[\u001b[0m\u001b[0;34m\"value\"\u001b[0m\u001b[0;34m]\u001b[0m\u001b[0;34m\u001b[0m\u001b[0;34m\u001b[0m\u001b[0m\n\u001b[1;32m    165\u001b[0m \u001b[0;34m\u001b[0m\u001b[0m\n",
      "\u001b[0;32m~/anaconda3/lib/python3.8/site-packages/pyro/poutine/runtime.py\u001b[0m in \u001b[0;36mapply_stack\u001b[0;34m(initial_msg)\u001b[0m\n\u001b[1;32m    216\u001b[0m             \u001b[0;32mbreak\u001b[0m\u001b[0;34m\u001b[0m\u001b[0;34m\u001b[0m\u001b[0m\n\u001b[1;32m    217\u001b[0m \u001b[0;34m\u001b[0m\u001b[0m\n\u001b[0;32m--> 218\u001b[0;31m     \u001b[0mdefault_process_message\u001b[0m\u001b[0;34m(\u001b[0m\u001b[0mmsg\u001b[0m\u001b[0;34m)\u001b[0m\u001b[0;34m\u001b[0m\u001b[0;34m\u001b[0m\u001b[0m\n\u001b[0m\u001b[1;32m    219\u001b[0m \u001b[0;34m\u001b[0m\u001b[0m\n\u001b[1;32m    220\u001b[0m     \u001b[0;32mfor\u001b[0m \u001b[0mframe\u001b[0m \u001b[0;32min\u001b[0m \u001b[0mstack\u001b[0m\u001b[0;34m[\u001b[0m\u001b[0;34m-\u001b[0m\u001b[0mpointer\u001b[0m\u001b[0;34m:\u001b[0m\u001b[0;34m]\u001b[0m\u001b[0;34m:\u001b[0m\u001b[0;34m\u001b[0m\u001b[0;34m\u001b[0m\u001b[0m\n",
      "\u001b[0;32m~/anaconda3/lib/python3.8/site-packages/pyro/poutine/runtime.py\u001b[0m in \u001b[0;36mdefault_process_message\u001b[0;34m(msg)\u001b[0m\n\u001b[1;32m    177\u001b[0m         \u001b[0;32mreturn\u001b[0m \u001b[0mmsg\u001b[0m\u001b[0;34m\u001b[0m\u001b[0;34m\u001b[0m\u001b[0m\n\u001b[1;32m    178\u001b[0m \u001b[0;34m\u001b[0m\u001b[0m\n\u001b[0;32m--> 179\u001b[0;31m     \u001b[0mmsg\u001b[0m\u001b[0;34m[\u001b[0m\u001b[0;34m\"value\"\u001b[0m\u001b[0;34m]\u001b[0m \u001b[0;34m=\u001b[0m \u001b[0mmsg\u001b[0m\u001b[0;34m[\u001b[0m\u001b[0;34m\"fn\"\u001b[0m\u001b[0;34m]\u001b[0m\u001b[0;34m(\u001b[0m\u001b[0;34m*\u001b[0m\u001b[0mmsg\u001b[0m\u001b[0;34m[\u001b[0m\u001b[0;34m\"args\"\u001b[0m\u001b[0;34m]\u001b[0m\u001b[0;34m,\u001b[0m \u001b[0;34m**\u001b[0m\u001b[0mmsg\u001b[0m\u001b[0;34m[\u001b[0m\u001b[0;34m\"kwargs\"\u001b[0m\u001b[0;34m]\u001b[0m\u001b[0;34m)\u001b[0m\u001b[0;34m\u001b[0m\u001b[0;34m\u001b[0m\u001b[0m\n\u001b[0m\u001b[1;32m    180\u001b[0m \u001b[0;34m\u001b[0m\u001b[0m\n\u001b[1;32m    181\u001b[0m     \u001b[0;31m# after fn has been called, update msg to prevent it from being called again.\u001b[0m\u001b[0;34m\u001b[0m\u001b[0;34m\u001b[0m\u001b[0;34m\u001b[0m\u001b[0m\n",
      "\u001b[0;31mTypeError\u001b[0m: 'Tensor' object is not callable"
     ]
    }
   ],
   "source": [
    "with pyro.plate(\"data2\", N):\n",
    "    zz = pyro.sample(\"zz\", mix_weights(beta))"
   ]
  },
  {
   "cell_type": "code",
   "execution_count": 220,
   "metadata": {
    "collapsed": true
   },
   "outputs": [
    {
     "ename": "TypeError",
     "evalue": "expected Tensor as element 0 in argument 1, but got MultivariateNormal",
     "output_type": "error",
     "traceback": [
      "\u001b[0;31m---------------------------------------------------------------------------\u001b[0m",
      "\u001b[0;31mTypeError\u001b[0m                                 Traceback (most recent call last)",
      "\u001b[0;32m<ipython-input-220-0cbefa037ebb>\u001b[0m in \u001b[0;36m<module>\u001b[0;34m\u001b[0m\n\u001b[0;32m----> 1\u001b[0;31m \u001b[0mtorch\u001b[0m\u001b[0;34m.\u001b[0m\u001b[0meinsum\u001b[0m\u001b[0;34m(\u001b[0m\u001b[0;34m'...ji,...j->...i'\u001b[0m\u001b[0;34m,\u001b[0m \u001b[0mMultivariateNormal\u001b[0m\u001b[0;34m(\u001b[0m\u001b[0mmu\u001b[0m\u001b[0;34m,\u001b[0m \u001b[0mtorch\u001b[0m\u001b[0;34m.\u001b[0m\u001b[0meye\u001b[0m\u001b[0;34m(\u001b[0m\u001b[0mndim\u001b[0m\u001b[0;34m)\u001b[0m\u001b[0;34m)\u001b[0m\u001b[0;34m,\u001b[0m \u001b[0mz\u001b[0m\u001b[0;34m)\u001b[0m\u001b[0;34m\u001b[0m\u001b[0;34m\u001b[0m\u001b[0m\n\u001b[0m",
      "\u001b[0;32m~/anaconda3/lib/python3.8/site-packages/torch/functional.py\u001b[0m in \u001b[0;36meinsum\u001b[0;34m(*args)\u001b[0m\n\u001b[1;32m    325\u001b[0m         \u001b[0;32mreturn\u001b[0m \u001b[0meinsum\u001b[0m\u001b[0;34m(\u001b[0m\u001b[0mequation\u001b[0m\u001b[0;34m,\u001b[0m \u001b[0;34m*\u001b[0m\u001b[0m_operands\u001b[0m\u001b[0;34m)\u001b[0m\u001b[0;34m\u001b[0m\u001b[0;34m\u001b[0m\u001b[0m\n\u001b[1;32m    326\u001b[0m \u001b[0;34m\u001b[0m\u001b[0m\n\u001b[0;32m--> 327\u001b[0;31m     \u001b[0;32mreturn\u001b[0m \u001b[0m_VF\u001b[0m\u001b[0;34m.\u001b[0m\u001b[0meinsum\u001b[0m\u001b[0;34m(\u001b[0m\u001b[0mequation\u001b[0m\u001b[0;34m,\u001b[0m \u001b[0moperands\u001b[0m\u001b[0;34m)\u001b[0m  \u001b[0;31m# type: ignore[attr-defined]\u001b[0m\u001b[0;34m\u001b[0m\u001b[0;34m\u001b[0m\u001b[0m\n\u001b[0m\u001b[1;32m    328\u001b[0m \u001b[0;34m\u001b[0m\u001b[0m\n\u001b[1;32m    329\u001b[0m \u001b[0;34m\u001b[0m\u001b[0m\n",
      "\u001b[0;31mTypeError\u001b[0m: expected Tensor as element 0 in argument 1, but got MultivariateNormal"
     ]
    }
   ],
   "source": [
    "torch.einsum('...ji,...j->...i', MultivariateNormal(mu, torch.eye(ndim)), z)"
   ]
  },
  {
   "cell_type": "code",
   "execution_count": 219,
   "metadata": {
    "scrolled": true
   },
   "outputs": [
    {
     "data": {
      "text/plain": [
       "torch.Size([1000, 2, 3])"
      ]
     },
     "execution_count": 219,
     "metadata": {},
     "output_type": "execute_result"
    }
   ],
   "source": [
    "data.shape"
   ]
  },
  {
   "cell_type": "code",
   "execution_count": 218,
   "metadata": {},
   "outputs": [
    {
     "data": {
      "text/plain": [
       "torch.Size([10, 2])"
      ]
     },
     "execution_count": 218,
     "metadata": {},
     "output_type": "execute_result"
    }
   ],
   "source": [
    "MultivariateNormal(mu, torch.eye(ndim)).sample().shape"
   ]
  },
  {
   "cell_type": "code",
   "execution_count": 204,
   "metadata": {},
   "outputs": [
    {
     "data": {
      "text/plain": [
       "torch.Size([10, 2])"
      ]
     },
     "execution_count": 204,
     "metadata": {},
     "output_type": "execute_result"
    }
   ],
   "source": [
    "mu.shape"
   ]
  },
  {
   "cell_type": "code",
   "execution_count": 202,
   "metadata": {
    "collapsed": true
   },
   "outputs": [
    {
     "data": {
      "text/plain": [
       "tensor([1, 1, 0, 1, 3, 1, 0, 3, 1, 1, 0, 0, 0, 0, 3, 0, 1, 1, 0, 0, 0, 1, 0, 0,\n",
       "        0, 0, 3, 0, 0, 0, 0, 1, 0, 0, 3, 3, 0, 1, 0, 0, 0, 0, 0, 1, 0, 0, 1, 1,\n",
       "        0, 0, 1, 1, 0, 3, 0, 1, 0, 0, 0, 0, 0, 0, 1, 1, 1, 3, 2, 3, 0, 1, 1, 0,\n",
       "        1, 0, 1, 0, 1, 0, 1, 0, 0, 1, 1, 1, 0, 2, 0, 0, 0, 1, 1, 3, 0, 0, 0, 0,\n",
       "        1, 1, 1, 0, 0, 1, 0, 0, 1, 0, 0, 1, 0, 0, 0, 3, 1, 0, 0, 0, 3, 2, 3, 1,\n",
       "        0, 0, 1, 0, 0, 1, 1, 0, 1, 1, 0, 0, 0, 1, 0, 1, 1, 2, 0, 0, 0, 1, 1, 1,\n",
       "        0, 0, 2, 1, 0, 1, 1, 0, 1, 1, 0, 1, 0, 1, 0, 0, 0, 0, 0, 0, 1, 0, 0, 3,\n",
       "        0, 0, 0, 1, 2, 1, 3, 1, 0, 0, 0, 3, 1, 3, 0, 0, 0, 1, 1, 0, 0, 0, 0, 1,\n",
       "        0, 0, 1, 1, 1, 0, 1, 1, 0, 1, 1, 0, 0, 1, 1, 3, 0, 1, 1, 1, 1, 1, 1, 0,\n",
       "        0, 2, 0, 0, 0, 1, 0, 0, 1, 0, 2, 1, 0, 0, 3, 1, 0, 0, 1, 0, 2, 1, 0, 0,\n",
       "        0, 1, 0, 1, 1, 1, 0, 4, 0, 0, 1, 1, 3, 0, 0, 0, 3, 0, 0, 0, 1, 0, 0, 0,\n",
       "        1, 1, 4, 3, 0, 0, 0, 1, 3, 0, 1, 0, 0, 3, 1, 0, 0, 0, 0, 1, 0, 3, 0, 0,\n",
       "        0, 1, 0, 1, 1, 3, 0, 1, 0, 1, 1, 1, 1, 0, 0, 1, 0, 0, 1, 0, 0, 1, 0, 0,\n",
       "        0, 1, 3, 0, 0, 0, 1, 0, 0, 3, 1, 0, 1, 0, 0, 0, 0, 3, 0, 0, 0, 1, 0, 0,\n",
       "        1, 0, 0, 1, 0, 3, 3, 1, 1, 1, 0, 1, 3, 0, 1, 1, 0, 1, 0, 1, 1, 0, 1, 0,\n",
       "        0, 0, 1, 0, 0, 0, 0, 1, 1, 3, 0, 0, 1, 0, 0, 0, 0, 1, 3, 1, 1, 0, 0, 3,\n",
       "        3, 0, 0, 0, 1, 1, 3, 1, 1, 0, 1, 0, 0, 1, 0, 0, 3, 1, 0, 1, 0, 0, 1, 0,\n",
       "        0, 0, 0, 1, 1, 0, 1, 0, 1, 0, 0, 0, 0, 1, 1, 1, 1, 2, 1, 2, 1, 0, 3, 1,\n",
       "        0, 1, 3, 0, 0, 0, 1, 3, 2, 0, 0, 1, 3, 0, 1, 3, 0, 0, 1, 3, 1, 0, 0, 1,\n",
       "        0, 0, 1, 0, 1, 0, 1, 1, 0, 3, 1, 1, 0, 1, 1, 0, 0, 0, 0, 0, 0, 0, 0, 0,\n",
       "        0, 1, 0, 0, 0, 1, 0, 0, 0, 1, 0, 1, 1, 0, 0, 3, 1, 0, 0, 0, 1, 1, 0, 0,\n",
       "        0, 0, 1, 2, 3, 3, 3, 0, 0, 0, 1, 1, 0, 1, 1, 1, 3, 0, 0, 0, 3, 0, 0, 3,\n",
       "        0, 1, 1, 0, 0, 1, 3, 0, 0, 0, 1, 1, 0, 0, 0, 0, 0, 0, 0, 1, 0, 0, 0, 1,\n",
       "        1, 0, 1, 0, 3, 1, 0, 3, 4, 0, 0, 0, 1, 1, 0, 1, 0, 1, 0, 0, 0, 0, 1, 0,\n",
       "        0, 0, 3, 1, 0, 0, 0, 0, 1, 0, 5, 0, 1, 1, 1, 0, 0, 1, 0, 0, 0, 1, 0, 0,\n",
       "        3, 0, 0, 0, 0, 0, 1, 0, 0, 0, 0, 1, 0, 1, 0, 1, 1, 3, 0, 3, 1, 0, 1, 0,\n",
       "        3, 2, 0, 3, 0, 0, 1, 0, 0, 3, 1, 0, 1, 3, 1, 0, 0, 1, 0, 2, 1, 0, 1, 1,\n",
       "        0, 1, 0, 0, 0, 1, 0, 1, 0, 0, 1, 0, 0, 0, 1, 0, 0, 0, 0, 3, 1, 0, 0, 3,\n",
       "        3, 0, 0, 0, 1, 1, 0, 0, 1, 0, 1, 3, 3, 0, 0, 0, 0, 3, 0, 1, 0, 3, 0, 0,\n",
       "        1, 0, 0, 0, 1, 0, 1, 2, 0, 3, 0, 0, 0, 1, 0, 3, 1, 0, 0, 1, 0, 1, 0, 2,\n",
       "        0, 1, 0, 1, 0, 0, 1, 3, 0, 1, 3, 0, 1, 0, 1, 0, 0, 0, 3, 1, 1, 1, 1, 1,\n",
       "        0, 1, 0, 0, 1, 3, 3, 2, 0, 2, 0, 0, 0, 0, 0, 1, 3, 0, 0, 2, 0, 3, 0, 0,\n",
       "        0, 0, 0, 1, 0, 0, 0, 1, 0, 0, 1, 0, 1, 1, 0, 1, 2, 1, 0, 0, 1, 1, 0, 0,\n",
       "        0, 0, 0, 0, 1, 3, 1, 0, 0, 0, 1, 1, 1, 0, 1, 0, 0, 0, 0, 4, 0, 0, 1, 0,\n",
       "        0, 1, 0, 3, 0, 0, 0, 3, 0, 0, 0, 0, 0, 0, 3, 0, 1, 1, 0, 3, 0, 0, 0, 0,\n",
       "        1, 1, 0, 3, 0, 1, 3, 3, 0, 0, 0, 0, 1, 1, 0, 1, 1, 1, 0, 0, 0, 0, 0, 0,\n",
       "        0, 0, 2, 2, 2, 0, 0, 0, 0, 0, 0, 0, 1, 1, 2, 0, 0, 1, 0, 0, 0, 3, 0, 0,\n",
       "        0, 0, 1, 1, 0, 1, 0, 0, 0, 1, 0, 0, 1, 3, 1, 0, 0, 0, 0, 0, 0, 1, 0, 0,\n",
       "        1, 0, 3, 0, 0, 1, 1, 1, 1, 0, 0, 1, 0, 3, 0, 0, 1, 0, 0, 0, 0, 0, 1, 0,\n",
       "        0, 3, 0, 0, 3, 6, 0, 0, 0, 0, 0, 1, 1, 1, 1, 0, 0, 0, 1, 0, 0, 1, 3, 2,\n",
       "        1, 0, 0, 1, 3, 0, 0, 3, 1, 0, 3, 0, 1, 0, 1, 1, 1, 0, 1, 0, 1, 0, 3, 0,\n",
       "        0, 1, 0, 3, 1, 0, 0, 0, 0, 1, 0, 0, 3, 2, 1, 0])"
      ]
     },
     "execution_count": 202,
     "metadata": {},
     "output_type": "execute_result"
    }
   ],
   "source": [
    "z"
   ]
  },
  {
   "cell_type": "code",
   "execution_count": 200,
   "metadata": {},
   "outputs": [
    {
     "data": {
      "text/plain": [
       "tensor([5.4550e-01, 3.2146e-01, 2.9718e-02, 9.6878e-02, 2.6278e-03, 1.4487e-03,\n",
       "        1.6422e-03, 6.7143e-04, 5.2240e-05, 6.4042e-06])"
      ]
     },
     "execution_count": 200,
     "metadata": {},
     "output_type": "execute_result"
    }
   ],
   "source": [
    "mix_weights(beta)"
   ]
  },
  {
   "cell_type": "code",
   "execution_count": 190,
   "metadata": {
    "collapsed": true
   },
   "outputs": [
    {
     "ename": "AssertionError",
     "evalue": "Padding length too large",
     "output_type": "error",
     "traceback": [
      "\u001b[0;31m---------------------------------------------------------------------------\u001b[0m",
      "\u001b[0;31mAssertionError\u001b[0m                            Traceback (most recent call last)",
      "\u001b[0;32m<ipython-input-190-c03c9bc9244d>\u001b[0m in \u001b[0;36m<module>\u001b[0;34m\u001b[0m\n\u001b[0;32m----> 1\u001b[0;31m \u001b[0mz\u001b[0m \u001b[0;34m=\u001b[0m \u001b[0mpyro\u001b[0m\u001b[0;34m.\u001b[0m\u001b[0msample\u001b[0m\u001b[0;34m(\u001b[0m\u001b[0;34m\"z\"\u001b[0m\u001b[0;34m,\u001b[0m \u001b[0mmix_weights\u001b[0m\u001b[0;34m(\u001b[0m\u001b[0mbeta\u001b[0m\u001b[0;34m)\u001b[0m\u001b[0;34m)\u001b[0m\u001b[0;34m\u001b[0m\u001b[0;34m\u001b[0m\u001b[0m\n\u001b[0m",
      "\u001b[0;32m<ipython-input-176-5fbeca3c4b09>\u001b[0m in \u001b[0;36mmix_weights\u001b[0;34m(beta)\u001b[0m\n\u001b[1;32m      1\u001b[0m \u001b[0;32mdef\u001b[0m \u001b[0mmix_weights\u001b[0m\u001b[0;34m(\u001b[0m\u001b[0mbeta\u001b[0m\u001b[0;34m)\u001b[0m\u001b[0;34m:\u001b[0m\u001b[0;34m\u001b[0m\u001b[0;34m\u001b[0m\u001b[0m\n\u001b[1;32m      2\u001b[0m     \u001b[0mbeta1m_cumprod\u001b[0m \u001b[0;34m=\u001b[0m \u001b[0;34m(\u001b[0m\u001b[0;36m1\u001b[0m \u001b[0;34m-\u001b[0m \u001b[0mbeta\u001b[0m\u001b[0;34m)\u001b[0m\u001b[0;34m.\u001b[0m\u001b[0mcumprod\u001b[0m\u001b[0;34m(\u001b[0m\u001b[0;34m-\u001b[0m\u001b[0;36m1\u001b[0m\u001b[0;34m)\u001b[0m\u001b[0;34m\u001b[0m\u001b[0;34m\u001b[0m\u001b[0m\n\u001b[0;32m----> 3\u001b[0;31m     \u001b[0;32mreturn\u001b[0m \u001b[0mF\u001b[0m\u001b[0;34m.\u001b[0m\u001b[0mpad\u001b[0m\u001b[0;34m(\u001b[0m\u001b[0mbeta\u001b[0m\u001b[0;34m,\u001b[0m \u001b[0;34m(\u001b[0m\u001b[0;36m0\u001b[0m\u001b[0;34m,\u001b[0m \u001b[0;36m1\u001b[0m\u001b[0;34m)\u001b[0m\u001b[0;34m,\u001b[0m \u001b[0mvalue\u001b[0m\u001b[0;34m=\u001b[0m\u001b[0;36m1\u001b[0m\u001b[0;34m)\u001b[0m \u001b[0;34m*\u001b[0m \u001b[0mF\u001b[0m\u001b[0;34m.\u001b[0m\u001b[0mpad\u001b[0m\u001b[0;34m(\u001b[0m\u001b[0mbeta1m_cumprod\u001b[0m\u001b[0;34m,\u001b[0m \u001b[0;34m(\u001b[0m\u001b[0;36m1\u001b[0m\u001b[0;34m,\u001b[0m \u001b[0;36m0\u001b[0m\u001b[0;34m)\u001b[0m\u001b[0;34m,\u001b[0m \u001b[0mvalue\u001b[0m\u001b[0;34m=\u001b[0m\u001b[0;36m1\u001b[0m\u001b[0;34m)\u001b[0m\u001b[0;34m\u001b[0m\u001b[0;34m\u001b[0m\u001b[0m\n\u001b[0m",
      "\u001b[0;32m~/anaconda3/lib/python3.8/site-packages/torch/nn/functional.py\u001b[0m in \u001b[0;36m_pad\u001b[0;34m(input, pad, mode, value)\u001b[0m\n\u001b[1;32m   4170\u001b[0m         \u001b[0;32mreturn\u001b[0m \u001b[0mhandle_torch_function\u001b[0m\u001b[0;34m(\u001b[0m\u001b[0m_pad\u001b[0m\u001b[0;34m,\u001b[0m \u001b[0;34m(\u001b[0m\u001b[0minput\u001b[0m\u001b[0;34m,\u001b[0m\u001b[0;34m)\u001b[0m\u001b[0;34m,\u001b[0m \u001b[0minput\u001b[0m\u001b[0;34m,\u001b[0m \u001b[0mpad\u001b[0m\u001b[0;34m,\u001b[0m \u001b[0mmode\u001b[0m\u001b[0;34m=\u001b[0m\u001b[0mmode\u001b[0m\u001b[0;34m,\u001b[0m \u001b[0mvalue\u001b[0m\u001b[0;34m=\u001b[0m\u001b[0mvalue\u001b[0m\u001b[0;34m)\u001b[0m\u001b[0;34m\u001b[0m\u001b[0;34m\u001b[0m\u001b[0m\n\u001b[1;32m   4171\u001b[0m     \u001b[0;32massert\u001b[0m \u001b[0mlen\u001b[0m\u001b[0;34m(\u001b[0m\u001b[0mpad\u001b[0m\u001b[0;34m)\u001b[0m \u001b[0;34m%\u001b[0m \u001b[0;36m2\u001b[0m \u001b[0;34m==\u001b[0m \u001b[0;36m0\u001b[0m\u001b[0;34m,\u001b[0m \u001b[0;34m\"Padding length must be divisible by 2\"\u001b[0m\u001b[0;34m\u001b[0m\u001b[0;34m\u001b[0m\u001b[0m\n\u001b[0;32m-> 4172\u001b[0;31m     \u001b[0;32massert\u001b[0m \u001b[0mlen\u001b[0m\u001b[0;34m(\u001b[0m\u001b[0mpad\u001b[0m\u001b[0;34m)\u001b[0m \u001b[0;34m//\u001b[0m \u001b[0;36m2\u001b[0m \u001b[0;34m<=\u001b[0m \u001b[0minput\u001b[0m\u001b[0;34m.\u001b[0m\u001b[0mdim\u001b[0m\u001b[0;34m(\u001b[0m\u001b[0;34m)\u001b[0m\u001b[0;34m,\u001b[0m \u001b[0;34m\"Padding length too large\"\u001b[0m\u001b[0;34m\u001b[0m\u001b[0;34m\u001b[0m\u001b[0m\n\u001b[0m\u001b[1;32m   4173\u001b[0m     \u001b[0;32mif\u001b[0m \u001b[0mmode\u001b[0m \u001b[0;34m==\u001b[0m \u001b[0;34m\"constant\"\u001b[0m\u001b[0;34m:\u001b[0m\u001b[0;34m\u001b[0m\u001b[0;34m\u001b[0m\u001b[0m\n\u001b[1;32m   4174\u001b[0m         \u001b[0;32mreturn\u001b[0m \u001b[0m_VF\u001b[0m\u001b[0;34m.\u001b[0m\u001b[0mconstant_pad_nd\u001b[0m\u001b[0;34m(\u001b[0m\u001b[0minput\u001b[0m\u001b[0;34m,\u001b[0m \u001b[0mpad\u001b[0m\u001b[0;34m,\u001b[0m \u001b[0mvalue\u001b[0m\u001b[0;34m)\u001b[0m\u001b[0;34m\u001b[0m\u001b[0;34m\u001b[0m\u001b[0m\n",
      "\u001b[0;31mAssertionError\u001b[0m: Padding length too large"
     ]
    }
   ],
   "source": [
    "z = pyro.sample(\"z\", mix_weights(beta))"
   ]
  },
  {
   "cell_type": "code",
   "execution_count": 187,
   "metadata": {},
   "outputs": [
    {
     "data": {
      "text/plain": [
       "tensor([-0.8807, -1.3585])"
      ]
     },
     "execution_count": 187,
     "metadata": {},
     "output_type": "execute_result"
    }
   ],
   "source": [
    "mu"
   ]
  },
  {
   "cell_type": "code",
   "execution_count": 185,
   "metadata": {
    "collapsed": true
   },
   "outputs": [
    {
     "ename": "ValueError",
     "evalue": "loc must be at least one-dimensional.",
     "output_type": "error",
     "traceback": [
      "\u001b[0;31m---------------------------------------------------------------------------\u001b[0m",
      "\u001b[0;31mValueError\u001b[0m                                Traceback (most recent call last)",
      "\u001b[0;32m<ipython-input-185-a05eb9e1f883>\u001b[0m in \u001b[0;36m<module>\u001b[0;34m\u001b[0m\n\u001b[1;32m      1\u001b[0m \u001b[0mz\u001b[0m \u001b[0;34m=\u001b[0m \u001b[0;36m0\u001b[0m\u001b[0;34m\u001b[0m\u001b[0;34m\u001b[0m\u001b[0m\n\u001b[0;32m----> 2\u001b[0;31m \u001b[0mMultivariateNormal\u001b[0m\u001b[0;34m(\u001b[0m\u001b[0mmu\u001b[0m\u001b[0;34m[\u001b[0m\u001b[0mz\u001b[0m\u001b[0;34m]\u001b[0m\u001b[0;34m,\u001b[0m \u001b[0mtorch\u001b[0m\u001b[0;34m.\u001b[0m\u001b[0meye\u001b[0m\u001b[0;34m(\u001b[0m\u001b[0mndim\u001b[0m\u001b[0;34m)\u001b[0m\u001b[0;34m)\u001b[0m\u001b[0;34m\u001b[0m\u001b[0;34m\u001b[0m\u001b[0m\n\u001b[0m",
      "\u001b[0;32m~/anaconda3/lib/python3.8/site-packages/pyro/distributions/distribution.py\u001b[0m in \u001b[0;36m__call__\u001b[0;34m(cls, *args, **kwargs)\u001b[0m\n\u001b[1;32m     16\u001b[0m             \u001b[0;32mif\u001b[0m \u001b[0mresult\u001b[0m \u001b[0;32mis\u001b[0m \u001b[0;32mnot\u001b[0m \u001b[0;32mNone\u001b[0m\u001b[0;34m:\u001b[0m\u001b[0;34m\u001b[0m\u001b[0;34m\u001b[0m\u001b[0m\n\u001b[1;32m     17\u001b[0m                 \u001b[0;32mreturn\u001b[0m \u001b[0mresult\u001b[0m\u001b[0;34m\u001b[0m\u001b[0;34m\u001b[0m\u001b[0m\n\u001b[0;32m---> 18\u001b[0;31m         \u001b[0;32mreturn\u001b[0m \u001b[0msuper\u001b[0m\u001b[0;34m(\u001b[0m\u001b[0;34m)\u001b[0m\u001b[0;34m.\u001b[0m\u001b[0m__call__\u001b[0m\u001b[0;34m(\u001b[0m\u001b[0;34m*\u001b[0m\u001b[0margs\u001b[0m\u001b[0;34m,\u001b[0m \u001b[0;34m**\u001b[0m\u001b[0mkwargs\u001b[0m\u001b[0;34m)\u001b[0m\u001b[0;34m\u001b[0m\u001b[0;34m\u001b[0m\u001b[0m\n\u001b[0m\u001b[1;32m     19\u001b[0m \u001b[0;34m\u001b[0m\u001b[0m\n\u001b[1;32m     20\u001b[0m     \u001b[0;34m@\u001b[0m\u001b[0mproperty\u001b[0m\u001b[0;34m\u001b[0m\u001b[0;34m\u001b[0m\u001b[0m\n",
      "\u001b[0;32m~/anaconda3/lib/python3.8/site-packages/torch/distributions/multivariate_normal.py\u001b[0m in \u001b[0;36m__init__\u001b[0;34m(self, loc, covariance_matrix, precision_matrix, scale_tril, validate_args)\u001b[0m\n\u001b[1;32m    119\u001b[0m     \u001b[0;32mdef\u001b[0m \u001b[0m__init__\u001b[0m\u001b[0;34m(\u001b[0m\u001b[0mself\u001b[0m\u001b[0;34m,\u001b[0m \u001b[0mloc\u001b[0m\u001b[0;34m,\u001b[0m \u001b[0mcovariance_matrix\u001b[0m\u001b[0;34m=\u001b[0m\u001b[0;32mNone\u001b[0m\u001b[0;34m,\u001b[0m \u001b[0mprecision_matrix\u001b[0m\u001b[0;34m=\u001b[0m\u001b[0;32mNone\u001b[0m\u001b[0;34m,\u001b[0m \u001b[0mscale_tril\u001b[0m\u001b[0;34m=\u001b[0m\u001b[0;32mNone\u001b[0m\u001b[0;34m,\u001b[0m \u001b[0mvalidate_args\u001b[0m\u001b[0;34m=\u001b[0m\u001b[0;32mNone\u001b[0m\u001b[0;34m)\u001b[0m\u001b[0;34m:\u001b[0m\u001b[0;34m\u001b[0m\u001b[0;34m\u001b[0m\u001b[0m\n\u001b[1;32m    120\u001b[0m         \u001b[0;32mif\u001b[0m \u001b[0mloc\u001b[0m\u001b[0;34m.\u001b[0m\u001b[0mdim\u001b[0m\u001b[0;34m(\u001b[0m\u001b[0;34m)\u001b[0m \u001b[0;34m<\u001b[0m \u001b[0;36m1\u001b[0m\u001b[0;34m:\u001b[0m\u001b[0;34m\u001b[0m\u001b[0;34m\u001b[0m\u001b[0m\n\u001b[0;32m--> 121\u001b[0;31m             \u001b[0;32mraise\u001b[0m \u001b[0mValueError\u001b[0m\u001b[0;34m(\u001b[0m\u001b[0;34m\"loc must be at least one-dimensional.\"\u001b[0m\u001b[0;34m)\u001b[0m\u001b[0;34m\u001b[0m\u001b[0;34m\u001b[0m\u001b[0m\n\u001b[0m\u001b[1;32m    122\u001b[0m         \u001b[0;32mif\u001b[0m \u001b[0;34m(\u001b[0m\u001b[0mcovariance_matrix\u001b[0m \u001b[0;32mis\u001b[0m \u001b[0;32mnot\u001b[0m \u001b[0;32mNone\u001b[0m\u001b[0;34m)\u001b[0m \u001b[0;34m+\u001b[0m \u001b[0;34m(\u001b[0m\u001b[0mscale_tril\u001b[0m \u001b[0;32mis\u001b[0m \u001b[0;32mnot\u001b[0m \u001b[0;32mNone\u001b[0m\u001b[0;34m)\u001b[0m \u001b[0;34m+\u001b[0m \u001b[0;34m(\u001b[0m\u001b[0mprecision_matrix\u001b[0m \u001b[0;32mis\u001b[0m \u001b[0;32mnot\u001b[0m \u001b[0;32mNone\u001b[0m\u001b[0;34m)\u001b[0m \u001b[0;34m!=\u001b[0m \u001b[0;36m1\u001b[0m\u001b[0;34m:\u001b[0m\u001b[0;34m\u001b[0m\u001b[0;34m\u001b[0m\u001b[0m\n\u001b[1;32m    123\u001b[0m             \u001b[0;32mraise\u001b[0m \u001b[0mValueError\u001b[0m\u001b[0;34m(\u001b[0m\u001b[0;34m\"Exactly one of covariance_matrix or precision_matrix or scale_tril may be specified.\"\u001b[0m\u001b[0;34m)\u001b[0m\u001b[0;34m\u001b[0m\u001b[0;34m\u001b[0m\u001b[0m\n",
      "\u001b[0;31mValueError\u001b[0m: loc must be at least one-dimensional."
     ]
    }
   ],
   "source": [
    "z = 0\n",
    "MultivariateNormal(mu[z], torch.eye(ndim))"
   ]
  },
  {
   "cell_type": "code",
   "execution_count": null,
   "metadata": {},
   "outputs": [],
   "source": [
    "def guide(data):\n",
    "    kappa = pyro.param('kappa', lambda: Uniform(0, 2).sample([T-1]), constraint=constraints.positive)\n",
    "    tau = pyro.param('tau', lambda: MultivariateNormal(torch.zeros(2), 3 * torch.eye(2)).sample([T]))\n",
    "    phi = pyro.param('phi', lambda: Dirichlet(1/T * torch.ones(T)).sample([N]), constraint=constraints.simplex)\n",
    "\n",
    "    with pyro.plate(\"beta_plate\", T-1):\n",
    "        q_beta = pyro.sample(\"beta\", Beta(torch.ones(T-1), kappa))\n",
    "\n",
    "    with pyro.plate(\"mu_plate\", T):\n",
    "        q_mu = pyro.sample(\"mu\", MultivariateNormal(tau, torch.eye(2)))\n",
    "\n",
    "    with pyro.plate(\"data\", N):\n",
    "        z = pyro.sample(\"z\", Categorical(phi))"
   ]
  },
  {
   "cell_type": "code",
   "execution_count": 89,
   "metadata": {
    "scrolled": false
   },
   "outputs": [
    {
     "data": {
      "text/plain": [
       "torch.Size([1000, 3])"
      ]
     },
     "execution_count": 89,
     "metadata": {},
     "output_type": "execute_result"
    }
   ],
   "source": [
    "weights.shape"
   ]
  },
  {
   "cell_type": "code",
   "execution_count": 62,
   "metadata": {},
   "outputs": [
    {
     "data": {
      "text/plain": [
       "torch.Size([150, 2])"
      ]
     },
     "execution_count": 62,
     "metadata": {},
     "output_type": "execute_result"
    }
   ],
   "source": [
    "data.shape"
   ]
  },
  {
   "cell_type": "code",
   "execution_count": 68,
   "metadata": {},
   "outputs": [
    {
     "data": {
      "text/plain": [
       "tensor([0.0779, 0.9221])"
      ]
     },
     "execution_count": 68,
     "metadata": {},
     "output_type": "execute_result"
    }
   ],
   "source": [
    "Dirichlet(torch.ones(2)).sample()"
   ]
  },
  {
   "cell_type": "code",
   "execution_count": null,
   "metadata": {},
   "outputs": [],
   "source": [
    "with pyro.plate(\"beta_plate\", T-1):\n",
    "    beta = pyro.sample(\"beta\", Beta(1, alpha))\n",
    "\n",
    "with pyro.plate(\"mu_plate\", T):\n",
    "    mu = pyro.sample(\"mu\", MultivariateNormal(torch.zeros(ndim), 5 * torch.eye(ndim)))\n",
    "    #print(mu.shape)\n",
    "\n",
    "with pyro.plate(\"data\", N):\n",
    "    z = pyro.sample(\"z\", Categorical(mix_weights(beta)))\n",
    "    pyro.sample(\"obs\", MultivariateNormal(mu[z], torch.eye(ndim)), obs=data)"
   ]
  },
  {
   "cell_type": "code",
   "execution_count": 45,
   "metadata": {},
   "outputs": [],
   "source": [
    "ndim = 2\n",
    "nphases = 3\n",
    "N = 1000"
   ]
  },
  {
   "cell_type": "code",
   "execution_count": 59,
   "metadata": {},
   "outputs": [],
   "source": [
    "locs, scales = np.random.normal(0, 1, size = (nphases, ndim)),np.abs(np.random.normal(0, 1, size = (nphases, ndim)) / 5)\n",
    "weights = np.random.dirichlet([1] * nphases, N)"
   ]
  },
  {
   "cell_type": "code",
   "execution_count": 52,
   "metadata": {},
   "outputs": [
    {
     "data": {
      "text/plain": [
       "(1000, 3)"
      ]
     },
     "execution_count": 52,
     "metadata": {},
     "output_type": "execute_result"
    }
   ],
   "source": [
    "weights.shape"
   ]
  },
  {
   "cell_type": "code",
   "execution_count": 56,
   "metadata": {},
   "outputs": [],
   "source": [
    "samples = np.vstack([np.random.normal(loc, scale, size = N) for loc, scale in zip(locs, scales)]).T"
   ]
  },
  {
   "cell_type": "code",
   "execution_count": 58,
   "metadata": {},
   "outputs": [
    {
     "data": {
      "text/plain": [
       "(1000, 3)"
      ]
     },
     "execution_count": 58,
     "metadata": {},
     "output_type": "execute_result"
    }
   ],
   "source": [
    "samples.shape"
   ]
  },
  {
   "cell_type": "code",
   "execution_count": 49,
   "metadata": {},
   "outputs": [
    {
     "data": {
      "text/plain": [
       "(1000, 2)"
      ]
     },
     "execution_count": 49,
     "metadata": {},
     "output_type": "execute_result"
    }
   ],
   "source": [
    "X"
   ]
  },
  {
   "cell_type": "code",
   "execution_count": 41,
   "metadata": {
    "collapsed": true
   },
   "outputs": [
    {
     "data": {
      "image/png": "[encoded data removed]",
      "text/plain": [
       "<Figure size 432x288 with 1 Axes>"
      ]
     },
     "metadata": {
      "needs_background": "light"
     },
     "output_type": "display_data"
    }
   ],
   "source": [
    "plt.scatter(*(X[:, :2].T));"
   ]
  },
  {
   "cell_type": "code",
   "execution_count": 46,
   "metadata": {
    "scrolled": true
   },
   "outputs": [],
   "source": []
  },
  {
   "cell_type": "code",
   "execution_count": 19,
   "metadata": {},
   "outputs": [
    {
     "data": {
      "text/plain": [
       "torch.Size([60000, 25])"
      ]
     },
     "execution_count": 19,
     "metadata": {},
     "output_type": "execute_result"
    }
   ],
   "source": [
    "data.shape"
   ]
  },
  {
   "cell_type": "code",
   "execution_count": 14,
   "metadata": {
    "scrolled": true
   },
   "outputs": [
    {
     "data": {
      "text/plain": [
       "torch.Size([25, 60000])"
      ]
     },
     "execution_count": 14,
     "metadata": {},
     "output_type": "execute_result"
    }
   ],
   "source": [
    "data.reshape(25, -1)"
   ]
  },
  {
   "cell_type": "markdown",
   "metadata": {},
   "source": [
    "GMM"
   ]
  },
  {
   "cell_type": "code",
   "execution_count": 864,
   "metadata": {},
   "outputs": [],
   "source": [
    "import os\n",
    "from collections import defaultdict\n",
    "import torch\n",
    "import numpy as np\n",
    "import scipy.stats\n",
    "from torch.distributions import constraints\n",
    "from matplotlib import pyplot\n",
    "%matplotlib inline\n",
    "\n",
    "import pyro\n",
    "import pyro.distributions as dist\n",
    "from pyro import poutine\n",
    "from pyro.infer.autoguide import AutoDelta\n",
    "from pyro.optim import Adam\n",
    "from pyro.infer import SVI, TraceEnum_ELBO, config_enumerate, infer_discrete\n",
    "\n",
    "smoke_test = ('CI' in os.environ)\n",
    "\n",
    "K = T  # Fixed number of components.\n",
    "\n",
    "@config_enumerate\n",
    "def model(data):\n",
    "    # Global variables.\n",
    "    weights = pyro.sample('weights', dist.Dirichlet(0.5 * torch.ones(K)))\n",
    "    scale = pyro.sample('scale', dist.LogNormal(0., 2.))\n",
    "    with pyro.plate('components', K):\n",
    "        locs = pyro.sample('locs', dist.Normal(0., 10.))\n",
    "\n",
    "    with pyro.plate('data', len(data)):\n",
    "        # Local variables.\n",
    "        assignment = pyro.sample('assignment', dist.Categorical(weights))\n",
    "        pyro.sample('obs', dist.Normal(locs[assignment], scale), obs=data)"
   ]
  },
  {
   "cell_type": "code",
   "execution_count": 262,
   "metadata": {
    "colab": {
     "base_uri": "https://localhost:8080/",
     "height": 281
    },
    "colab_type": "code",
    "id": "3_EyZAbwTMrs",
    "outputId": "f5c2222c-c3db-4a34-f021-75f38bbcb4c2"
   },
   "outputs": [
    {
     "data": {
      "image/png": "[encoded data removed]",
      "text/plain": [
       "<Figure size 432x288 with 1 Axes>"
      ]
     },
     "metadata": {
      "needs_background": "light"
     },
     "output_type": "display_data"
    }
   ],
   "source": [
    "#data = torch.from_numpy(np.load('data/activations_n1_simple.npy').T)\n",
    "\n",
    "data = torch.from_numpy(np.load('data/augmented.npy')).reshape(-1, 25)\n",
    "\n",
    "ndim = 3\n",
    "k = 300\n",
    "_, _data = vis.do_pca(data, ndim)\n",
    "data = _data[:30000][:k]\n",
    "data_test = _data[30000:][:k]\n",
    "\n",
    "plt.scatter(data[:, 0], data[:, 1])\n",
    "plt.title(\"Data Samples from augmented 1D diffraction progression\")\n",
    "plt.show()\n",
    "N = data.shape[0]\n",
    "\n",
    "data = torch.from_numpy(data).to(torch.float)\n",
    "data_test = torch.from_numpy(data_test).to(torch.float)"
   ]
  },
  {
   "cell_type": "markdown",
   "metadata": {
    "colab_type": "text",
    "id": "CglLQke4gEYd"
   },
   "source": [
    "In this example, the cluster parameters $\\theta_i$ are two dimensional vectors describing the means of a multivariate Gaussian with identity covariance. Therefore, the Dirichlet process base distribution $G_0$ is also a multivariate Gaussian (i.e. the conjugate prior), although this choice is not as computationally useful, since we are not performing coordinate-ascent variational inference but rather black-box variational inference using Pyro. \n",
    "\n",
    "First, let's define the \"stick-breaking\" function that generates our weights, given our samples of $\\beta$:"
   ]
  },
  {
   "cell_type": "code",
   "execution_count": null,
   "metadata": {},
   "outputs": [],
   "source": []
  },
  {
   "cell_type": "code",
   "execution_count": 255,
   "metadata": {},
   "outputs": [
    {
     "data": {
      "text/plain": [
       "device(type='cpu')"
      ]
     },
     "execution_count": 255,
     "metadata": {},
     "output_type": "execute_result"
    }
   ],
   "source": [
    "data.device"
   ]
  },
  {
   "cell_type": "code",
   "execution_count": 256,
   "metadata": {
    "colab": {},
    "colab_type": "code",
    "id": "2ngrqFlDQYpV"
   },
   "outputs": [],
   "source": [
    "def mix_weights(beta):\n",
    "    beta1m_cumprod = (1 - beta).cumprod(-1)\n",
    "    return F.pad(beta, (0, 1), value=1) * F.pad(beta1m_cumprod, (1, 0), value=1)"
   ]
  },
  {
   "cell_type": "markdown",
   "metadata": {
    "colab_type": "text",
    "id": "LAC0bWL6Qcc3"
   },
   "source": [
    "Next, let's define our model. It may be helpful to refer the definition of the stick-breaking model presented in the first part of this tutorial. \n",
    "\n",
    "Note that all $\\beta_i$ samples are conditionally independent, so we model them using a `pyro.plate` of size `T-1`; we do the same for all samples of our cluster parameters $\\mu_i$. We then construct a Categorical distribution whose parameters are the mixture weights using our sampled $\\beta$ values (line 9) below, and sample the cluster assignment $z_n$ for each data point from that Categorical. Finally, we sample our observations from a multivariate Gaussian distribution whose mean is exactly the cluster parameter corresponding to the assignment $z_n$ we drew for the point $x_n$. This can be seen in the Pyro code below:"
   ]
  },
  {
   "cell_type": "code",
   "execution_count": 257,
   "metadata": {
    "colab": {},
    "colab_type": "code",
    "id": "WfnbSIocRlvQ"
   },
   "outputs": [],
   "source": [
    "def model(data):\n",
    "    with pyro.plate(\"beta_plate\", T-1):\n",
    "        beta = pyro.sample(\"beta\", Beta(1, alpha))\n",
    "\n",
    "    with pyro.plate(\"mu_plate\", T):\n",
    "        mu = pyro.sample(\"mu\", MultivariateNormal(torch.zeros(ndim), 5 * torch.eye(ndim)))\n",
    "        #print(mu.shape)\n",
    "\n",
    "    with pyro.plate(\"data\", N):\n",
    "        z = pyro.sample(\"z\", Categorical(mix_weights(beta)))\n",
    "        pyro.sample(\"obs\", MultivariateNormal(mu[z], torch.eye(ndim)), obs=data)"
   ]
  },
  {
   "cell_type": "markdown",
   "metadata": {
    "colab_type": "text",
    "id": "1gBQj5RKRn8Z"
   },
   "source": [
    "Now, it's time to define our guide and perform inference. \n",
    "\n",
    "The variational family $q(\\beta, \\theta, z)$ that we are optimizing over during variational inference is given by:\n",
    "\n",
    "$$q(\\beta, \\theta, z) = \\prod_{t=1}^{T-1} q_t(\\beta_t) \\prod_{t=1}^T q_t(\\theta_t) \\prod_{n=1}^N q_n(z_n)$$ \n",
    "\n",
    "Note that since we are unable to computationally model the infinite clusters posited by the model, we truncate our variational family at $T$ clusters. This does not affect our model; rather, it is a simplification made in the *inference* stage to allow tractability. \n",
    "\n",
    "The guide is constructed exactly according to the definition of our variational family $q(\\beta, \\theta, z)$ above. We have $T-1$ conditionally independent Beta distributions for each $\\beta$ sampled in our model, $T$ conditionally independent multivariate Gaussians for each cluster parameter $\\mu_i$, and $N$ conditionally independent Categorical distributions for each cluster assignment $z_n$.\n",
    "\n",
    "Our variational parameters (`pyro.param`) are therefore the $T-1$ many positive scalars that parameterize the second parameter of our variational Beta distributions (the first shape parameter is fixed at $1$, as in the model definition), the $T$ many two-dimensional vectors that parameterize our variational multivariate Gaussian distributions (we do not parameterize the covariance matrices of the Gaussians, though this should be done when analyzing a real-world dataset for more flexibility), and the $N$ many $T$-dimensional vectors that parameterize our variational Categorical distributions:"
   ]
  },
  {
   "cell_type": "code",
   "execution_count": 258,
   "metadata": {},
   "outputs": [],
   "source": [
    "# def guide(data):\n",
    "#     #options = dict()\n",
    "#     options = dict(dtype=data.dtype, device=data.device)\n",
    "#     d = 2\n",
    "\n",
    "#     kappa = pyro.param('kappa', lambda: Uniform(0, 2).sample([T-1]), constraint=constraints.positive)\n",
    "#     tau = pyro.param('tau', lambda: MultivariateNormal(torch.zeros(2), 3 * torch.eye(2)).sample([T]))\n",
    "#     # Vector of variances for each of the d variables\n",
    "    \n",
    "#     # TODO sample for each component?\n",
    "#     #theta = pyro.param(\"theta\", HalfCauchy(torch.ones(d, **options)).sample(), constraint = constraints.positive)\n",
    "#     theta = pyro.param(\"theta\", HalfCauchy(torch.ones(d, **options)).sample([T]), constraint = constraints.positive)\n",
    "    \n",
    "    \n",
    "#     #theta = pyro.sample(\"theta\", HalfCauchy(torch.ones(d, **options)))\n",
    "#     #theta = pyro.param(\"theta\", HalfCauchy(torch.ones(d, **options)).sample())\n",
    "#     #theta = pyro.sample(\"theta\", HalfCauchy(torch.ones(d, **options)), [T])\n",
    "#     phi = pyro.param('phi', lambda: Dirichlet(1/T * torch.ones(T)).sample([N]), constraint=constraints.simplex)\n",
    "\n",
    "#     concentration = torch.ones(\n",
    "#             (), **options\n",
    "#         )\n",
    "\n",
    "#     # Implies a uniform distribution over correlation matrices\n",
    "#     L_omega = pyro.sample(\"L_omega\", LKJCholesky(d, concentration), [T])\n",
    "\n",
    "#     # Lower cholesky factor of the covariance matrix\n",
    "#     #L_Omega = torch.matmul(torch.diag(theta.sqrt()), L_omega)\n",
    "#     diags = torch.einsum('kj,ij->kij', theta.sqrt(), torch.eye(theta.shape[-1]))\n",
    "#     L_Omega = torch.einsum('...ij,...jk->...ik', diags, L_omega)\n",
    "\n",
    "#     with pyro.plate(\"beta_plate\", T-1):\n",
    "#         q_beta = pyro.sample(\"beta\", Beta(torch.ones(T-1), kappa))\n",
    "\n",
    "#     with pyro.plate(\"mu_plate\", T):\n",
    "#         print(tau.shape)\n",
    "#         print(L_Omega.shape)\n",
    "#         q_mu = pyro.sample(\"mu\", MultivariateNormal(tau, scale_tril=L_Omega))\n",
    "#         #print(q_mu.shape)\n",
    "\n",
    "#     with pyro.plate(\"data\", N):\n",
    "#         z = pyro.sample(\"z\", Categorical(phi))"
   ]
  },
  {
   "cell_type": "code",
   "execution_count": 259,
   "metadata": {
    "colab": {},
    "colab_type": "code",
    "id": "Imw4wcVkT9er"
   },
   "outputs": [],
   "source": [
    "def guide(data):\n",
    "    #options = dict()\n",
    "    options = dict(dtype=data.dtype, device=data.device)\n",
    "    d = ndim\n",
    "\n",
    "    kappa = pyro.param('kappa', lambda: Uniform(0, 2).sample([T-1]), constraint=constraints.positive)\n",
    "    tau = pyro.param('tau', lambda: MultivariateNormal(torch.zeros(ndim), 3 * torch.eye(ndim)).sample([T]))\n",
    "    # Vector of variances for each of the d variables\n",
    "    # TODO sample for each component?\n",
    "    theta = pyro.param(\"theta\", HalfCauchy(torch.ones(d, **options)).sample(), constraint = constraints.positive)\n",
    "    #theta = pyro.sample(\"theta\", HalfCauchy(torch.ones(d, **options)))\n",
    "    #theta = pyro.param(\"theta\", HalfCauchy(torch.ones(d, **options)).sample())\n",
    "    #theta = pyro.sample(\"theta\", HalfCauchy(torch.ones(d, **options)), [T])\n",
    "    phi = pyro.param('phi', lambda: Dirichlet(1/T * torch.ones(T)).sample([N]), constraint=constraints.simplex)\n",
    "\n",
    "    concentration = torch.ones(\n",
    "            (), **options\n",
    "        )\n",
    "\n",
    "    # Implies a uniform distribution over correlation matrices\n",
    "    L_omega = pyro.sample(\"L_omega\", LKJCholesky(d, concentration))\n",
    "    # Lower cholesky factor of the covariance matrix\n",
    "    L_Omega = torch.matmul(torch.diag(theta.sqrt()), L_omega)\n",
    "\n",
    "    with pyro.plate(\"beta_plate\", T-1):\n",
    "        q_beta = pyro.sample(\"beta\", Beta(torch.ones(T-1), kappa))\n",
    "\n",
    "    with pyro.plate(\"mu_plate\", T):\n",
    "        q_mu = pyro.sample(\"mu\", MultivariateNormal(tau, scale_tril=L_Omega))\n",
    "        #print(q_mu.shape)\n",
    "\n",
    "    with pyro.plate(\"data\", N):\n",
    "        z = pyro.sample(\"z\", Categorical(phi))"
   ]
  },
  {
   "cell_type": "markdown",
   "metadata": {
    "colab_type": "text",
    "id": "H0He1id0T_bN"
   },
   "source": [
    "When performing inference, we set our 'guess' for the maximum number of clusters in the dataset to $T = 6$. We define the optimization algorithm (`pyro.optim.Adam`) along with the Pyro SVI object and train the model for 1000 iterations. \n",
    "\n",
    "After performing inference, we construct the Bayes estimators of the means (the expected values of each factor in our variational approximation) and plot them in red on top of the original dataset.  Note that we also have we removed any clusters that have less than a certain weight assigned to them according to our learned variational distributions, and then re-normalize the weights so that they sum to one:"
   ]
  },
  {
   "cell_type": "code",
   "execution_count": 163,
   "metadata": {},
   "outputs": [],
   "source": [
    "# theta = pyro.sample(\"theta\", HalfCauchy(torch.ones(d, **options)))\n",
    "# torch.diag(theta.sqrt())\n",
    "\n",
    "# theta = pyro.param(\"foobar\", HalfCauchy(torch.ones(d, **options)).sample())\n",
    "# torch.diag(theta.sqrt())\n",
    "\n",
    "# theta = pyro.param(\"zzz\", lambda: HalfCauchy(torch.ones(d, **options)).sample())\n",
    "# torch.diag(theta.sqrt())"
   ]
  },
  {
   "cell_type": "code",
   "execution_count": 263,
   "metadata": {
    "colab": {
     "base_uri": "https://localhost:8080/",
     "height": 372
    },
    "colab_type": "code",
    "id": "x1Yidukpd9wO",
    "outputId": "b0cc290b-3285-4f36-c2a6-7195b6801482"
   },
   "outputs": [
    {
     "name": "stderr",
     "output_type": "stream",
     "text": [
      "  0%|          | 0/3000 [00:00<?, ?it/s]/home/ollie/anaconda3/lib/python3.8/site-packages/pyro/util.py:288: UserWarning: Found non-auxiliary vars in guide but not model, consider marking these infer={'is_auxiliary': True}:\n",
      "{'L_omega'}\n",
      "  warnings.warn(\n",
      "100%|██████████| 3000/3000 [00:29<00:00, 101.60it/s]\n"
     ]
    },
    {
     "data": {
      "text/plain": [
       "<matplotlib.collections.PathCollection at 0x7fe0747bc310>"
      ]
     },
     "execution_count": 263,
     "metadata": {},
     "output_type": "execute_result"
    },
    {
     "data": {
      "image/png": "[encoded data removed]",
      "text/plain": [
       "<Figure size 1080x360 with 1 Axes>"
      ]
     },
     "metadata": {
      "needs_background": "light"
     },
     "output_type": "display_data"
    }
   ],
   "source": [
    "n_iter = 3000\n",
    "T = 10\n",
    "optim = Adam({\"lr\": 0.05})\n",
    "svi = SVI(model, guide, optim, loss=Trace_ELBO())\n",
    "losses = []\n",
    "\n",
    "def train(num_iterations):\n",
    "    pyro.clear_param_store()\n",
    "    for j in tqdm(range(num_iterations)):\n",
    "        loss = svi.step(data)\n",
    "        losses.append(loss)\n",
    "\n",
    "def truncate(alpha, centers, weights):\n",
    "    threshold = alpha**-1 / 100.\n",
    "    true_centers = centers[weights > threshold]\n",
    "    true_weights = weights[weights > threshold] / torch.sum(weights[weights > threshold])\n",
    "    return true_centers, true_weights\n",
    "\n",
    "alpha = 1\n",
    "train(n_iter)\n",
    "\n",
    "# We make a point-estimate of our model parameters using the posterior means of tau and phi for the centers and weights\n",
    "Bayes_Centers_01, Bayes_Weights_01 = truncate(alpha, pyro.param(\"tau\").detach(), torch.mean(pyro.param(\"phi\").detach(), dim=0))\n",
    "\n",
    "# alpha = 1.5\n",
    "# train(1000)\n",
    "\n",
    "# # We make a point-estimate of our model parameters using the posterior means of tau and phi for the centers and weights\n",
    "# Bayes_Centers_15, Bayes_Weights_15 = truncate(alpha, pyro.param(\"tau\").detach(), torch.mean(pyro.param(\"phi\").detach(), dim=0))\n",
    "\n",
    "plt.figure(figsize=(15, 5))\n",
    "plt.subplot(1, 2, 1)\n",
    "plt.scatter(data[:, 0], data[:, 1], color=\"blue\")\n",
    "plt.scatter(Bayes_Centers_01[:, 0], Bayes_Centers_01[:, 1], color=\"red\")\n",
    "\n",
    "# plt.subplot(1, 2, 2)\n",
    "# plt.scatter(data[:, 0], data[:, 1], color=\"blue\")\n",
    "# plt.scatter(Bayes_Centers_15[:, 0], Bayes_Centers_15[:, 1], color=\"red\")\n",
    "# plt.tight_layout()\n",
    "# plt.show()"
   ]
  },
  {
   "cell_type": "code",
   "execution_count": 278,
   "metadata": {
    "collapsed": true
   },
   "outputs": [
    {
     "data": {
      "text/plain": [
       "<matplotlib.collections.PathCollection at 0x7fe056f48580>"
      ]
     },
     "execution_count": 278,
     "metadata": {},
     "output_type": "execute_result"
    },
    {
     "data": {
      "image/png": "[encoded data removed]",
      "text/plain": [
       "<Figure size 1080x360 with 1 Axes>"
      ]
     },
     "metadata": {
      "needs_background": "light"
     },
     "output_type": "display_data"
    }
   ],
   "source": [
    "# # We make a point-estimate of our model parameters using the posterior means of tau and phi for the centers and weights\n",
    "# Bayes_Centers_15, Bayes_Weights_15 = truncate(alpha, pyro.param(\"tau\").detach(), torch.mean(pyro.param(\"phi\").detach(), dim=0))\n",
    "\n",
    "plt.figure(figsize=(15, 5))\n",
    "plt.subplot(1, 2, 1)\n",
    "plt.scatter(data[:, 0], data[:, 1], color=\"k\")\n",
    "plt.scatter(Bayes_Centers_01[:, 0], Bayes_Centers_01[:, 1], c = np.array(Bayes_Weights_01), cmap = 'jet')\n",
    "\n",
    "# plt.subplot(1, 2, 2)\n",
    "# plt.scatter(data[:, 0], data[:, 1], color=\"blue\")\n",
    "# plt.scatter(Bayes_Centers_15[:, 0], Bayes_Centers_15[:, 1], color=\"red\")\n",
    "# plt.tight_layout()\n",
    "# plt.show()"
   ]
  },
  {
   "cell_type": "code",
   "execution_count": 188,
   "metadata": {},
   "outputs": [],
   "source": [
    "a = np.ones((10, 2, 2)) * np.arange(10)[:, None, None]"
   ]
  },
  {
   "cell_type": "code",
   "execution_count": 217,
   "metadata": {
    "collapsed": true
   },
   "outputs": [
    {
     "data": {
      "text/plain": [
       "array([[ 0.,  0.],\n",
       "       [ 1.,  2.],\n",
       "       [ 2.,  4.],\n",
       "       [ 3.,  6.],\n",
       "       [ 4.,  8.],\n",
       "       [ 5., 10.],\n",
       "       [ 6., 12.],\n",
       "       [ 7., 14.],\n",
       "       [ 8., 16.],\n",
       "       [ 9., 18.]])"
      ]
     },
     "execution_count": 217,
     "metadata": {},
     "output_type": "execute_result"
    }
   ],
   "source": [
    "b = np.ones((10 ,2)) * np.arange(10)[:, None] * np.array([1, 2])\n",
    "b\n"
   ]
  },
  {
   "cell_type": "code",
   "execution_count": 211,
   "metadata": {},
   "outputs": [
    {
     "data": {
      "text/plain": [
       "array([1, 2])"
      ]
     },
     "execution_count": 211,
     "metadata": {},
     "output_type": "execute_result"
    }
   ],
   "source": [
    "c = np.array([1, 2])\n",
    "c"
   ]
  },
  {
   "cell_type": "code",
   "execution_count": 227,
   "metadata": {},
   "outputs": [],
   "source": [
    "bb = np.einsum('kj,ij->kij', b, np.eye(b.shape[-1]))"
   ]
  },
  {
   "cell_type": "code",
   "execution_count": 230,
   "metadata": {
    "collapsed": true
   },
   "outputs": [
    {
     "data": {
      "text/plain": [
       "array([[[  0.,   0.],\n",
       "        [  0.,   0.]],\n",
       "\n",
       "       [[  1.,   0.],\n",
       "        [  0.,   4.]],\n",
       "\n",
       "       [[  4.,   0.],\n",
       "        [  0.,  16.]],\n",
       "\n",
       "       [[  9.,   0.],\n",
       "        [  0.,  36.]],\n",
       "\n",
       "       [[ 16.,   0.],\n",
       "        [  0.,  64.]],\n",
       "\n",
       "       [[ 25.,   0.],\n",
       "        [  0., 100.]],\n",
       "\n",
       "       [[ 36.,   0.],\n",
       "        [  0., 144.]],\n",
       "\n",
       "       [[ 49.,   0.],\n",
       "        [  0., 196.]],\n",
       "\n",
       "       [[ 64.,   0.],\n",
       "        [  0., 256.]],\n",
       "\n",
       "       [[ 81.,   0.],\n",
       "        [  0., 324.]]])"
      ]
     },
     "execution_count": 230,
     "metadata": {},
     "output_type": "execute_result"
    }
   ],
   "source": [
    "np.einsum('...ij,...jk->...ik', bb, bb)"
   ]
  },
  {
   "cell_type": "code",
   "execution_count": 159,
   "metadata": {},
   "outputs": [
    {
     "name": "stdout",
     "output_type": "stream",
     "text": [
      "Automatic pdb calling has been turned ON\n"
     ]
    }
   ],
   "source": [
    "%pdb"
   ]
  },
  {
   "cell_type": "code",
   "execution_count": 109,
   "metadata": {},
   "outputs": [],
   "source": [
    "options = dict(dtype=data.dtype, device=data.device)\n",
    "d = 2\n",
    "concentration = torch.ones(\n",
    "        (), **options\n",
    "    )\n",
    "\n",
    "theta = pyro.param(\"theta\", HalfCauchy(torch.ones(d, **options)).sample(), constraint = constraints.positive)\n",
    "# Implies a uniform distribution over correlation matrices\n",
    "L_omega = pyro.sample(\"L_omega\", LKJCholesky(d, concentration))\n",
    "# Lower cholesky factor of the covariance matrix\n",
    "L_Omega = torch.matmul(torch.diag(theta.sqrt()), L_omega)"
   ]
  },
  {
   "cell_type": "code",
   "execution_count": 267,
   "metadata": {
    "collapsed": true
   },
   "outputs": [
    {
     "name": "stderr",
     "output_type": "stream",
     "text": [
      "100%|██████████| 500/500 [00:04<00:00, 102.54it/s]\n"
     ]
    },
    {
     "ename": "ValueError",
     "evalue": "Value is not broadcastable with batch_shape+event_shape: torch.Size([300, 3]) vs torch.Size([150, 3]).",
     "output_type": "error",
     "traceback": [
      "\u001b[0;31m---------------------------------------------------------------------------\u001b[0m",
      "\u001b[0;31mValueError\u001b[0m                                Traceback (most recent call last)",
      "\u001b[0;32m<ipython-input-267-c8c0609e7586>\u001b[0m in \u001b[0;36m<module>\u001b[0;34m\u001b[0m\n\u001b[1;32m     20\u001b[0m     \u001b[0;31m# TODO use actual L_Omega. Need to actually sample here\u001b[0m\u001b[0;34m\u001b[0m\u001b[0;34m\u001b[0m\u001b[0;34m\u001b[0m\u001b[0m\n\u001b[1;32m     21\u001b[0m     log_prob = (post_pred_weights.reshape(-1).log()[:S] +\\\n\u001b[0;32m---> 22\u001b[0;31m                 \u001b[0mMultivariateNormal\u001b[0m\u001b[0;34m(\u001b[0m\u001b[0mpost_pred_clusters\u001b[0m\u001b[0;34m.\u001b[0m\u001b[0mreshape\u001b[0m\u001b[0;34m(\u001b[0m\u001b[0;34m-\u001b[0m\u001b[0;36m1\u001b[0m\u001b[0;34m,\u001b[0m \u001b[0mndim\u001b[0m\u001b[0;34m)\u001b[0m\u001b[0;34m[\u001b[0m\u001b[0;34m:\u001b[0m\u001b[0mS\u001b[0m\u001b[0;34m]\u001b[0m\u001b[0;34m,\u001b[0m \u001b[0mscale_tril\u001b[0m\u001b[0;34m=\u001b[0m\u001b[0mL_Omega\u001b[0m\u001b[0;34m)\u001b[0m\u001b[0;31m\\\u001b[0m\u001b[0;34m\u001b[0m\u001b[0;34m\u001b[0m\u001b[0m\n\u001b[0m\u001b[1;32m     23\u001b[0m         .log_prob(data_test).detach()).logsumexp(-1)\n\u001b[1;32m     24\u001b[0m     \u001b[0mmean_log_prob\u001b[0m \u001b[0;34m=\u001b[0m \u001b[0mlog_prob\u001b[0m \u001b[0;34m-\u001b[0m \u001b[0mnp\u001b[0m\u001b[0;34m.\u001b[0m\u001b[0mlog\u001b[0m\u001b[0;34m(\u001b[0m\u001b[0mS\u001b[0m\u001b[0;34m)\u001b[0m\u001b[0;34m\u001b[0m\u001b[0;34m\u001b[0m\u001b[0m\n",
      "\u001b[0;32m~/anaconda3/lib/python3.8/site-packages/torch/distributions/multivariate_normal.py\u001b[0m in \u001b[0;36mlog_prob\u001b[0;34m(self, value)\u001b[0m\n\u001b[1;32m    206\u001b[0m     \u001b[0;32mdef\u001b[0m \u001b[0mlog_prob\u001b[0m\u001b[0;34m(\u001b[0m\u001b[0mself\u001b[0m\u001b[0;34m,\u001b[0m \u001b[0mvalue\u001b[0m\u001b[0;34m)\u001b[0m\u001b[0;34m:\u001b[0m\u001b[0;34m\u001b[0m\u001b[0;34m\u001b[0m\u001b[0m\n\u001b[1;32m    207\u001b[0m         \u001b[0;32mif\u001b[0m \u001b[0mself\u001b[0m\u001b[0;34m.\u001b[0m\u001b[0m_validate_args\u001b[0m\u001b[0;34m:\u001b[0m\u001b[0;34m\u001b[0m\u001b[0;34m\u001b[0m\u001b[0m\n\u001b[0;32m--> 208\u001b[0;31m             \u001b[0mself\u001b[0m\u001b[0;34m.\u001b[0m\u001b[0m_validate_sample\u001b[0m\u001b[0;34m(\u001b[0m\u001b[0mvalue\u001b[0m\u001b[0;34m)\u001b[0m\u001b[0;34m\u001b[0m\u001b[0;34m\u001b[0m\u001b[0m\n\u001b[0m\u001b[1;32m    209\u001b[0m         \u001b[0mdiff\u001b[0m \u001b[0;34m=\u001b[0m \u001b[0mvalue\u001b[0m \u001b[0;34m-\u001b[0m \u001b[0mself\u001b[0m\u001b[0;34m.\u001b[0m\u001b[0mloc\u001b[0m\u001b[0;34m\u001b[0m\u001b[0;34m\u001b[0m\u001b[0m\n\u001b[1;32m    210\u001b[0m         \u001b[0mM\u001b[0m \u001b[0;34m=\u001b[0m \u001b[0m_batch_mahalanobis\u001b[0m\u001b[0;34m(\u001b[0m\u001b[0mself\u001b[0m\u001b[0;34m.\u001b[0m\u001b[0m_unbroadcasted_scale_tril\u001b[0m\u001b[0;34m,\u001b[0m \u001b[0mdiff\u001b[0m\u001b[0;34m)\u001b[0m\u001b[0;34m\u001b[0m\u001b[0;34m\u001b[0m\u001b[0m\n",
      "\u001b[0;32m~/anaconda3/lib/python3.8/site-packages/torch/distributions/distribution.py\u001b[0m in \u001b[0;36m_validate_sample\u001b[0;34m(self, value)\u001b[0m\n\u001b[1;32m    274\u001b[0m         \u001b[0;32mfor\u001b[0m \u001b[0mi\u001b[0m\u001b[0;34m,\u001b[0m \u001b[0mj\u001b[0m \u001b[0;32min\u001b[0m \u001b[0mzip\u001b[0m\u001b[0;34m(\u001b[0m\u001b[0mreversed\u001b[0m\u001b[0;34m(\u001b[0m\u001b[0mactual_shape\u001b[0m\u001b[0;34m)\u001b[0m\u001b[0;34m,\u001b[0m \u001b[0mreversed\u001b[0m\u001b[0;34m(\u001b[0m\u001b[0mexpected_shape\u001b[0m\u001b[0;34m)\u001b[0m\u001b[0;34m)\u001b[0m\u001b[0;34m:\u001b[0m\u001b[0;34m\u001b[0m\u001b[0;34m\u001b[0m\u001b[0m\n\u001b[1;32m    275\u001b[0m             \u001b[0;32mif\u001b[0m \u001b[0mi\u001b[0m \u001b[0;34m!=\u001b[0m \u001b[0;36m1\u001b[0m \u001b[0;32mand\u001b[0m \u001b[0mj\u001b[0m \u001b[0;34m!=\u001b[0m \u001b[0;36m1\u001b[0m \u001b[0;32mand\u001b[0m \u001b[0mi\u001b[0m \u001b[0;34m!=\u001b[0m \u001b[0mj\u001b[0m\u001b[0;34m:\u001b[0m\u001b[0;34m\u001b[0m\u001b[0;34m\u001b[0m\u001b[0m\n\u001b[0;32m--> 276\u001b[0;31m                 raise ValueError('Value is not broadcastable with batch_shape+event_shape: {} vs {}.'.\n\u001b[0m\u001b[1;32m    277\u001b[0m                                  format(actual_shape, expected_shape))\n\u001b[1;32m    278\u001b[0m         \u001b[0;32mtry\u001b[0m\u001b[0;34m:\u001b[0m\u001b[0;34m\u001b[0m\u001b[0;34m\u001b[0m\u001b[0m\n",
      "\u001b[0;31mValueError\u001b[0m: Value is not broadcastable with batch_shape+event_shape: torch.Size([300, 3]) vs torch.Size([150, 3])."
     ]
    },
    {
     "name": "stdout",
     "output_type": "stream",
     "text": [
      "> \u001b[0;32m/home/ollie/anaconda3/lib/python3.8/site-packages/torch/distributions/distribution.py\u001b[0m(276)\u001b[0;36m_validate_sample\u001b[0;34m()\u001b[0m\n",
      "\u001b[0;32m    274 \u001b[0;31m        \u001b[0;32mfor\u001b[0m \u001b[0mi\u001b[0m\u001b[0;34m,\u001b[0m \u001b[0mj\u001b[0m \u001b[0;32min\u001b[0m \u001b[0mzip\u001b[0m\u001b[0;34m(\u001b[0m\u001b[0mreversed\u001b[0m\u001b[0;34m(\u001b[0m\u001b[0mactual_shape\u001b[0m\u001b[0;34m)\u001b[0m\u001b[0;34m,\u001b[0m \u001b[0mreversed\u001b[0m\u001b[0;34m(\u001b[0m\u001b[0mexpected_shape\u001b[0m\u001b[0;34m)\u001b[0m\u001b[0;34m)\u001b[0m\u001b[0;34m:\u001b[0m\u001b[0;34m\u001b[0m\u001b[0;34m\u001b[0m\u001b[0m\n",
      "\u001b[0m\u001b[0;32m    275 \u001b[0;31m            \u001b[0;32mif\u001b[0m \u001b[0mi\u001b[0m \u001b[0;34m!=\u001b[0m \u001b[0;36m1\u001b[0m \u001b[0;32mand\u001b[0m \u001b[0mj\u001b[0m \u001b[0;34m!=\u001b[0m \u001b[0;36m1\u001b[0m \u001b[0;32mand\u001b[0m \u001b[0mi\u001b[0m \u001b[0;34m!=\u001b[0m \u001b[0mj\u001b[0m\u001b[0;34m:\u001b[0m\u001b[0;34m\u001b[0m\u001b[0;34m\u001b[0m\u001b[0m\n",
      "\u001b[0m\u001b[0;32m--> 276 \u001b[0;31m                raise ValueError('Value is not broadcastable with batch_shape+event_shape: {} vs {}.'.\n",
      "\u001b[0m\u001b[0;32m    277 \u001b[0;31m                                 format(actual_shape, expected_shape))\n",
      "\u001b[0m\u001b[0;32m    278 \u001b[0;31m        \u001b[0;32mtry\u001b[0m\u001b[0;34m:\u001b[0m\u001b[0;34m\u001b[0m\u001b[0;34m\u001b[0m\u001b[0m\n",
      "\u001b[0m\n",
      "ipdb> c\n"
     ]
    }
   ],
   "source": [
    "N = data.shape[0]\n",
    "N_test = data_test.shape[0]\n",
    "\n",
    "alphas = [.01, .02, .03, 0.05, 0.1, .3, 1., 1.25, 1.5, 2, 3]\n",
    "log_predictives = []\n",
    "\n",
    "for val in alphas:\n",
    "    alpha = val\n",
    "    T = 6\n",
    "    svi = SVI(model, guide, optim, loss=Trace_ELBO())\n",
    "    train(500)\n",
    "    \n",
    "    S = ndim * 50 # number of Monte Carlo samples to use in posterior predictive computations\n",
    "\n",
    "    # Using pyro's built in posterior predictive class:\n",
    "    posterior = Predictive(guide, num_samples=S, return_sites=[\"beta\", \"mu\"])(data_test)\n",
    "    post_pred_weights = mix_weights(posterior[\"beta\"])\n",
    "    post_pred_clusters = posterior[\"mu\"]\n",
    "    \n",
    "    # TODO use actual L_Omega. Need to actually sample here\n",
    "    log_prob = (post_pred_weights.reshape(-1).log()[:S] +\\\n",
    "                MultivariateNormal(post_pred_clusters.reshape(-1, ndim)[:S], scale_tril=L_Omega)\\\n",
    "        .log_prob(data_test).detach()).logsumexp(-1)\n",
    "    mean_log_prob = log_prob - np.log(S)\n",
    "    log_predictives.append(mean_log_prob)\n",
    "\n",
    "#     # log_prob shape = N_test x S\n",
    "# #     log_prob = (post_pred_weights.log() + Poisson(post_pred_clusters).log_prob(data.reshape(-1, 1, 1))).logsumexp(-1)\n",
    "# #     mean_log_prob = log_prob.logsumexp(-1) - np.log(S)\n",
    "# #     log_posterior_predictive = mean_log_prob.sum(-1)\n",
    "#     log_prob = \n",
    "#     log_predictives.append(log_posterior_predictive)\n",
    "\n",
    "plt.figure(figsize=(10, 5))\n",
    "plt.plot(alphas, log_predictives)\n",
    "plt.title(\"Value of the Log Predictive at Varying Alpha\")\n",
    "plt.show()"
   ]
  },
  {
   "cell_type": "code",
   "execution_count": 56,
   "metadata": {},
   "outputs": [
    {
     "name": "stdout",
     "output_type": "stream",
     "text": [
      "Automatic pdb calling has been turned ON\n"
     ]
    }
   ],
   "source": [
    "%pdb"
   ]
  },
  {
   "cell_type": "code",
   "execution_count": 268,
   "metadata": {},
   "outputs": [
    {
     "data": {
      "text/plain": [
       "torch.return_types.sort(\n",
       "values=tensor([0.0474, 0.0570, 0.0794, 0.0815, 0.0851, 0.0884, 0.0908, 0.1257, 0.1482,\n",
       "        0.1965]),\n",
       "indices=tensor([8, 5, 0, 2, 3, 6, 1, 7, 9, 4]))"
      ]
     },
     "execution_count": 268,
     "metadata": {},
     "output_type": "execute_result"
    }
   ],
   "source": [
    "Bayes_Weights_01.sort()"
   ]
  },
  {
   "cell_type": "markdown",
   "metadata": {
    "colab_type": "text",
    "id": "DO3XDmEwC5ra"
   },
   "source": [
    "The plots above demonstrate the effects of the scaling hyperparameter $\\alpha$. A greater $\\alpha$ yields a more heavy-tailed distribution of the weights, whereas smaller $\\alpha$ will place more mass on fewer clusters. In particular, the middle cluster looks like it could be generated a single Gaussian (although in fact it was generated by two distinct Gaussians), and thus the setting of $\\alpha$ allows the practitioner to further encode their prior beliefs about how many clusters the data contains."
   ]
  },
  {
   "cell_type": "code",
   "execution_count": 264,
   "metadata": {},
   "outputs": [
    {
     "data": {
      "image/png": "[encoded data removed]",
      "text/plain": [
       "<Figure size 1080x360 with 2 Axes>"
      ]
     },
     "metadata": {
      "needs_background": "light"
     },
     "output_type": "display_data"
    }
   ],
   "source": [
    "elbo_plot = plt.figure(figsize=(15, 5))\n",
    "\n",
    "elbo_ax = elbo_plot.add_subplot(1, 2, 1)\n",
    "# elbo_ax.set_title(\"ELBO Value vs. Iteration Number for Pyro BBVI on Sunspot Data\")\n",
    "elbo_ax.set_ylabel(\"ELBO\")\n",
    "elbo_ax.set_xlabel(\"Iteration Number\")\n",
    "elbo_ax.plot(np.arange(n_iter), losses)\n",
    "#elbo_ax.semilogy()\n",
    "\n",
    "autocorr_ax = elbo_plot.add_subplot(1, 2, 2)\n",
    "autocorr_ax.acorr(np.asarray(losses), detrend=lambda x: x - x.mean(), maxlags=750, usevlines=False, marker=',')\n",
    "autocorr_ax.set_xlim(0, 500)\n",
    "autocorr_ax.axhline(0, ls=\"--\", c=\"k\", lw=1)\n",
    "# autocorr_ax.set_title(\"Autocorrelation of ELBO vs. Lag for Pyro BBVI on Sunspot Data\")\n",
    "autocorr_ax.set_xlabel(\"Lag\")\n",
    "autocorr_ax.set_ylabel(\"Autocorrelation\")\n",
    "elbo_plot.tight_layout()\n",
    "plt.show()"
   ]
  },
  {
   "cell_type": "code",
   "execution_count": null,
   "metadata": {},
   "outputs": [],
   "source": [
    "\n",
    "\n",
    "\n",
    "\n",
    "\n",
    "\n",
    "\n",
    "\n",
    "\n",
    "\n",
    "\n",
    "\n",
    "\n",
    "\n",
    "\n",
    "\n",
    "\n",
    "\n",
    "\n"
   ]
  },
  {
   "cell_type": "code",
   "execution_count": 7,
   "metadata": {
    "colab": {
     "base_uri": "https://localhost:8080/",
     "height": 295
    },
    "colab_type": "code",
    "collapsed": true,
    "id": "UlhV2Fx_fVGy",
    "outputId": "045dbfaa-27a0-4aa6-ee8c-de9f9937aa38"
   },
   "outputs": [
    {
     "data": {
      "image/png": "[encoded data removed]",
      "text/plain": [
       "<Figure size 432x288 with 1 Axes>"
      ]
     },
     "metadata": {
      "needs_background": "light"
     },
     "output_type": "display_data"
    }
   ],
   "source": [
    "df = pd.read_csv('http://www.sidc.be/silso/DATA/SN_y_tot_V2.0.csv', sep=';', names=['time', 'sunspot.year'], usecols=[0, 1])\n",
    "data = torch.tensor(df['sunspot.year'].values, dtype=torch.float32).round()\n",
    "N = data.shape[0]\n",
    "\n",
    "plt.hist(df['sunspot.year'].values, bins=40)\n",
    "plt.title(\"Number of Years vs. Sunspot Counts\")\n",
    "plt.xlabel(\"Sunspot Count\")\n",
    "plt.ylabel(\"Number of Years\")\n",
    "plt.show()"
   ]
  },
  {
   "cell_type": "code",
   "execution_count": 24,
   "metadata": {
    "colab": {
     "base_uri": "https://localhost:8080/",
     "height": 298
    },
    "colab_type": "code",
    "collapsed": true,
    "id": "f7mWbeTz_GLI",
    "outputId": "bd64a9bc-5aa2-4767-d71f-bdcb6279526c"
   },
   "outputs": [
    {
     "name": "stderr",
     "output_type": "stream",
     "text": [
      "100%|██████████| 1500/1500 [00:04<00:00, 351.82it/s]\n"
     ]
    },
    {
     "name": "stdout",
     "output_type": "stream",
     "text": [
      "tensor([[4.4251e-26, 0.0000e+00, 0.0000e+00,  ..., 1.2805e-36, 1.9175e-35,\n",
      "         5.6033e-35],\n",
      "        [2.5833e-24, 0.0000e+00, 0.0000e+00,  ..., 1.0583e-34, 1.5328e-33,\n",
      "         4.4192e-33],\n",
      "        [7.5408e-23, 0.0000e+00, 0.0000e+00,  ..., 4.3732e-33, 6.1266e-32,\n",
      "         1.7426e-31],\n",
      "        ...,\n",
      "        [0.0000e+00, 1.7970e-33, 2.2337e-15,  ..., 0.0000e+00, 0.0000e+00,\n",
      "         0.0000e+00],\n",
      "        [0.0000e+00, 8.1684e-34, 1.3701e-15,  ..., 0.0000e+00, 0.0000e+00,\n",
      "         0.0000e+00],\n",
      "        [0.0000e+00, 3.7007e-34, 8.3744e-16,  ..., 0.0000e+00, 0.0000e+00,\n",
      "         0.0000e+00]])\n"
     ]
    },
    {
     "data": {
      "image/png": "[encoded data removed]",
      "text/plain": [
       "<Figure size 432x288 with 1 Axes>"
      ]
     },
     "metadata": {
      "needs_background": "light"
     },
     "output_type": "display_data"
    }
   ],
   "source": [
    "def model(data):\n",
    "    with pyro.plate(\"beta_plate\", T-1):\n",
    "        beta = pyro.sample(\"beta\", Beta(1, alpha))\n",
    "\n",
    "    with pyro.plate(\"lambda_plate\", T):\n",
    "        lmbda = pyro.sample(\"lambda\", Gamma(3, 0.05))\n",
    "    \n",
    "    with pyro.plate(\"data\", N):\n",
    "        z = pyro.sample(\"z\", Categorical(mix_weights(beta)))\n",
    "        pyro.sample(\"obs\", Poisson(lmbda[z]), obs=data)\n",
    "\n",
    "def guide(data):\n",
    "    kappa = pyro.param('kappa', lambda: Uniform(0, 2).sample([T-1]), constraint=constraints.positive)\n",
    "    tau_0 = pyro.param('tau_0', lambda: Uniform(0, 5).sample([T]), constraint=constraints.positive)\n",
    "    tau_1 = pyro.param('tau_1', lambda: LogNormal(-1, 1).sample([T]), constraint=constraints.positive)\n",
    "    phi = pyro.param('phi', lambda: Dirichlet(1/T * torch.ones(T)).sample([N]), constraint=constraints.simplex)\n",
    "\n",
    "    with pyro.plate(\"beta_plate\", T-1):\n",
    "        q_beta = pyro.sample(\"beta\", Beta(torch.ones(T-1), kappa))\n",
    "\n",
    "    with pyro.plate(\"lambda_plate\", T):\n",
    "        q_lambda = pyro.sample(\"lambda\", Gamma(tau_0, tau_1))\n",
    "\n",
    "    with pyro.plate(\"data\", N):\n",
    "        z = pyro.sample(\"z\", Categorical(phi))\n",
    "\n",
    "T = 20\n",
    "alpha = 1.1\n",
    "n_iter = 1500\n",
    "optim = Adam({\"lr\": 0.05})\n",
    "svi = SVI(model, guide, optim, loss=Trace_ELBO())\n",
    "losses = []\n",
    "\n",
    "train(n_iter)\n",
    "\n",
    "samples = torch.arange(0, 300).type(torch.float)\n",
    "\n",
    "tau0_optimal = pyro.param(\"tau_0\").detach()\n",
    "tau1_optimal = pyro.param(\"tau_1\").detach()\n",
    "kappa_optimal = pyro.param(\"kappa\").detach()\n",
    "\n",
    "# We make a point-estimate of our latent variables using the posterior means of tau and kappa for the cluster params and weights\n",
    "Bayes_Rates = (tau0_optimal / tau1_optimal)\n",
    "Bayes_Weights = mix_weights(1. / (1. + kappa_optimal))\n",
    "\n",
    "def mixture_of_poisson(weights, rates, samples):\n",
    "    print(Poisson(rates).log_prob(samples.unsqueeze(-1)).exp())\n",
    "    return (weights * Poisson(rates).log_prob(samples.unsqueeze(-1)).exp()).sum(-1)\n",
    "\n",
    "likelihood = mixture_of_poisson(Bayes_Weights, Bayes_Rates, samples)\n",
    "\n",
    "plt.title(\"Number of Years vs. Sunspot Counts\")\n",
    "plt.hist(data.numpy(), bins=60, density=True, lw=0, alpha=0.75);\n",
    "plt.plot(samples, likelihood, label=\"Estimated Mixture Density\")\n",
    "plt.legend()\n",
    "plt.show()"
   ]
  },
  {
   "cell_type": "code",
   "execution_count": 16,
   "metadata": {},
   "outputs": [
    {
     "data": {
      "text/plain": [
       "(array([3., 1., 2., 2., 6., 2., 1., 1., 1., 1.]),\n",
       " array([0.02980027, 0.03453253, 0.03926478, 0.04399704, 0.0487293 ,\n",
       "        0.05346155, 0.05819381, 0.06292606, 0.06765832, 0.07239057,\n",
       "        0.07712283], dtype=float32),\n",
       " <BarContainer object of 10 artists>)"
      ]
     },
     "execution_count": 16,
     "metadata": {},
     "output_type": "execute_result"
    },
    {
     "data": {
      "image/png": "[encoded data removed]",
      "text/plain": [
       "<Figure size 432x288 with 1 Axes>"
      ]
     },
     "metadata": {
      "needs_background": "light"
     },
     "output_type": "display_data"
    }
   ],
   "source": [
    "plt.hist(np.array(Bayes_Weights))"
   ]
  },
  {
   "cell_type": "markdown",
   "metadata": {
    "colab_type": "text",
    "id": "NaHLTiRJUxBR"
   },
   "source": [
    "### ELBO Behavior\n",
    "\n",
    "Below are plots of the behavior of the loss function (negative Trace_ELBO) over the SVI iterations during inference using Pyro, as well as a plot of the autocorrelations of the ELBO 'time series' versus iteration number. We can see that around 500 iterations, the loss stops decreasing significantly, so we can assume it takes around 500 iterations to achieve convergence. The autocorrelation plot reaches an autocorrelation very close to 0 around a lag of 500, further corroborating this hypothesis. Note that these are heuristics and do not necessarily imply convergence."
   ]
  },
  {
   "cell_type": "code",
   "execution_count": 10,
   "metadata": {
    "colab": {
     "base_uri": "https://localhost:8080/",
     "height": 369
    },
    "colab_type": "code",
    "id": "XzbxzSkOUveF",
    "outputId": "a752e5e8-1fcf-4ff9-d8db-8d3f59a6a32b"
   },
   "outputs": [
    {
     "data": {
      "image/png": "[encoded data removed]",
      "text/plain": [
       "<Figure size 1080x360 with 2 Axes>"
      ]
     },
     "metadata": {
      "needs_background": "light"
     },
     "output_type": "display_data"
    }
   ],
   "source": [
    "elbo_plot = plt.figure(figsize=(15, 5))\n",
    "\n",
    "elbo_ax = elbo_plot.add_subplot(1, 2, 1)\n",
    "elbo_ax.set_title(\"ELBO Value vs. Iteration Number for Pyro BBVI on Sunspot Data\")\n",
    "elbo_ax.set_ylabel(\"ELBO\")\n",
    "elbo_ax.set_xlabel(\"Iteration Number\")\n",
    "elbo_ax.plot(np.arange(n_iter), losses)\n",
    "\n",
    "autocorr_ax = elbo_plot.add_subplot(1, 2, 2)\n",
    "autocorr_ax.acorr(np.asarray(losses), detrend=lambda x: x - x.mean(), maxlags=750, usevlines=False, marker=',')\n",
    "autocorr_ax.set_xlim(0, 500)\n",
    "autocorr_ax.axhline(0, ls=\"--\", c=\"k\", lw=1)\n",
    "autocorr_ax.set_title(\"Autocorrelation of ELBO vs. Lag for Pyro BBVI on Sunspot Data\")\n",
    "autocorr_ax.set_xlabel(\"Lag\")\n",
    "autocorr_ax.set_ylabel(\"Autocorrelation\")\n",
    "elbo_plot.tight_layout()\n",
    "plt.show()\n"
   ]
  },
  {
   "cell_type": "code",
   "execution_count": 30,
   "metadata": {
    "colab": {
     "base_uri": "https://localhost:8080/",
     "height": 526
    },
    "colab_type": "code",
    "id": "3V2-DC9nobPi",
    "outputId": "473035e6-036f-4e34-9ea4-6c2dc5a4bec0"
   },
   "outputs": [
    {
     "name": "stderr",
     "output_type": "stream",
     "text": [
      "100%|██████████| 500/500 [00:01<00:00, 355.26it/s]\n",
      "100%|██████████| 500/500 [00:01<00:00, 354.31it/s]\n",
      "100%|██████████| 500/500 [00:01<00:00, 360.59it/s]\n",
      "100%|██████████| 500/500 [00:01<00:00, 360.28it/s]\n",
      "100%|██████████| 500/500 [00:01<00:00, 359.52it/s]\n",
      "100%|██████████| 500/500 [00:01<00:00, 357.16it/s]\n",
      "100%|██████████| 500/500 [00:01<00:00, 359.72it/s]\n",
      "100%|██████████| 500/500 [00:01<00:00, 359.36it/s]\n",
      "100%|██████████| 500/500 [00:01<00:00, 359.90it/s]\n",
      "100%|██████████| 500/500 [00:01<00:00, 359.90it/s]\n",
      "100%|██████████| 500/500 [00:01<00:00, 359.49it/s]\n"
     ]
    },
    {
     "data": {
      "image/png": "[encoded data removed]",
      "text/plain": [
       "<Figure size 720x360 with 1 Axes>"
      ]
     },
     "metadata": {
      "needs_background": "light"
     },
     "output_type": "display_data"
    }
   ],
   "source": [
    "# Hold out 10% of our original data to test upon\n",
    "df_test = df.sample(frac=0.1)\n",
    "data = torch.tensor(df.drop(df_test.index)['sunspot.year'].values, dtype=torch.float).round()\n",
    "data_test = torch.tensor(df_test['sunspot.year'].values, dtype=torch.float).round()\n",
    "N = data.shape[0]\n",
    "N_test = data_test.shape[0]\n",
    "\n",
    "alphas = [0.05, 0.1, 0.5, 0.75, 0.9, 1., 1.25, 1.5, 2, 2.5, 3]\n",
    "log_predictives = []\n",
    "\n",
    "for val in alphas:\n",
    "    alpha = val\n",
    "    T = 20\n",
    "    svi = SVI(model, guide, optim, loss=Trace_ELBO())\n",
    "    train(500)\n",
    "    \n",
    "    S = 100 # number of Monte Carlo samples to use in posterior predictive computations\n",
    "\n",
    "    # Using pyro's built in posterior predictive class:\n",
    "    posterior = Predictive(guide, num_samples=S, return_sites=[\"beta\", \"lambda\"])(data)\n",
    "    post_pred_weights = mix_weights(posterior[\"beta\"])\n",
    "    post_pred_clusters = posterior[\"lambda\"]\n",
    "\n",
    "    # log_prob shape = N_test x S\n",
    "    log_prob = (post_pred_weights.log() + Poisson(post_pred_clusters).log_prob(data.reshape(-1, 1, 1))).logsumexp(-1)\n",
    "    mean_log_prob = log_prob.logsumexp(-1) - np.log(S)\n",
    "    log_posterior_predictive = mean_log_prob.sum(-1)\n",
    "    log_predictives.append(log_posterior_predictive)\n",
    "\n",
    "plt.figure(figsize=(10, 5))\n",
    "plt.plot(alphas, log_predictives)\n",
    "plt.title(\"Value of the Log Predictive at Varying Alpha\")\n",
    "plt.show()"
   ]
  },
  {
   "cell_type": "markdown",
   "metadata": {
    "colab_type": "text",
    "id": "PGw4eD363PWP"
   },
   "source": [
    "From the above plot, we would surmise that we want to set $\\alpha > 1$, though the signal is not quite clear. A more comprehensive model criticism process would involve performing a grid search across all hyperparameters in order to find the one that maximizes the log predictive.\n"
   ]
  },
  {
   "cell_type": "markdown",
   "metadata": {
    "colab_type": "text",
    "id": "8A1gt4sn8Upo"
   },
   "source": [
    "## References\n",
    "\n",
    "\n",
    "\n",
    "1.   Ferguson, Thomas. *A Bayesian Analysis of Some Nonparametric Problems*. The Annals of Statistics, Vol. 1, No. 2 (1973). \n",
    "2.   Aldous, D. *Exchangeability and Related Topics*. Ecole diete de Probabilities Saint Flour (1985).\n",
    "3.   Sethuraman, J. *A Constructive Definition of Dirichlet Priors*. Statistica, Sinica, 4:639-650 (1994).\n",
    "4.   Blei, David and Jordan, Michael. *Variational Inference for Dirichlet Process Mixtures*. Bayesian Analysis, Vol. 1, No. 1 (2004).\n",
    "5.   Pedregosa, et al. *Scikit-Learn: Machine Learning in Python*. JMLR 12, pp. 2825-2830 (2011).\n",
    "6.   Bishop, Christopher. *Pattern Recogition and Machine Learning*. Springer Ltd (2006).\n",
    "7.   *Sunspot Index and Long-Term Solar Observations*. WDC-SILSO, Royal Observatory of Belgium, Brussels (2018).\n",
    "9.   Gelman, Andrew. *Understanding predictive information criteria for Bayesian models*. Statistics and Computing, Springer Link, 2014.\n",
    "\n",
    "\n",
    "\n"
   ]
  }
 ],
 "metadata": {
  "accelerator": "TPU",
  "colab": {
   "collapsed_sections": [],
   "name": "Pyro Dirichlet Process Mixture Model",
   "provenance": []
  },
  "kernelspec": {
   "display_name": "Python 3",
   "language": "python",
   "name": "python3"
  },
  "language_info": {
   "codemirror_mode": {
    "name": "ipython",
    "version": 3
   },
   "file_extension": ".py",
   "mimetype": "text/x-python",
   "name": "python",
   "nbconvert_exporter": "python",
   "pygments_lexer": "ipython3",
   "version": "3.8.5"
  }
 },
 "nbformat": 4,
 "nbformat_minor": 4
}
