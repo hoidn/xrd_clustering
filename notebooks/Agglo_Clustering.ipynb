{
 "cells": [
  {
   "cell_type": "code",
   "execution_count": 1,
   "metadata": {},
   "outputs": [
    {
     "name": "stderr",
     "output_type": "stream",
     "text": [
      "WARNING:silx.opencl.common:Unable to import pyOpenCl. Please install it from: http://pypi.python.org/pypi/pyopencl\n"
     ]
    }
   ],
   "source": [
    "import os\n",
    "import re\n",
    "import sys\n",
    "import sklearn as skl\n",
    "import math\n",
    "\n",
    "import matplotlib\n",
    "import matplotlib.pyplot as plt\n",
    "\n",
    "import numpy as np\n",
    "\n",
    "import pandas as pd\n",
    "\n",
    "import sklearn.cluster\n",
    "\n",
    "import glob\n",
    "\n",
    "from data_grid import DataGrid\n",
    "\n",
    "from sklearn.decomposition import PCA\n",
    "\n",
    "from sklearn.cluster import AgglomerativeClustering\n",
    "\n",
    "from sklearn.cluster import KMeans\n",
    "\n",
    "from sklearn.cluster import MiniBatchKMeans\n",
    "\n",
    "from data_grid_TiNiSn import DataGrid, DataGrid_TiNiSn_500C, DataGrid_TiNiSn_600C\n",
    "\n",
    "from Agglo_cluster import Agglo_cluster\n",
    "\n",
    "from peak_removal import peak_rem\n",
    "\n",
    "import dataproc.operations\n",
    "\n",
    "from dataproc.operations.hitp import bayesian_block_finder\n",
    "from dataproc.operations.peakShapes import voigtFn"
   ]
  },
  {
   "cell_type": "markdown",
   "metadata": {},
   "source": [
    "# Agglomerative Clustering on the (177,800) dataset using diffferent metrics\n",
    "\n",
    "## The first reduces the dimension of the dataset with PCA\n",
    "## The second uses the full 800 features"
   ]
  },
  {
   "cell_type": "code",
   "execution_count": 2,
   "metadata": {},
   "outputs": [
    {
     "name": "stdout",
     "output_type": "stream",
     "text": [
      "Loading Data from: C:/Users/oluwa/Downloads/TiNiSn_500C-20200714T190740Z-001/TiNiSn_500C/\n",
      "Data Loaded Succesfully\n",
      "Loading Data from: C:/Users/oluwa/Downloads/TiNiSn_600C-20200714T191809Z-001/TiNiSn_600C/\n",
      "Data Loaded Succesfully\n"
     ]
    }
   ],
   "source": [
    "#Load the dataset\n",
    "\n",
    "dataGrid = DataGrid_TiNiSn_500C()\n",
    "dataGrid2 = DataGrid_TiNiSn_600C()"
   ]
  },
  {
   "cell_type": "code",
   "execution_count": 3,
   "metadata": {},
   "outputs": [
    {
     "name": "stdout",
     "output_type": "stream",
     "text": [
      "(177, 800)\n"
     ]
    },
    {
     "data": {
      "text/plain": [
       "(177, 800)"
      ]
     },
     "execution_count": 3,
     "metadata": {},
     "output_type": "execute_result"
    }
   ],
   "source": [
    "np.shape(dataGrid.get_data_array())"
   ]
  },
  {
   "cell_type": "code",
   "execution_count": 4,
   "metadata": {},
   "outputs": [],
   "source": [
    "Agglo_cluster?"
   ]
  },
  {
   "cell_type": "markdown",
   "metadata": {},
   "source": [
    "## Cosine metric"
   ]
  },
  {
   "cell_type": "code",
   "execution_count": 5,
   "metadata": {
    "scrolled": true
   },
   "outputs": [
    {
     "name": "stdout",
     "output_type": "stream",
     "text": [
      "(177, 800)\n",
      "Loading Data from: C:/Users/oluwa/Downloads/TiNiSn_500C-20200714T190740Z-001/TiNiSn_500C/\n",
      "Data Loaded Succesfully\n"
     ]
    },
    {
     "data": {
      "image/png": "[encoded data removed]",
      "text/plain": [
       "<Figure size 432x288 with 1 Axes>"
      ]
     },
     "metadata": {
      "needs_background": "light"
     },
     "output_type": "display_data"
    },
    {
     "name": "stdout",
     "output_type": "stream",
     "text": [
      "(177, 800)\n",
      "Loading Data from: C:/Users/oluwa/Downloads/TiNiSn_500C-20200714T190740Z-001/TiNiSn_500C/\n",
      "Data Loaded Succesfully\n"
     ]
    },
    {
     "data": {
      "image/png": "[encoded data removed]",
      "text/plain": [
       "<Figure size 432x288 with 1 Axes>"
      ]
     },
     "metadata": {
      "needs_background": "light"
     },
     "output_type": "display_data"
    },
    {
     "name": "stdout",
     "output_type": "stream",
     "text": [
      "(177, 800)\n",
      "Loading Data from: C:/Users/oluwa/Downloads/TiNiSn_500C-20200714T190740Z-001/TiNiSn_500C/\n",
      "Data Loaded Succesfully\n"
     ]
    },
    {
     "data": {
      "image/png": "[encoded data removed]",
      "text/plain": [
       "<Figure size 432x288 with 1 Axes>"
      ]
     },
     "metadata": {
      "needs_background": "light"
     },
     "output_type": "display_data"
    }
   ],
   "source": [
    "# Reduce the 800 faetures to 25,50,100, etc and perform agglomerative clustering with Cosine metric\n",
    "for i in [25,50,100]:\n",
    "    pca = PCA(n_components=i)\n",
    "    X_red = pca.fit_transform(dataGrid.get_data_array())\n",
    "    D_PCA = Agglo_cluster(X_red,deal = 'None',metric = 'cosine')"
   ]
  },
  {
   "cell_type": "code",
   "execution_count": 6,
   "metadata": {
    "scrolled": true
   },
   "outputs": [
    {
     "name": "stdout",
     "output_type": "stream",
     "text": [
      "(177, 800)\n",
      "Loading Data from: C:/Users/oluwa/Downloads/TiNiSn_500C-20200714T190740Z-001/TiNiSn_500C/\n",
      "Data Loaded Succesfully\n"
     ]
    },
    {
     "data": {
      "image/png": "[encoded data removed]",
      "text/plain": [
       "<Figure size 432x288 with 2 Axes>"
      ]
     },
     "metadata": {
      "needs_background": "light"
     },
     "output_type": "display_data"
    },
    {
     "data": {
      "text/plain": [
       "[array([0, 0, 0, 0, 0, 0, 0, 0, 0, 0, 0, 0, 0, 0, 7, 0, 0, 0, 0, 0, 0, 0,\n",
       "        0, 0, 0, 3, 7, 7, 0, 0, 0, 0, 0, 0, 0, 0, 0, 0, 6, 3, 3, 7, 0, 0,\n",
       "        0, 0, 0, 0, 0, 0, 2, 6, 6, 6, 3, 3, 9, 2, 0, 0, 0, 0, 0, 2, 2, 2,\n",
       "        6, 6, 6, 6, 3, 9, 9, 2, 0, 0, 0, 2, 2, 2, 4, 6, 6, 6, 6, 6, 3, 9,\n",
       "        2, 2, 2, 2, 2, 2, 4, 4, 6, 6, 6, 6, 6, 3, 9, 9, 2, 2, 2, 2, 5, 4,\n",
       "        4, 6, 6, 6, 6, 6, 1, 1, 5, 5, 5, 5, 5, 4, 4, 4, 6, 6, 6, 6, 1, 1,\n",
       "        1, 5, 5, 5, 5, 4, 4, 6, 6, 6, 6, 1, 1, 1, 1, 1, 5, 8, 8, 4, 6, 6,\n",
       "        6, 6, 1, 1, 1, 1, 5, 8, 8, 6, 6, 6, 1, 1, 1, 1, 8, 8, 6, 6, 1, 1,\n",
       "        1], dtype=int64),\n",
       " array([10, 10, 10, 10, 10,  5,  5,  5, 10, 10, 10, 10, 10, 10,  7,  5,  5,\n",
       "         5,  5, 10, 10, 10, 10, 10, 10,  3,  7,  7,  5,  5, 10, 10, 10, 10,\n",
       "        10, 10, 10, 10,  6,  3,  3,  7,  5, 10, 10, 10, 10, 10, 10, 10,  0,\n",
       "         6,  6,  6,  3,  3,  9,  0, 10, 10, 10, 10, 10,  0,  0,  0,  6,  6,\n",
       "         6,  6,  3,  9,  9,  0, 10, 10, 10,  0,  0,  0,  4,  6,  6,  6,  6,\n",
       "         6,  3,  9,  0,  0,  0,  0,  0,  0,  4,  4,  6,  6,  6,  6,  6,  3,\n",
       "         9,  9,  0,  0,  0,  0,  2,  4,  4,  6,  6,  6,  6,  6,  1,  1,  2,\n",
       "         2,  2,  2,  2,  4,  4,  4,  6,  6,  6,  6,  1,  1,  1,  2,  2,  2,\n",
       "         2,  4,  4,  6,  6,  6,  6,  1,  1,  1,  1,  1,  2,  8,  8,  4,  6,\n",
       "         6,  6,  6,  1,  1,  1,  1,  2,  8,  8,  6,  6,  6,  1,  1,  1,  1,\n",
       "         8,  8,  6,  6,  1,  1,  1], dtype=int64)]"
      ]
     },
     "execution_count": 6,
     "metadata": {},
     "output_type": "execute_result"
    }
   ],
   "source": [
    "Agglo_cluster(dataGrid.get_data_array(), a = 10, b=12, deal = 'None', metric = 'cosine')"
   ]
  },
  {
   "cell_type": "markdown",
   "metadata": {},
   "source": [
    "## Average difference metric"
   ]
  },
  {
   "cell_type": "code",
   "execution_count": 7,
   "metadata": {},
   "outputs": [
    {
     "name": "stdout",
     "output_type": "stream",
     "text": [
      "(177, 800)\n",
      "Loading Data from: C:/Users/oluwa/Downloads/TiNiSn_500C-20200714T190740Z-001/TiNiSn_500C/\n",
      "Data Loaded Succesfully\n"
     ]
    },
    {
     "data": {
      "image/png": "[encoded data removed]",
      "text/plain": [
       "<Figure size 432x288 with 1 Axes>"
      ]
     },
     "metadata": {
      "needs_background": "light"
     },
     "output_type": "display_data"
    },
    {
     "name": "stdout",
     "output_type": "stream",
     "text": [
      "(177, 800)\n",
      "Loading Data from: C:/Users/oluwa/Downloads/TiNiSn_500C-20200714T190740Z-001/TiNiSn_500C/\n",
      "Data Loaded Succesfully\n"
     ]
    },
    {
     "data": {
      "image/png": "[encoded data removed]",
      "text/plain": [
       "<Figure size 432x288 with 1 Axes>"
      ]
     },
     "metadata": {
      "needs_background": "light"
     },
     "output_type": "display_data"
    },
    {
     "name": "stdout",
     "output_type": "stream",
     "text": [
      "(177, 800)\n",
      "Loading Data from: C:/Users/oluwa/Downloads/TiNiSn_500C-20200714T190740Z-001/TiNiSn_500C/\n",
      "Data Loaded Succesfully\n"
     ]
    },
    {
     "data": {
      "image/png": "[encoded data removed]",
      "text/plain": [
       "<Figure size 432x288 with 1 Axes>"
      ]
     },
     "metadata": {
      "needs_background": "light"
     },
     "output_type": "display_data"
    },
    {
     "name": "stdout",
     "output_type": "stream",
     "text": [
      "(177, 800)\n",
      "Loading Data from: C:/Users/oluwa/Downloads/TiNiSn_500C-20200714T190740Z-001/TiNiSn_500C/\n",
      "Data Loaded Succesfully\n"
     ]
    },
    {
     "data": {
      "image/png": "[encoded data removed]",
      "text/plain": [
       "<Figure size 432x288 with 1 Axes>"
      ]
     },
     "metadata": {
      "needs_background": "light"
     },
     "output_type": "display_data"
    },
    {
     "name": "stdout",
     "output_type": "stream",
     "text": [
      "(177, 800)\n",
      "Loading Data from: C:/Users/oluwa/Downloads/TiNiSn_500C-20200714T190740Z-001/TiNiSn_500C/\n",
      "Data Loaded Succesfully\n"
     ]
    },
    {
     "data": {
      "image/png": "[encoded data removed]",
      "text/plain": [
       "<Figure size 432x288 with 1 Axes>"
      ]
     },
     "metadata": {
      "needs_background": "light"
     },
     "output_type": "display_data"
    }
   ],
   "source": [
    "# Reduce the 800 faetures to 25,50,100, etc and perform agglomerative clustering with ave diff metric\n",
    "for i in [25,50,100,125,150]:\n",
    "    pca = PCA(n_components=i)\n",
    "    X_red = pca.fit_transform(dataGrid.get_data_array())\n",
    "    D_PCA = Agglo_cluster(X_red)"
   ]
  },
  {
   "cell_type": "code",
   "execution_count": 8,
   "metadata": {
    "scrolled": true
   },
   "outputs": [
    {
     "name": "stdout",
     "output_type": "stream",
     "text": [
      "(177, 800)\n",
      "Loading Data from: C:/Users/oluwa/Downloads/TiNiSn_500C-20200714T190740Z-001/TiNiSn_500C/\n",
      "Data Loaded Succesfully\n"
     ]
    },
    {
     "data": {
      "image/png": "[encoded data removed]",
      "text/plain": [
       "<Figure size 432x288 with 2 Axes>"
      ]
     },
     "metadata": {
      "needs_background": "light"
     },
     "output_type": "display_data"
    },
    {
     "data": {
      "text/plain": [
       "[array([5, 5, 5, 5, 5, 0, 0, 5, 5, 5, 5, 5, 5, 5, 0, 0, 0, 5, 5, 5, 5, 5,\n",
       "        5, 5, 5, 1, 1, 1, 0, 0, 0, 5, 5, 5, 5, 5, 5, 5, 1, 1, 1, 1, 0, 0,\n",
       "        5, 5, 5, 5, 5, 5, 8, 2, 2, 1, 1, 4, 4, 8, 5, 5, 5, 5, 5, 8, 3, 3,\n",
       "        2, 2, 2, 9, 9, 4, 4, 8, 5, 5, 5, 8, 3, 3, 7, 2, 2, 2, 2, 9, 9, 4,\n",
       "        8, 8, 8, 8, 4, 3, 7, 7, 2, 2, 2, 2, 2, 9, 4, 4, 4, 4, 4, 3, 3, 7,\n",
       "        7, 2, 2, 2, 2, 2, 2, 6, 6, 4, 4, 3, 3, 7, 7, 7, 2, 2, 2, 2, 2, 2,\n",
       "        6, 6, 6, 3, 7, 7, 7, 2, 2, 2, 2, 2, 2, 6, 6, 6, 7, 7, 7, 7, 2, 2,\n",
       "        2, 2, 2, 6, 6, 6, 7, 7, 7, 2, 2, 2, 2, 6, 6, 6, 7, 7, 2, 2, 6, 6,\n",
       "        6], dtype=int64),\n",
       " array([ 5,  5,  5,  5,  5, 10, 10,  5,  5,  5,  5,  5,  5,  5,  1,  1,  1,\n",
       "         5,  5,  5,  5,  5,  5,  5,  5,  0,  0,  0,  1,  1,  1,  5,  5,  5,\n",
       "         5,  5,  5,  5,  0,  0,  0,  0,  1,  1,  5,  5,  5,  5,  5,  5,  8,\n",
       "         2,  2,  0,  0,  4,  4,  8,  5,  5,  5,  5,  5,  8,  3,  3,  2,  2,\n",
       "         2,  9,  9,  4,  4,  8,  5,  5,  5,  8,  3,  3,  7,  2,  2,  2,  2,\n",
       "         9,  9,  4,  8,  8,  8,  8,  4,  3,  7,  7,  2,  2,  2,  2,  2,  9,\n",
       "         4,  4,  4,  4,  4,  3,  3,  7,  7,  2,  2,  2,  2,  2,  2,  6,  6,\n",
       "         4,  4,  3,  3,  7,  7,  7,  2,  2,  2,  2,  2,  2,  6,  6,  6,  3,\n",
       "         7,  7,  7,  2,  2,  2,  2,  2,  2,  6,  6,  6,  7,  7,  7,  7,  2,\n",
       "         2,  2,  2,  2,  6,  6,  6,  7,  7,  7,  2,  2,  2,  2,  6,  6,  6,\n",
       "         7,  7,  2,  2,  6,  6,  6], dtype=int64)]"
      ]
     },
     "execution_count": 8,
     "metadata": {},
     "output_type": "execute_result"
    }
   ],
   "source": [
    "Agglo_cluster(dataGrid.get_data_array(), a=10, b=12)"
   ]
  },
  {
   "cell_type": "markdown",
   "metadata": {},
   "source": [
    "## Squared Euclidean "
   ]
  },
  {
   "cell_type": "code",
   "execution_count": 9,
   "metadata": {
    "scrolled": true
   },
   "outputs": [
    {
     "name": "stdout",
     "output_type": "stream",
     "text": [
      "(177, 800)\n",
      "Loading Data from: C:/Users/oluwa/Downloads/TiNiSn_500C-20200714T190740Z-001/TiNiSn_500C/\n",
      "Data Loaded Succesfully\n"
     ]
    },
    {
     "data": {
      "image/png": "[encoded data removed]",
      "text/plain": [
       "<Figure size 432x288 with 1 Axes>"
      ]
     },
     "metadata": {
      "needs_background": "light"
     },
     "output_type": "display_data"
    },
    {
     "name": "stdout",
     "output_type": "stream",
     "text": [
      "(177, 800)\n",
      "Loading Data from: C:/Users/oluwa/Downloads/TiNiSn_500C-20200714T190740Z-001/TiNiSn_500C/\n",
      "Data Loaded Succesfully\n"
     ]
    },
    {
     "data": {
      "image/png": "[encoded data removed]",
      "text/plain": [
       "<Figure size 432x288 with 1 Axes>"
      ]
     },
     "metadata": {
      "needs_background": "light"
     },
     "output_type": "display_data"
    },
    {
     "name": "stdout",
     "output_type": "stream",
     "text": [
      "(177, 800)\n",
      "Loading Data from: C:/Users/oluwa/Downloads/TiNiSn_500C-20200714T190740Z-001/TiNiSn_500C/\n",
      "Data Loaded Succesfully\n"
     ]
    },
    {
     "data": {
      "image/png": "[encoded data removed]",
      "text/plain": [
       "<Figure size 432x288 with 1 Axes>"
      ]
     },
     "metadata": {
      "needs_background": "light"
     },
     "output_type": "display_data"
    }
   ],
   "source": [
    "for i in [25,50,100]:\n",
    "    pca = PCA(n_components=i)\n",
    "    X_red = pca.fit_transform(dataGrid.get_data_array())\n",
    "    D_PCA = Agglo_cluster(X_red, deal = 'None', metric = 'sEuclidean')"
   ]
  },
  {
   "cell_type": "code",
   "execution_count": 10,
   "metadata": {
    "scrolled": true
   },
   "outputs": [
    {
     "name": "stdout",
     "output_type": "stream",
     "text": [
      "(177, 800)\n",
      "Loading Data from: C:/Users/oluwa/Downloads/TiNiSn_500C-20200714T190740Z-001/TiNiSn_500C/\n",
      "Data Loaded Succesfully\n"
     ]
    },
    {
     "data": {
      "image/png": "[encoded data removed]",
      "text/plain": [
       "<Figure size 432x288 with 2 Axes>"
      ]
     },
     "metadata": {
      "needs_background": "light"
     },
     "output_type": "display_data"
    },
    {
     "data": {
      "text/plain": [
       "[array([0, 0, 0, 0, 0, 2, 2, 0, 0, 0, 0, 0, 0, 0, 2, 2, 2, 2, 0, 0, 0, 0,\n",
       "        0, 0, 0, 4, 4, 2, 2, 0, 0, 0, 0, 0, 0, 0, 0, 9, 3, 4, 4, 2, 2, 0,\n",
       "        0, 0, 0, 0, 0, 9, 9, 3, 3, 3, 4, 4, 4, 9, 0, 0, 0, 0, 0, 9, 6, 6,\n",
       "        3, 3, 1, 1, 1, 4, 4, 9, 0, 0, 0, 9, 6, 6, 7, 3, 3, 1, 1, 1, 1, 4,\n",
       "        9, 9, 9, 9, 6, 6, 7, 7, 3, 1, 1, 8, 1, 1, 4, 4, 6, 6, 6, 6, 7, 7,\n",
       "        7, 3, 3, 1, 8, 8, 3, 5, 4, 4, 4, 6, 7, 7, 7, 7, 3, 1, 1, 8, 3, 5,\n",
       "        5, 5, 7, 7, 7, 7, 7, 3, 3, 1, 1, 8, 3, 5, 5, 7, 7, 7, 7, 7, 3, 1,\n",
       "        1, 8, 3, 5, 5, 7, 7, 7, 7, 3, 1, 1, 3, 5, 5, 7, 7, 7, 1, 3, 5, 5,\n",
       "        7], dtype=int64),\n",
       " array([ 9,  9, 10, 10, 10,  2,  2,  9,  9, 10, 10, 10, 10,  9,  2,  2,  2,\n",
       "         2,  9, 10, 10, 10, 10,  9,  9,  1,  1,  2,  2,  9,  9, 10, 10, 10,\n",
       "        10,  9,  9,  4,  3,  1,  1,  2,  2,  9, 10, 10, 10, 10, 10,  4,  4,\n",
       "         3,  3,  3,  1,  1,  1,  4,  9, 10, 10, 10,  9,  4,  6,  6,  3,  3,\n",
       "         0,  0,  0,  1,  1,  4,  9,  9,  9,  4,  6,  6,  7,  3,  3,  0,  0,\n",
       "         0,  0,  1,  4,  4,  4,  4,  6,  6,  7,  7,  3,  0,  0,  8,  0,  0,\n",
       "         1,  1,  6,  6,  6,  6,  7,  7,  7,  3,  3,  0,  8,  8,  3,  5,  1,\n",
       "         1,  1,  6,  7,  7,  7,  7,  3,  0,  0,  8,  3,  5,  5,  5,  7,  7,\n",
       "         7,  7,  7,  3,  3,  0,  0,  8,  3,  5,  5,  7,  7,  7,  7,  7,  3,\n",
       "         0,  0,  8,  3,  5,  5,  7,  7,  7,  7,  3,  0,  0,  3,  5,  5,  7,\n",
       "         7,  7,  0,  3,  5,  5,  7], dtype=int64)]"
      ]
     },
     "execution_count": 10,
     "metadata": {},
     "output_type": "execute_result"
    }
   ],
   "source": [
    "Agglo_cluster(dataGrid.get_data_array(),a=10, b=12, metric = 'sEuclidean')"
   ]
  },
  {
   "cell_type": "markdown",
   "metadata": {},
   "source": [
    "## Euclidean"
   ]
  },
  {
   "cell_type": "code",
   "execution_count": 11,
   "metadata": {
    "scrolled": true
   },
   "outputs": [
    {
     "name": "stdout",
     "output_type": "stream",
     "text": [
      "(177, 800)\n",
      "Loading Data from: C:/Users/oluwa/Downloads/TiNiSn_500C-20200714T190740Z-001/TiNiSn_500C/\n",
      "Data Loaded Succesfully\n"
     ]
    },
    {
     "data": {
      "image/png": "[encoded data removed]",
      "text/plain": [
       "<Figure size 432x288 with 1 Axes>"
      ]
     },
     "metadata": {
      "needs_background": "light"
     },
     "output_type": "display_data"
    },
    {
     "name": "stdout",
     "output_type": "stream",
     "text": [
      "(177, 800)\n",
      "Loading Data from: C:/Users/oluwa/Downloads/TiNiSn_500C-20200714T190740Z-001/TiNiSn_500C/\n",
      "Data Loaded Succesfully\n"
     ]
    },
    {
     "data": {
      "image/png": "[encoded data removed]",
      "text/plain": [
       "<Figure size 432x288 with 1 Axes>"
      ]
     },
     "metadata": {
      "needs_background": "light"
     },
     "output_type": "display_data"
    },
    {
     "name": "stdout",
     "output_type": "stream",
     "text": [
      "(177, 800)\n",
      "Loading Data from: C:/Users/oluwa/Downloads/TiNiSn_500C-20200714T190740Z-001/TiNiSn_500C/\n",
      "Data Loaded Succesfully\n"
     ]
    },
    {
     "data": {
      "image/png": "[encoded data removed]",
      "text/plain": [
       "<Figure size 432x288 with 1 Axes>"
      ]
     },
     "metadata": {
      "needs_background": "light"
     },
     "output_type": "display_data"
    }
   ],
   "source": [
    "for i in [25,50,100]:\n",
    "    pca = PCA(n_components=i)\n",
    "    X_red = pca.fit_transform(dataGrid.get_data_array())\n",
    "    D_PCA = Agglo_cluster(X_red,metric = 'Euclidean')"
   ]
  },
  {
   "cell_type": "code",
   "execution_count": 12,
   "metadata": {
    "scrolled": true
   },
   "outputs": [
    {
     "name": "stdout",
     "output_type": "stream",
     "text": [
      "(177, 800)\n",
      "Loading Data from: C:/Users/oluwa/Downloads/TiNiSn_500C-20200714T190740Z-001/TiNiSn_500C/\n",
      "Data Loaded Succesfully\n"
     ]
    },
    {
     "data": {
      "image/png": "[encoded data removed]",
      "text/plain": [
       "<Figure size 432x288 with 2 Axes>"
      ]
     },
     "metadata": {
      "needs_background": "light"
     },
     "output_type": "display_data"
    },
    {
     "data": {
      "text/plain": [
       "[array([0, 0, 0, 0, 0, 2, 2, 0, 0, 0, 0, 0, 0, 0, 2, 2, 2, 2, 0, 0, 0, 0,\n",
       "        0, 0, 0, 4, 4, 2, 2, 0, 0, 0, 0, 0, 0, 0, 0, 9, 3, 4, 4, 2, 2, 0,\n",
       "        0, 0, 0, 0, 0, 9, 9, 3, 3, 3, 4, 4, 4, 9, 0, 0, 0, 0, 0, 9, 6, 6,\n",
       "        3, 3, 1, 1, 1, 4, 4, 9, 0, 0, 0, 9, 6, 6, 7, 3, 3, 1, 1, 1, 1, 4,\n",
       "        9, 9, 9, 9, 6, 6, 7, 7, 3, 1, 1, 8, 1, 1, 4, 4, 6, 6, 6, 6, 7, 7,\n",
       "        7, 3, 3, 1, 8, 8, 3, 5, 4, 4, 4, 6, 7, 7, 7, 7, 3, 1, 1, 8, 3, 5,\n",
       "        5, 5, 7, 7, 7, 7, 7, 3, 3, 1, 1, 8, 3, 5, 5, 7, 7, 7, 7, 7, 3, 1,\n",
       "        1, 8, 3, 5, 5, 7, 7, 7, 7, 3, 1, 1, 3, 5, 5, 7, 7, 7, 1, 3, 5, 5,\n",
       "        7], dtype=int64),\n",
       " array([ 9,  9, 10, 10, 10,  2,  2,  9,  9, 10, 10, 10, 10,  9,  2,  2,  2,\n",
       "         2,  9, 10, 10, 10, 10,  9,  9,  1,  1,  2,  2,  9,  9, 10, 10, 10,\n",
       "        10,  9,  9,  4,  3,  1,  1,  2,  2,  9, 10, 10, 10, 10, 10,  4,  4,\n",
       "         3,  3,  3,  1,  1,  1,  4,  9, 10, 10, 10,  9,  4,  6,  6,  3,  3,\n",
       "         0,  0,  0,  1,  1,  4,  9,  9,  9,  4,  6,  6,  7,  3,  3,  0,  0,\n",
       "         0,  0,  1,  4,  4,  4,  4,  6,  6,  7,  7,  3,  0,  0,  8,  0,  0,\n",
       "         1,  1,  6,  6,  6,  6,  7,  7,  7,  3,  3,  0,  8,  8,  3,  5,  1,\n",
       "         1,  1,  6,  7,  7,  7,  7,  3,  0,  0,  8,  3,  5,  5,  5,  7,  7,\n",
       "         7,  7,  7,  3,  3,  0,  0,  8,  3,  5,  5,  7,  7,  7,  7,  7,  3,\n",
       "         0,  0,  8,  3,  5,  5,  7,  7,  7,  7,  3,  0,  0,  3,  5,  5,  7,\n",
       "         7,  7,  0,  3,  5,  5,  7], dtype=int64)]"
      ]
     },
     "execution_count": 12,
     "metadata": {},
     "output_type": "execute_result"
    }
   ],
   "source": [
    "Agglo_cluster(dataGrid.get_data_array(),a=10, b=12, metric = 'Euclidean')"
   ]
  },
  {
   "cell_type": "markdown",
   "metadata": {},
   "source": [
    "## Manhattan"
   ]
  },
  {
   "cell_type": "code",
   "execution_count": 13,
   "metadata": {
    "scrolled": true
   },
   "outputs": [
    {
     "name": "stdout",
     "output_type": "stream",
     "text": [
      "(177, 800)\n",
      "Loading Data from: C:/Users/oluwa/Downloads/TiNiSn_500C-20200714T190740Z-001/TiNiSn_500C/\n",
      "Data Loaded Succesfully\n"
     ]
    },
    {
     "data": {
      "image/png": "[encoded data removed]",
      "text/plain": [
       "<Figure size 432x288 with 1 Axes>"
      ]
     },
     "metadata": {
      "needs_background": "light"
     },
     "output_type": "display_data"
    },
    {
     "name": "stdout",
     "output_type": "stream",
     "text": [
      "(177, 800)\n",
      "Loading Data from: C:/Users/oluwa/Downloads/TiNiSn_500C-20200714T190740Z-001/TiNiSn_500C/\n",
      "Data Loaded Succesfully\n"
     ]
    },
    {
     "data": {
      "image/png": "[encoded data removed]",
      "text/plain": [
       "<Figure size 432x288 with 1 Axes>"
      ]
     },
     "metadata": {
      "needs_background": "light"
     },
     "output_type": "display_data"
    },
    {
     "name": "stdout",
     "output_type": "stream",
     "text": [
      "(177, 800)\n",
      "Loading Data from: C:/Users/oluwa/Downloads/TiNiSn_500C-20200714T190740Z-001/TiNiSn_500C/\n",
      "Data Loaded Succesfully\n"
     ]
    },
    {
     "data": {
      "image/png": "[encoded data removed]",
      "text/plain": [
       "<Figure size 432x288 with 1 Axes>"
      ]
     },
     "metadata": {
      "needs_background": "light"
     },
     "output_type": "display_data"
    }
   ],
   "source": [
    "for i in [25,50,100]:\n",
    "    pca = PCA(n_components=i)\n",
    "    X_red = pca.fit_transform(dataGrid.get_data_array())\n",
    "    D_PCA = Agglo_cluster(X_red,metric = 'Manhattan')"
   ]
  },
  {
   "cell_type": "code",
   "execution_count": 14,
   "metadata": {
    "scrolled": true
   },
   "outputs": [
    {
     "name": "stdout",
     "output_type": "stream",
     "text": [
      "(177, 800)\n",
      "Loading Data from: C:/Users/oluwa/Downloads/TiNiSn_500C-20200714T190740Z-001/TiNiSn_500C/\n",
      "Data Loaded Succesfully\n"
     ]
    },
    {
     "data": {
      "image/png": "[encoded data removed]",
      "text/plain": [
       "<Figure size 432x288 with 2 Axes>"
      ]
     },
     "metadata": {
      "needs_background": "light"
     },
     "output_type": "display_data"
    },
    {
     "data": {
      "text/plain": [
       "[array([5, 5, 5, 5, 5, 0, 0, 5, 5, 5, 5, 5, 5, 5, 0, 0, 0, 5, 5, 5, 5, 5,\n",
       "        5, 5, 5, 1, 1, 1, 0, 0, 0, 5, 5, 5, 5, 5, 5, 5, 1, 1, 1, 1, 0, 0,\n",
       "        5, 5, 5, 5, 5, 5, 8, 2, 2, 1, 1, 4, 4, 8, 5, 5, 5, 5, 5, 8, 3, 3,\n",
       "        2, 2, 2, 9, 9, 4, 4, 8, 5, 5, 5, 8, 3, 3, 7, 2, 2, 2, 2, 9, 9, 4,\n",
       "        8, 8, 8, 8, 4, 3, 7, 7, 2, 2, 2, 2, 2, 9, 4, 4, 4, 4, 4, 3, 3, 7,\n",
       "        7, 2, 2, 2, 2, 2, 2, 6, 6, 4, 4, 3, 3, 7, 7, 7, 2, 2, 2, 2, 2, 2,\n",
       "        6, 6, 6, 3, 7, 7, 7, 2, 2, 2, 2, 2, 2, 6, 6, 6, 7, 7, 7, 7, 2, 2,\n",
       "        2, 2, 2, 6, 6, 6, 7, 7, 7, 2, 2, 2, 2, 6, 6, 6, 7, 7, 2, 2, 6, 6,\n",
       "        6], dtype=int64),\n",
       " array([ 5,  5,  5,  5,  5, 10, 10,  5,  5,  5,  5,  5,  5,  5,  1,  1,  1,\n",
       "         5,  5,  5,  5,  5,  5,  5,  5,  0,  0,  0,  1,  1,  1,  5,  5,  5,\n",
       "         5,  5,  5,  5,  0,  0,  0,  0,  1,  1,  5,  5,  5,  5,  5,  5,  8,\n",
       "         2,  2,  0,  0,  4,  4,  8,  5,  5,  5,  5,  5,  8,  3,  3,  2,  2,\n",
       "         2,  9,  9,  4,  4,  8,  5,  5,  5,  8,  3,  3,  7,  2,  2,  2,  2,\n",
       "         9,  9,  4,  8,  8,  8,  8,  4,  3,  7,  7,  2,  2,  2,  2,  2,  9,\n",
       "         4,  4,  4,  4,  4,  3,  3,  7,  7,  2,  2,  2,  2,  2,  2,  6,  6,\n",
       "         4,  4,  3,  3,  7,  7,  7,  2,  2,  2,  2,  2,  2,  6,  6,  6,  3,\n",
       "         7,  7,  7,  2,  2,  2,  2,  2,  2,  6,  6,  6,  7,  7,  7,  7,  2,\n",
       "         2,  2,  2,  2,  6,  6,  6,  7,  7,  7,  2,  2,  2,  2,  6,  6,  6,\n",
       "         7,  7,  2,  2,  6,  6,  6], dtype=int64)]"
      ]
     },
     "execution_count": 14,
     "metadata": {},
     "output_type": "execute_result"
    }
   ],
   "source": [
    "Agglo_cluster(dataGrid.get_data_array(),a=10, b=12, metric = 'Manhattan')"
   ]
  },
  {
   "cell_type": "code",
   "execution_count": 15,
   "metadata": {},
   "outputs": [],
   "source": [
    "#Agglo_cluster(dataGrid.get_data_array(),'AveSim')"
   ]
  },
  {
   "cell_type": "markdown",
   "metadata": {},
   "source": [
    "# Just some other stuff"
   ]
  },
  {
   "cell_type": "code",
   "execution_count": 16,
   "metadata": {
    "scrolled": false
   },
   "outputs": [
    {
     "name": "stdout",
     "output_type": "stream",
     "text": [
      "20\n"
     ]
    },
    {
     "data": {
      "text/plain": [
       "dict_keys([1, 2, 3, 4, 5, 6, 7, 8, 9, 10, 11, 12, 13, 14, 15, 16, 17, 18, 19, 20, 21, 22, 23, 24, 25, 26, 27, 28, 29, 30, 31, 32, 33, 34, 35, 36, 37, 38, 39, 40, 41, 42, 43, 44, 45, 46, 47, 48, 49, 50, 51, 52, 53, 54, 55, 56, 57, 58, 59, 60, 61, 62, 63, 64, 65, 66, 67, 68, 69, 70, 71, 72, 73, 74, 75, 76, 77, 78, 79, 80, 81, 82, 83, 84, 85, 86, 87, 88, 89, 90, 91, 92, 93, 94, 95, 96, 97, 98, 99, 100, 101, 102, 103, 104, 105, 106, 107, 108, 109, 110, 111, 112, 113, 114, 115, 116, 117, 118, 119, 120, 121, 122, 123, 124, 125, 126, 127, 128, 129, 130, 131, 132, 133, 134, 135, 136, 137, 138, 139, 140, 141, 142, 143, 144, 145, 146, 147, 148, 149, 150, 151, 152, 153, 154, 155, 156, 157, 158, 159, 160, 161, 162, 163, 164, 165, 166, 167, 168, 169, 170, 171, 172, 173, 174, 175, 176, 177])"
      ]
     },
     "execution_count": 16,
     "metadata": {},
     "output_type": "execute_result"
    }
   ],
   "source": [
    "# Cut down all the peaks to 20 peaks using peak_rem()\n",
    "# peak_rem() was found to be inaccurate bcos each peak has 4 curves and that was not taken into account\n",
    "\n",
    "X=peak_rem() \n",
    "X.keys()"
   ]
  },
  {
   "cell_type": "code",
   "execution_count": 17,
   "metadata": {
    "scrolled": true
   },
   "outputs": [
    {
     "data": {
      "text/plain": [
       "(20, 9)"
      ]
     },
     "execution_count": 17,
     "metadata": {},
     "output_type": "execute_result"
    }
   ],
   "source": [
    "np.shape( X[1])"
   ]
  },
  {
   "cell_type": "markdown",
   "metadata": {},
   "source": [
    "# Just Testing out stuffs here"
   ]
  },
  {
   "cell_type": "code",
   "execution_count": 18,
   "metadata": {},
   "outputs": [],
   "source": [
    "X_data = pd.read_csv('C:/Users/oluwa/Jupyter notebooks/TiNiSn_500C_Y20190218_14x14_t60_0001_bkgdSub_1D_extr_param.csv',header=None)"
   ]
  },
  {
   "cell_type": "code",
   "execution_count": 19,
   "metadata": {
    "scrolled": true
   },
   "outputs": [],
   "source": [
    "X_data = np.array(X_data[X_data.columns[0:8]])"
   ]
  },
  {
   "cell_type": "code",
   "execution_count": 20,
   "metadata": {},
   "outputs": [
    {
     "data": {
      "text/plain": [
       "(88, 8)"
      ]
     },
     "execution_count": 20,
     "metadata": {},
     "output_type": "execute_result"
    }
   ],
   "source": [
    "np.shape(X_data)"
   ]
  },
  {
   "cell_type": "code",
   "execution_count": 21,
   "metadata": {
    "scrolled": true
   },
   "outputs": [],
   "source": [
    "#This should not work anymore because the Agglo_cluster code has been modified\n",
    "#D_peakrem = Agglo_cluster(X_data)"
   ]
  },
  {
   "cell_type": "code",
   "execution_count": 22,
   "metadata": {},
   "outputs": [
    {
     "data": {
      "text/plain": [
       "<matplotlib.collections.PathCollection at 0x28d53186608>"
      ]
     },
     "execution_count": 22,
     "metadata": {},
     "output_type": "execute_result"
    },
    {
     "data": {
      "image/png": "[encoded data removed]",
      "text/plain": [
       "<Figure size 432x288 with 1 Axes>"
      ]
     },
     "metadata": {
      "needs_background": "light"
     },
     "output_type": "display_data"
    }
   ],
   "source": [
    "plt.scatter([1,1,1,4,4,4],[2,4,0,2,4,0])"
   ]
  },
  {
   "cell_type": "code",
   "execution_count": 23,
   "metadata": {},
   "outputs": [],
   "source": [
    "dataGrid.x_axis = dataGrid.data[dataGrid.grid_locations[0]][:,0]\n",
    "rang=[10,60]\n",
    "#the right most, left most, bottom most, and top most grid\n",
    "#locations in the rows and columns respectively.\n",
    "row_sums = [5, 14, 25, 38, 51, 66, 81, 96, 111, 126, 139, 152, 163, 172, 177]\n",
    "base_vals = [52,26,15,6,7,1,2,3,4,5,13,14,25,38,66]\n",
    "top_vals = [112,140,153,164,165,173,174,175,176,177,171,172,163,152,126]\n",
    "#lengths of each row\n",
    "row_lengths = [5,9,11,13,13,15,15,15,15,15,13,13,11,9,5]"
   ]
  },
  {
   "cell_type": "code",
   "execution_count": 24,
   "metadata": {},
   "outputs": [],
   "source": [
    "row_starts = [1] + [x + 1 for x in row_sums[:-1]]"
   ]
  },
  {
   "cell_type": "code",
   "execution_count": 25,
   "metadata": {
    "scrolled": true
   },
   "outputs": [
    {
     "name": "stdout",
     "output_type": "stream",
     "text": [
      "0 1\n",
      "1 6\n",
      "2 15\n",
      "3 26\n",
      "4 39\n",
      "5 52\n",
      "6 67\n",
      "7 82\n",
      "8 97\n",
      "9 112\n",
      "10 127\n",
      "11 140\n",
      "12 153\n",
      "13 164\n",
      "14 173\n"
     ]
    }
   ],
   "source": [
    "row_starts\n",
    "rang[0] = 4\n",
    "for i,v in enumerate(row_starts):\n",
    "    print(i,v)"
   ]
  },
  {
   "cell_type": "code",
   "execution_count": 26,
   "metadata": {
    "scrolled": true
   },
   "outputs": [
    {
     "data": {
      "text/plain": [
       "2"
      ]
     },
     "execution_count": 26,
     "metadata": {},
     "output_type": "execute_result"
    }
   ],
   "source": [
    "mem = [0,3,6,99,6]\n",
    "next(i for i,v in enumerate(mem) if  v>= rang[0])"
   ]
  },
  {
   "cell_type": "code",
   "execution_count": 27,
   "metadata": {},
   "outputs": [
    {
     "data": {
      "text/plain": [
       "12.0"
      ]
     },
     "execution_count": 27,
     "metadata": {},
     "output_type": "execute_result"
    }
   ],
   "source": [
    "(11+13)/2"
   ]
  },
  {
   "cell_type": "code",
   "execution_count": 28,
   "metadata": {},
   "outputs": [
    {
     "data": {
      "text/plain": [
       "array([1, 1, 1, 0, 0, 0], dtype=int64)"
      ]
     },
     "execution_count": 28,
     "metadata": {},
     "output_type": "execute_result"
    }
   ],
   "source": [
    "from sklearn.cluster import AgglomerativeClustering\n",
    "import numpy as np\n",
    "X = np.array([[1, 2], [1, 4], [1, 0], [4, 2], [4, 4], [4, 0]])\n",
    "AgglomerativeClustering().fit_predict(X)"
   ]
  },
  {
   "cell_type": "code",
   "execution_count": 29,
   "metadata": {},
   "outputs": [
    {
     "data": {
      "text/plain": [
       "[0.25, 0.5, 0.75, 1.0]"
      ]
     },
     "execution_count": 29,
     "metadata": {},
     "output_type": "execute_result"
    }
   ],
   "source": [
    "i=4\n",
    "hues=[float(float(x)/float(i)) for x in range(1,i+1)]\n",
    "hues"
   ]
  },
  {
   "cell_type": "code",
   "execution_count": 30,
   "metadata": {},
   "outputs": [
    {
     "data": {
      "text/plain": [
       "array([0.5, 0. , 1. ])"
      ]
     },
     "execution_count": 30,
     "metadata": {},
     "output_type": "execute_result"
    }
   ],
   "source": [
    "matplotlib.colors.hsv_to_rgb([hues[2],1,1])"
   ]
  },
  {
   "cell_type": "code",
   "execution_count": 31,
   "metadata": {},
   "outputs": [
    {
     "data": {
      "text/plain": [
       "\"def get_cluster_grids(i):\\n        agg = AgglomerativeClustering(n_clusters=i,affinity='precomputed',linkage='complete')\\n        D = D_peakrem\\n        return agg.fit_predict(D)\\n    \""
      ]
     },
     "execution_count": 31,
     "metadata": {},
     "output_type": "execute_result"
    }
   ],
   "source": [
    "'''def get_cluster_grids(i):\n",
    "        agg = AgglomerativeClustering(n_clusters=i,affinity='precomputed',linkage='complete')\n",
    "        D = D_peakrem\n",
    "        return agg.fit_predict(D)\n",
    "    '''"
   ]
  },
  {
   "cell_type": "code",
   "execution_count": 32,
   "metadata": {
    "scrolled": false
   },
   "outputs": [],
   "source": [
    "#pp = get_cluster_grids(2)"
   ]
  },
  {
   "cell_type": "code",
   "execution_count": 33,
   "metadata": {},
   "outputs": [],
   "source": [
    "#np.shape(pp)"
   ]
  },
  {
   "cell_type": "code",
   "execution_count": 34,
   "metadata": {
    "scrolled": true
   },
   "outputs": [],
   "source": [
    "#agg = AgglomerativeClustering(n_clusters=2,affinity='precomputed',linkage='complete')\n",
    "#agg.fit_predict(D_peakrem)"
   ]
  },
  {
   "cell_type": "code",
   "execution_count": 35,
   "metadata": {},
   "outputs": [
    {
     "data": {
      "text/plain": [
       "9.273618495495704"
      ]
     },
     "execution_count": 35,
     "metadata": {},
     "output_type": "execute_result"
    }
   ],
   "source": [
    "np.linalg.norm([3,4,5,6])"
   ]
  },
  {
   "cell_type": "code",
   "execution_count": 36,
   "metadata": {},
   "outputs": [
    {
     "data": {
      "text/plain": [
       "5.385164807134504"
      ]
     },
     "execution_count": 36,
     "metadata": {},
     "output_type": "execute_result"
    }
   ],
   "source": [
    "np.sqrt((np.sum(np.square([2,3,4]))))"
   ]
  },
  {
   "cell_type": "code",
   "execution_count": 37,
   "metadata": {},
   "outputs": [],
   "source": [
    "import numpy as np\n",
    "X = np.array([[1, 1,1], [2, 1,2], [3, 1.2,3], [4, 1,4], [5, 0.8,5], [6, 1,5]])\n",
    "from sklearn.decomposition import NMF\n",
    "model = NMF(n_components=2, init='random', random_state=0)\n",
    "W = model.fit_transform(X)\n",
    "H = model.components_\n",
    "X_new = np.array([[1, 0,1], [1, 6.1,1], [1,1, 0], [0,1, 4], [3.2,2, 1], [0,9, 4]])\n",
    "W_new = model.transform(X_new)"
   ]
  },
  {
   "cell_type": "code",
   "execution_count": 38,
   "metadata": {},
   "outputs": [
    {
     "data": {
      "text/plain": [
       "array([[1. , 1. , 1. ],\n",
       "       [2. , 1. , 2. ],\n",
       "       [3. , 1.2, 3. ],\n",
       "       [4. , 1. , 4. ],\n",
       "       [5. , 0.8, 5. ],\n",
       "       [6. , 1. , 5. ]])"
      ]
     },
     "execution_count": 38,
     "metadata": {},
     "output_type": "execute_result"
    }
   ],
   "source": [
    "X"
   ]
  },
  {
   "cell_type": "code",
   "execution_count": 39,
   "metadata": {},
   "outputs": [
    {
     "data": {
      "text/plain": [
       "array([[0.        , 0.44269146],\n",
       "       [0.60615371, 0.38601452],\n",
       "       [1.09187713, 0.42874317],\n",
       "       [1.82112933, 0.27110033],\n",
       "       [2.55038153, 0.1134575 ],\n",
       "       [2.83892911, 0.11181696]])"
      ]
     },
     "execution_count": 39,
     "metadata": {},
     "output_type": "execute_result"
    }
   ],
   "source": [
    "W"
   ]
  },
  {
   "cell_type": "code",
   "execution_count": 40,
   "metadata": {},
   "outputs": [
    {
     "data": {
      "text/plain": [
       "array([[0.93244768, 0.97842593, 1.0780102 ],\n",
       "       [1.99047298, 0.99762098, 2.01039969],\n",
       "       [3.02395164, 1.20781841, 2.97218699],\n",
       "       [4.10841987, 1.03319841, 3.87609089],\n",
       "       [5.19288808, 0.85857842, 4.7799948 ],\n",
       "       [5.74991304, 0.92372038, 5.28554521]])"
      ]
     },
     "execution_count": 40,
     "metadata": {},
     "output_type": "execute_result"
    }
   ],
   "source": [
    "W.dot(H)"
   ]
  },
  {
   "cell_type": "code",
   "execution_count": 41,
   "metadata": {},
   "outputs": [
    {
     "data": {
      "text/plain": [
       "array([[1.94241952, 0.23832411, 1.76589709],\n",
       "       [2.10631506, 2.21017578, 2.43512765]])"
      ]
     },
     "execution_count": 41,
     "metadata": {},
     "output_type": "execute_result"
    }
   ],
   "source": [
    "H"
   ]
  },
  {
   "cell_type": "code",
   "execution_count": 42,
   "metadata": {},
   "outputs": [
    {
     "data": {
      "text/plain": [
       "array([[0.        , 0.44269146],\n",
       "       [0.60615371, 0.38601452],\n",
       "       [1.09187713, 0.42874317],\n",
       "       [1.82112933, 0.27110033],\n",
       "       [2.55038153, 0.1134575 ],\n",
       "       [2.83892911, 0.11181696]])"
      ]
     },
     "execution_count": 42,
     "metadata": {},
     "output_type": "execute_result"
    }
   ],
   "source": [
    "W"
   ]
  },
  {
   "cell_type": "code",
   "execution_count": 43,
   "metadata": {},
   "outputs": [
    {
     "data": {
      "text/plain": [
       "array([[0.93244768, 0.97842593, 1.0780102 ],\n",
       "       [1.99047298, 0.99762098, 2.01039969],\n",
       "       [3.02395164, 1.20781841, 2.97218699],\n",
       "       [4.10841987, 1.03319841, 3.87609089],\n",
       "       [5.19288808, 0.85857842, 4.7799948 ],\n",
       "       [5.74991304, 0.92372038, 5.28554521]])"
      ]
     },
     "execution_count": 43,
     "metadata": {},
     "output_type": "execute_result"
    }
   ],
   "source": [
    "W.dot(H)"
   ]
  },
  {
   "cell_type": "code",
   "execution_count": 44,
   "metadata": {},
   "outputs": [
    {
     "data": {
      "text/plain": [
       "array([[0.        , 0.44269146],\n",
       "       [0.60615371, 0.38601452],\n",
       "       [1.09187713, 0.42874317],\n",
       "       [1.82112933, 0.27110033],\n",
       "       [2.55038153, 0.1134575 ],\n",
       "       [2.83892911, 0.11181696]])"
      ]
     },
     "execution_count": 44,
     "metadata": {},
     "output_type": "execute_result"
    }
   ],
   "source": [
    "W"
   ]
  },
  {
   "cell_type": "code",
   "execution_count": 45,
   "metadata": {},
   "outputs": [
    {
     "data": {
      "text/plain": [
       "array([[0.53371015, 0.        ],\n",
       "       [0.        , 1.18177012],\n",
       "       [0.        , 0.2830247 ],\n",
       "       [0.1814891 , 0.67745874],\n",
       "       [0.2937143 , 0.71969428],\n",
       "       [0.        , 1.9429241 ]])"
      ]
     },
     "execution_count": 45,
     "metadata": {},
     "output_type": "execute_result"
    }
   ],
   "source": [
    "W_new"
   ]
  },
  {
   "cell_type": "markdown",
   "metadata": {},
   "source": [
    "# Tried n_clusters=None, compute_full_tree = True from Agglo cluster\n",
    "\n",
    "Was useless after all"
   ]
  },
  {
   "cell_type": "code",
   "execution_count": 46,
   "metadata": {},
   "outputs": [],
   "source": [
    "def similarity(X,d1,d2,metric=None):\n",
    "    a = X[d1-1]\n",
    "    b = X[d2-1]\n",
    "    #a = np.log(a+100)\n",
    "    #b = np.log(b+100)\n",
    "    #a = dataGrid.data[d1][:,1]\n",
    "    #b = dataGrid.data[d2][:,1]\n",
    "\n",
    "    if metric == 'cosine':\n",
    "        dot_product = np.dot(a, b)\n",
    "        norm_a = np.linalg.norm(a)\n",
    "        norm_b = np.linalg.norm(b)\n",
    "        return 1 - (dot_product / (norm_a * norm_b))\n",
    "        #return np.abs((dot_product / (norm_a * norm_b)))\n",
    "    if metric == 'Euclidean':\n",
    "        return np.sqrt(np.sum(np.square(a-b)))\n",
    "    if metric == 'sEuclidean':\n",
    "        return np.sum(np.square(a-b))\n",
    "    if metric == 'Manhattan':\n",
    "        return np.sum(np.abs(a-b))\n",
    "    if metric == 'None':\n",
    "        return np.mean(np.abs(a-b))"
   ]
  },
  {
   "cell_type": "code",
   "execution_count": 47,
   "metadata": {},
   "outputs": [
    {
     "name": "stdout",
     "output_type": "stream",
     "text": [
      "(177, 800)\n"
     ]
    }
   ],
   "source": [
    "X=dataGrid.get_data_array()\n",
    "size = len(X)\n",
    "   # K_Matrix = np.zeros(shape=(size,size))\n",
    "    #for x in range(1,size+1):\n",
    "     #   K_Matrix[x-1,x-1] = 1\n",
    "      #  for N in dataGrid.neighbors(x).values():\n",
    "       #     K_Matrix[x-1,N-1] = 1\n",
    "        #    for N2 in dataGrid.neighbors(N).values():\n",
    "         #       K_Matrix[x-1,N2-1] = 1\n",
    "\n",
    "D = np.ones(shape=(size,size))\n",
    "for x in range(size):\n",
    "    for y in range(size):\n",
    "        D[x,y] = similarity(X,x+1,y+1,'cosine')\n"
   ]
  },
  {
   "cell_type": "code",
   "execution_count": 48,
   "metadata": {},
   "outputs": [],
   "source": [
    "def get_cluster_grids(b):\n",
    "        agg = AgglomerativeClustering(n_clusters=None,compute_full_tree = True, affinity='precomputed',linkage='complete', distance_threshold=20)\n",
    "        agg.fit(D)\n",
    "        labels=agg.labels_\n",
    "        i = max(labels)+1\n",
    "        \n",
    "        #This part of the code is a savior\n",
    "        new_labels=[None]*177\n",
    "        for ii in range(0,177):\n",
    "            x,y=dataGrid.coord(ii+1)\n",
    "            new_grid=dataGrid.grid_num(16-x,y)\n",
    "            new_labels[new_grid-1]=labels[ii]\n",
    "            \n",
    "        #print(labels)\n",
    "        \n",
    "            \n",
    "        hues = [float(float(x)/float(i)) for x in range(1,i+1)]\n",
    "        print(len(hues))\n",
    "        cluster_grid = np.zeros(shape = (15,15,3))\n",
    "        for val in range(1,178):\n",
    "            x,y = dataGrid.coord(val)\n",
    "            cluster = new_labels[val-1]\n",
    "            #print(cluster)\n",
    "            cluster_grid[15-y][x-1] = matplotlib.colors.hsv_to_rgb([hues[cluster],1,1])\n",
    "            #cluster_grid[y-1][x-1] = matplotlib.colors.hsv_to_rgb([hues[cluster],1,1])\n",
    "            \n",
    "        return cluster_grid, new_labels"
   ]
  },
  {
   "cell_type": "code",
   "execution_count": 49,
   "metadata": {},
   "outputs": [
    {
     "name": "stdout",
     "output_type": "stream",
     "text": [
      "1\n"
     ]
    },
    {
     "data": {
      "image/png": "[encoded data removed]",
      "text/plain": [
       "<Figure size 432x288 with 1 Axes>"
      ]
     },
     "metadata": {
      "needs_background": "light"
     },
     "output_type": "display_data"
    }
   ],
   "source": [
    "fig = plt.figure()\n",
    "fig.tight_layout()\n",
    "Big_labels = []\n",
    "cg,labels = get_cluster_grids(10)\n",
    "end=max(labels)+1\n",
    "start = max(labels)\n",
    "for i in range(start,end):\n",
    "    #cg,labels = get_cluster_grids(i)\n",
    "    Big_labels.append(labels)\n",
    "    ax = fig.add_subplot(1,end-start,i-start+1)\n",
    "    ax.imshow(cg)\n",
    "    #ax.invert_yaxis()\n",
    "    ax.title.set_text(i+1)\n",
    "    ax.axis(\"off\")\n",
    "\n",
    "k=.03\n",
    "plt.subplots_adjust(left=k,right=(1-k),bottom=k,top=(1-k),wspace=k,hspace=k)\n",
    "#plt.savefig(\"/home/sasha/Desktop/Peak_Clustering_Images/clust-\" + str(delta) + \"-\" + str(C) + \".png\")\n",
    "plt.show()"
   ]
  }
 ],
 "metadata": {
  "kernelspec": {
   "display_name": "Python 3",
   "language": "python",
   "name": "python3"
  },
  "language_info": {
   "codemirror_mode": {
    "name": "ipython",
    "version": 3
   },
   "file_extension": ".py",
   "mimetype": "text/x-python",
   "name": "python",
   "nbconvert_exporter": "python",
   "pygments_lexer": "ipython3",
   "version": "3.7.6"
  }
 },
 "nbformat": 4,
 "nbformat_minor": 4
}
