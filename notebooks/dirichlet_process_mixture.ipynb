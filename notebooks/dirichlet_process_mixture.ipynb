{
 "cells": [
  {
   "cell_type": "markdown",
   "metadata": {
    "colab_type": "text",
    "id": "6oXxxX9LZL-h"
   },
   "source": [
    "# Dirichlet Process Mixture Models in Pyro\n",
    "\n",
    "\n",
    "## What are Bayesian nonparametric models?\n",
    "Bayesian nonparametric models are models where the number of parameters grow freely with the amount of data provided; thus, instead of training several models that vary in complexity and comparing them, one is able to design a model whose complexity grows as more data are observed. The prototypical example of Bayesian nonparametrics in practice is the *Dirichlet Process Mixture Model* (DPMM). A DPMM allows for a practitioner to build a mixture model when the number of distinct clusters in the geometric structure of their data is unknown – in other words, the number of clusters is allowed to grow as more data is observed. This feature makes the DPMM highly useful towards exploratory data analysis, where few facets of the data in question are known; this presentation aims to demonstrate this fact.\n",
    "\n",
    "## The Dirichlet Process (Ferguson, 1973)\n",
    "Dirichlet processes are a family of probability distributions over discrete probability distributions. Formally, the Dirichlet process (DP) is specified by some base probability distribution $G_0: \\Omega \\to \\mathbb{R}$ and a positive, real, scaling parameter commonly denoted as $\\alpha$. A sample $G$ from a Dirichlet process with parameters $G_0: \\Omega \\to \\mathbb{R}$ and $\\alpha$ is itself a distribution over $\\Omega$. For any disjoint partition $\\Omega_1, ..., \\Omega_k$ of $\\Omega$, and any sample $G \\sim DP(G_0, \\alpha)$, we have:\n",
    "\n",
    "$$(G(\\Omega_1), ..., G(\\Omega_k)) \\sim \\text{Dir}(\\alpha G_0(\\Omega_1), ..., \\alpha G_0(\\Omega_k))$$\n",
    "\n",
    "Essentially, this is taking a discrete partition of our sample space $\\Omega$ and subsequently constructing a discrete distribution over it using the base distribution $G_0$. While quite abstract in formulation, the Dirichlet process is very useful as a prior in various graphical models. This fact becomes easier to see in the following scheme.\n",
    "\n",
    "## The Chinese Restaurant Process (Aldous, 1985)\n",
    "\n",
    "Imagine a restaurant with infinite tables (indexed by the positive integers) that accepts customers one at a time. The $n$th customer chooses their seat according to the following probabilities:\n",
    "\n",
    "*   With probability $\\frac{n_t}{\\alpha + n - 1}$, sit at table $t$, where $n_t$ is the number of people at table $t$\n",
    "*   With probability $\\frac{\\alpha}{\\alpha + n - 1}$, sit at an empty table\n",
    "\n",
    "If we associate to each table $t$ a draw from a base distribution $G_0$ over $\\Omega$, and then associate unnormalized probability mass $n_t$ to that draw, the resulting distribution over $\\Omega$ is equivalent to a draw from a Dirichlet process $DP(G_0, \\alpha)$. \n",
    "\n",
    "Furthermore, we can easily extend this to define the generative process of a nonparametric mixture model: every table $t$ that has at least one customer seated is associated with a set of cluster parameters $\\theta_t$, which were themselves drawn from some base distribution $G_0$. For each new observation, first assign that observation to a table according to the above probabilities; then, that observation is drawn from the distribution parameterized by the cluster parameters for that table. If the observation was assigned to a new table, draw a new set of cluster parameters from $G_0$, and then draw the observation from the distribution parameterized by those cluster parameters.\n",
    "\n",
    "While this formulation of a Dirichlet process mixture model is intuitive, it is also very difficult to perform inference on in a probabilistic programming framework. This motivates an alternative formulation of DPMMs, which has empirically been shown to be more conducive to inference (e.g. Blei and Jordan, 2004).\n",
    "\n",
    "## The Stick-Breaking Method (Sethuraman, 1994)\n",
    "\n",
    "The generative process for the stick-breaking formulation of DPMMs proceeds as follows:\n",
    "\n",
    "* Draw $\\beta_i \\sim \\text{Beta}(1, \\alpha)$ for $i \\in \\mathbb{N}$\n",
    "* Draw $\\theta_i \\sim G_0$ for $i \\in \\mathbb{N}$\n",
    "* Construct the mixture weights $\\pi$ by taking $\\pi_i(\\beta_{1:\\infty}) = \\beta_i \\prod_{j<i} (1-\\beta_j)$\n",
    "\n",
    "* For each observation $n \\in \\{1, ..., N\\}$, draw $z_n \\sim \\pi(\\beta_{1:\\infty})$, and then draw $x_n \\sim f(\\theta_{z_n})$\n",
    "\n",
    "Here, the infinite nature of the Dirichlet process mixture model can more easily be seen. Furthermore, all $\\beta_i$ are independent, so it is far easier to perform inference in a probabilistic programming framework.\n",
    "\n",
    "First, we import all the modules we're going to need:"
   ]
  },
  {
   "cell_type": "code",
   "execution_count": 106,
   "metadata": {
    "colab": {
     "base_uri": "https://localhost:8080/",
     "height": 400
    },
    "colab_type": "code",
    "id": "VaAgD92IdE6i",
    "outputId": "47dd309c-4689-403e-900b-413381c4fedc"
   },
   "outputs": [],
   "source": [
    "import matplotlib.pyplot as plt\n",
    "import numpy as np\n",
    "import pandas as pd\n",
    "from tqdm import tqdm\n",
    "\n",
    "import torch\n",
    "import torch.nn.functional as F\n",
    "from torch.distributions import constraints\n",
    "\n",
    "import pyro\n",
    "from pyro.distributions import *\n",
    "from pyro.infer import Predictive, SVI, Trace_ELBO\n",
    "from pyro.optim import Adam\n",
    "\n",
    "assert pyro.__version__.startswith('1.8.0')\n",
    "pyro.set_rng_seed(0)"
   ]
  },
  {
   "cell_type": "markdown",
   "metadata": {
    "colab_type": "text",
    "id": "GomHVM-cBrQY"
   },
   "source": [
    "\n",
    "\n",
    "## **Inference**\n",
    "\n",
    "\n",
    "\n",
    "\n",
    "### Synthetic Mixture of Gaussians\n",
    "\n",
    "We begin by demonstrating the capabilities of Dirichlet process mixture models on a synthetic dataset generated by a mixture of four 2D Gaussians:"
   ]
  },
  {
   "cell_type": "code",
   "execution_count": 107,
   "metadata": {
    "colab": {
     "base_uri": "https://localhost:8080/",
     "height": 281
    },
    "colab_type": "code",
    "id": "3_EyZAbwTMrs",
    "outputId": "f5c2222c-c3db-4a34-f021-75f38bbcb4c2"
   },
   "outputs": [
    {
     "data": {
      "image/png": "[encoded data removed]",
      "text/plain": [
       "<Figure size 432x288 with 1 Axes>"
      ]
     },
     "metadata": {
      "needs_background": "light"
     },
     "output_type": "display_data"
    }
   ],
   "source": [
    "data = torch.cat((MultivariateNormal(-8 * torch.ones(2), torch.eye(2)).sample([50]),\n",
    "                  MultivariateNormal(8 * torch.ones(2), torch.eye(2)).sample([50]),\n",
    "                  #MultivariateNormal(torch.tensor([1.5, 2]), torch.eye(2)).sample([50]),\n",
    "                  MultivariateNormal(torch.tensor([-0.5, 1]), torch.eye(2)).sample([50])))\n",
    "\n",
    "\n",
    "\n",
    "plt.scatter(data[:, 0], data[:, 1])\n",
    "plt.title(\"Data Samples from Mixture of 4 Gaussians\")\n",
    "plt.show()\n",
    "N = data.shape[0]"
   ]
  },
  {
   "cell_type": "markdown",
   "metadata": {
    "colab_type": "text",
    "id": "CglLQke4gEYd"
   },
   "source": [
    "In this example, the cluster parameters $\\theta_i$ are two dimensional vectors describing the means of a multivariate Gaussian with identity covariance. Therefore, the Dirichlet process base distribution $G_0$ is also a multivariate Gaussian (i.e. the conjugate prior), although this choice is not as computationally useful, since we are not performing coordinate-ascent variational inference but rather black-box variational inference using Pyro. \n",
    "\n",
    "First, let's define the \"stick-breaking\" function that generates our weights, given our samples of $\\beta$:"
   ]
  },
  {
   "cell_type": "code",
   "execution_count": 108,
   "metadata": {
    "colab": {},
    "colab_type": "code",
    "id": "2ngrqFlDQYpV"
   },
   "outputs": [],
   "source": [
    "def mix_weights(beta):\n",
    "    beta1m_cumprod = (1 - beta).cumprod(-1)\n",
    "    return F.pad(beta, (0, 1), value=1) * F.pad(beta1m_cumprod, (1, 0), value=1)"
   ]
  },
  {
   "cell_type": "markdown",
   "metadata": {
    "colab_type": "text",
    "id": "LAC0bWL6Qcc3"
   },
   "source": [
    "Next, let's define our model. It may be helpful to refer the definition of the stick-breaking model presented in the first part of this tutorial. \n",
    "\n",
    "Note that all $\\beta_i$ samples are conditionally independent, so we model them using a `pyro.plate` of size `T-1`; we do the same for all samples of our cluster parameters $\\mu_i$. We then construct a Categorical distribution whose parameters are the mixture weights using our sampled $\\beta$ values (line 9) below, and sample the cluster assignment $z_n$ for each data point from that Categorical. Finally, we sample our observations from a multivariate Gaussian distribution whose mean is exactly the cluster parameter corresponding to the assignment $z_n$ we drew for the point $x_n$. This can be seen in the Pyro code below:"
   ]
  },
  {
   "cell_type": "code",
   "execution_count": 109,
   "metadata": {
    "colab": {},
    "colab_type": "code",
    "id": "WfnbSIocRlvQ"
   },
   "outputs": [],
   "source": [
    "def model(data):\n",
    "    with pyro.plate(\"beta_plate\", T-1):\n",
    "        beta = pyro.sample(\"beta\", Beta(1, alpha))\n",
    "\n",
    "    with pyro.plate(\"mu_plate\", T):\n",
    "        mu = pyro.sample(\"mu\", MultivariateNormal(torch.zeros(2), 5 * torch.eye(2)))\n",
    "\n",
    "    with pyro.plate(\"data\", N):\n",
    "        z = pyro.sample(\"z\", Categorical(mix_weights(beta)))\n",
    "        pyro.sample(\"obs\", MultivariateNormal(mu[z], torch.eye(2)), obs=data)"
   ]
  },
  {
   "cell_type": "markdown",
   "metadata": {
    "colab_type": "text",
    "id": "1gBQj5RKRn8Z"
   },
   "source": [
    "Now, it's time to define our guide and perform inference. \n",
    "\n",
    "The variational family $q(\\beta, \\theta, z)$ that we are optimizing over during variational inference is given by:\n",
    "\n",
    "$$q(\\beta, \\theta, z) = \\prod_{t=1}^{T-1} q_t(\\beta_t) \\prod_{t=1}^T q_t(\\theta_t) \\prod_{n=1}^N q_n(z_n)$$ \n",
    "\n",
    "Note that since we are unable to computationally model the infinite clusters posited by the model, we truncate our variational family at $T$ clusters. This does not affect our model; rather, it is a simplification made in the *inference* stage to allow tractability. \n",
    "\n",
    "The guide is constructed exactly according to the definition of our variational family $q(\\beta, \\theta, z)$ above. We have $T-1$ conditionally independent Beta distributions for each $\\beta$ sampled in our model, $T$ conditionally independent multivariate Gaussians for each cluster parameter $\\mu_i$, and $N$ conditionally independent Categorical distributions for each cluster assignment $z_n$.\n",
    "\n",
    "Our variational parameters (`pyro.param`) are therefore the $T-1$ many positive scalars that parameterize the second parameter of our variational Beta distributions (the first shape parameter is fixed at $1$, as in the model definition), the $T$ many two-dimensional vectors that parameterize our variational multivariate Gaussian distributions (we do not parameterize the covariance matrices of the Gaussians, though this should be done when analyzing a real-world dataset for more flexibility), and the $N$ many $T$-dimensional vectors that parameterize our variational Categorical distributions:"
   ]
  },
  {
   "cell_type": "code",
   "execution_count": 110,
   "metadata": {},
   "outputs": [
    {
     "data": {
      "text/plain": [
       "tensor([[0., 0.],\n",
       "        [0., 2.]])"
      ]
     },
     "execution_count": 110,
     "metadata": {},
     "output_type": "execute_result"
    }
   ],
   "source": [
    "2 * torch.tensor([0, 1]) * torch.eye(2)"
   ]
  },
  {
   "cell_type": "code",
   "execution_count": 111,
   "metadata": {
    "colab": {},
    "colab_type": "code",
    "id": "Imw4wcVkT9er"
   },
   "outputs": [],
   "source": [
    "def guide(data):\n",
    "    kappa = pyro.param('kappa', lambda: Uniform(0, 2).sample([T-1]), constraint=constraints.positive)\n",
    "    tau = pyro.param('tau', lambda: MultivariateNormal(torch.zeros(2), 3 * torch.eye(2)).sample([T]))\n",
    "    phi = pyro.param('phi', lambda: Dirichlet(1/T * torch.ones(T)).sample([N]), constraint=constraints.simplex)\n",
    "\n",
    "    with pyro.plate(\"beta_plate\", T-1):\n",
    "        q_beta = pyro.sample(\"beta\", Beta(torch.ones(T-1), kappa))\n",
    "\n",
    "    with pyro.plate(\"mu_plate\", T):\n",
    "        q_mu = pyro.sample(\"mu\", MultivariateNormal(tau, torch.eye(2)))\n",
    "\n",
    "    with pyro.plate(\"data\", N):\n",
    "        z = pyro.sample(\"z\", Categorical(phi))"
   ]
  },
  {
   "cell_type": "markdown",
   "metadata": {
    "colab_type": "text",
    "id": "H0He1id0T_bN"
   },
   "source": [
    "When performing inference, we set our 'guess' for the maximum number of clusters in the dataset to $T = 6$. We define the optimization algorithm (`pyro.optim.Adam`) along with the Pyro SVI object and train the model for 1000 iterations. \n",
    "\n",
    "After performing inference, we construct the Bayes estimators of the means (the expected values of each factor in our variational approximation) and plot them in red on top of the original dataset.  Note that we also have we removed any clusters that have less than a certain weight assigned to them according to our learned variational distributions, and then re-normalize the weights so that they sum to one:"
   ]
  },
  {
   "cell_type": "code",
   "execution_count": 112,
   "metadata": {
    "colab": {
     "base_uri": "https://localhost:8080/",
     "height": 372
    },
    "colab_type": "code",
    "id": "x1Yidukpd9wO",
    "outputId": "b0cc290b-3285-4f36-c2a6-7195b6801482"
   },
   "outputs": [
    {
     "name": "stderr",
     "output_type": "stream",
     "text": [
      "100%|██████████| 2000/2000 [00:11<00:00, 175.11it/s]\n",
      "100%|██████████| 2000/2000 [00:11<00:00, 173.71it/s]\n"
     ]
    },
    {
     "data": {
      "image/png": "[encoded data removed]",
      "text/plain": [
       "<Figure size 1080x360 with 2 Axes>"
      ]
     },
     "metadata": {
      "needs_background": "light"
     },
     "output_type": "display_data"
    }
   ],
   "source": [
    "T = 6\n",
    "optim = Adam({\"lr\": 0.05})\n",
    "svi = SVI(model, guide, optim, loss=Trace_ELBO())\n",
    "losses = []\n",
    "\n",
    "def train(num_iterations):\n",
    "    pyro.clear_param_store()\n",
    "    for j in tqdm(range(num_iterations)):\n",
    "        loss = svi.step(data)\n",
    "        losses.append(loss)\n",
    "\n",
    "def truncate(alpha, centers, weights):\n",
    "    threshold = alpha**-1 / 100.\n",
    "    true_centers = centers[weights > threshold]\n",
    "    true_weights = weights[weights > threshold] / torch.sum(weights[weights > threshold])\n",
    "    return true_centers, true_weights\n",
    "\n",
    "alpha = 0.1\n",
    "train(2000)\n",
    "\n",
    "# We make a point-estimate of our model parameters using the posterior means of tau and phi for the centers and weights\n",
    "Bayes_Centers_01, Bayes_Weights_01 = truncate(alpha, pyro.param(\"tau\").detach(), torch.mean(pyro.param(\"phi\").detach(), dim=0))\n",
    "\n",
    "alpha = 1.5\n",
    "train(2000)\n",
    "\n",
    "# We make a point-estimate of our model parameters using the posterior means of tau and phi for the centers and weights\n",
    "Bayes_Centers_15, Bayes_Weights_15 = truncate(alpha, pyro.param(\"tau\").detach(), torch.mean(pyro.param(\"phi\").detach(), dim=0))\n",
    "\n",
    "plt.figure(figsize=(15, 5))\n",
    "plt.subplot(1, 2, 1)\n",
    "plt.scatter(data[:, 0], data[:, 1], color=\"blue\")\n",
    "plt.scatter(Bayes_Centers_01[:, 0], Bayes_Centers_01[:, 1], color=\"red\")\n",
    "\n",
    "plt.subplot(1, 2, 2)\n",
    "plt.scatter(data[:, 0], data[:, 1], color=\"blue\")\n",
    "plt.scatter(Bayes_Centers_15[:, 0], Bayes_Centers_15[:, 1], color=\"red\")\n",
    "plt.tight_layout()\n",
    "plt.show()"
   ]
  },
  {
   "cell_type": "code",
   "execution_count": 113,
   "metadata": {
    "scrolled": true
   },
   "outputs": [
    {
     "data": {
      "text/plain": [
       "(tensor([0.2534, 0.1932, 0.1730, 0.1129, 0.2676]),\n",
       " tensor([0.0475, 0.3196, 0.0532, 0.1224, 0.2327, 0.2246]),\n",
       " tensor([[-7.9408, -7.7109],\n",
       "         [-0.9402,  0.7392],\n",
       "         [-0.4613,  0.8806],\n",
       "         [-8.3644, -7.6200],\n",
       "         [ 8.1687,  7.9337]]),\n",
       " tensor([[-7.6761, -7.5428],\n",
       "         [ 8.2369,  7.7998],\n",
       "         [-7.3073, -7.6652],\n",
       "         [ 1.0393,  2.0463],\n",
       "         [-7.9665, -7.8170],\n",
       "         [-0.6293,  0.8515]]))"
      ]
     },
     "execution_count": 113,
     "metadata": {},
     "output_type": "execute_result"
    }
   ],
   "source": [
    "Bayes_Weights_01, Bayes_Weights_15, Bayes_Centers_01, Bayes_Centers_15"
   ]
  },
  {
   "cell_type": "code",
   "execution_count": 114,
   "metadata": {
    "scrolled": true
   },
   "outputs": [
    {
     "data": {
      "text/plain": [
       "tensor([-9.1258e+00, -8.2506e+00, -7.1513e+00, -8.3160e+00, -7.6777e+00,\n",
       "        -7.6500e+00, -7.8802e+00, -6.8832e+00, -9.3527e+00, -7.4333e+00,\n",
       "        -7.4012e+00, -8.3414e+00, -7.2498e+00, -8.1734e+00, -6.6106e+00,\n",
       "        -7.0537e+00, -8.6136e+00, -8.4927e+00, -7.5603e+00, -7.3592e+00,\n",
       "        -8.1023e+00, -8.2897e+00, -7.4771e+00, -9.4689e+00, -8.6731e+00,\n",
       "        -6.9446e+00, -8.2303e+00, -7.4567e+00, -8.4462e+00, -6.4790e+00,\n",
       "        -9.5312e+00, -6.1803e+00, -8.5692e+00, -6.8892e+00, -9.4782e+00,\n",
       "        -8.4731e+00, -9.6293e+00, -8.4798e+00, -9.0670e+00, -8.1407e+00,\n",
       "        -8.0933e+00, -8.8383e+00, -1.0613e+01, -8.2282e+00, -7.9268e+00,\n",
       "        -7.7177e+00, -7.5431e+00, -7.2187e+00, -7.7936e+00, -8.4288e+00,\n",
       "         8.9625e+00,  7.0785e+00,  7.2985e+00,  7.3963e+00,  8.1239e+00,\n",
       "         8.9234e+00,  9.3750e+00,  8.4766e+00,  8.6104e+00,  9.9507e+00,\n",
       "         9.1404e+00,  8.7298e+00,  7.8979e+00,  7.6874e+00,  8.3772e+00,\n",
       "         6.8572e+00,  8.2886e+00,  7.7989e+00,  7.1706e+00,  9.6268e+00,\n",
       "         7.2957e+00,  8.1574e+00,  8.5737e+00,  8.5436e+00,  8.9985e+00,\n",
       "         8.7611e+00,  7.7006e+00,  9.9159e+00,  7.6860e+00,  8.2408e+00,\n",
       "         8.1136e+00,  6.6048e+00,  9.0811e+00,  9.5735e+00,  8.9874e+00,\n",
       "         8.5867e+00,  8.6668e+00,  6.8106e+00,  9.3119e+00,  8.7817e+00,\n",
       "         8.1715e+00,  7.7129e+00,  8.4386e+00,  9.3384e+00,  7.4482e+00,\n",
       "         6.4900e+00,  8.1954e+00,  9.7001e+00,  8.9711e+00,  7.9481e+00,\n",
       "        -1.1538e+00, -1.4610e+00, -4.2528e-01,  3.1404e-02, -1.6070e+00,\n",
       "         1.0346e+00, -2.1034e+00, -1.1302e+00,  6.8868e-01, -5.4554e-01,\n",
       "         2.3892e-02, -4.3748e-01, -4.6694e-01,  2.3351e-01,  1.6494e+00,\n",
       "        -1.1710e+00,  9.9027e-01, -3.1944e-01,  1.5372e+00, -1.2326e+00,\n",
       "        -2.4217e-01,  4.2781e-01, -1.3298e+00, -2.2644e-01, -1.4069e+00,\n",
       "        -3.4922e-01, -1.2205e+00, -1.1837e+00,  2.9285e-01, -7.7200e-02,\n",
       "        -1.6057e+00,  8.3597e-02, -2.0771e+00, -1.8533e+00, -7.4876e-01,\n",
       "         1.2567e-01, -1.6187e+00, -1.2804e+00, -1.2328e+00, -1.0235e-01,\n",
       "        -1.9453e+00,  6.9753e-01, -3.2575e+00, -1.0014e-02,  1.4423e-01,\n",
       "        -6.2442e-01,  1.9197e+00, -8.0869e-01,  1.4457e+00, -2.8495e+00])"
      ]
     },
     "execution_count": 114,
     "metadata": {},
     "output_type": "execute_result"
    }
   ],
   "source": [
    "data[:, 0]"
   ]
  },
  {
   "cell_type": "code",
   "execution_count": null,
   "metadata": {},
   "outputs": [],
   "source": []
  },
  {
   "cell_type": "markdown",
   "metadata": {
    "colab_type": "text",
    "id": "DO3XDmEwC5ra"
   },
   "source": [
    "The plots above demonstrate the effects of the scaling hyperparameter $\\alpha$. A greater $\\alpha$ yields a more heavy-tailed distribution of the weights, whereas smaller $\\alpha$ will place more mass on fewer clusters. In particular, the middle cluster looks like it could be generated a single Gaussian (although in fact it was generated by two distinct Gaussians), and thus the setting of $\\alpha$ allows the practitioner to further encode their prior beliefs about how many clusters the data contains."
   ]
  },
  {
   "cell_type": "markdown",
   "metadata": {
    "colab_type": "text",
    "id": "oWBlcZ1vfiBV"
   },
   "source": [
    "### Dirichlet Mixture Model for Long Term Solar Observations \n",
    "\n",
    "As mentioned earlier, the Dirichlet process mixture model truly shines when exploring a dataset whose latent geometric structure is completely unknown. To demonstrate this, we fit a DPMM on sunspot count data taken over the past 300 years (provided by the Royal Observatory of Belgium):"
   ]
  },
  {
   "cell_type": "code",
   "execution_count": 115,
   "metadata": {
    "colab": {
     "base_uri": "https://localhost:8080/",
     "height": 295
    },
    "colab_type": "code",
    "id": "UlhV2Fx_fVGy",
    "outputId": "045dbfaa-27a0-4aa6-ee8c-de9f9937aa38"
   },
   "outputs": [
    {
     "data": {
      "image/png": "[encoded data removed]",
      "text/plain": [
       "<Figure size 432x288 with 1 Axes>"
      ]
     },
     "metadata": {
      "needs_background": "light"
     },
     "output_type": "display_data"
    }
   ],
   "source": [
    "df = pd.read_csv('http://www.sidc.be/silso/DATA/SN_y_tot_V2.0.csv', sep=';', names=['time', 'sunspot.year'], usecols=[0, 1])\n",
    "data = torch.tensor(df['sunspot.year'].values, dtype=torch.float32).round()\n",
    "N = data.shape[0]\n",
    "\n",
    "plt.hist(df['sunspot.year'].values, bins=40)\n",
    "plt.title(\"Number of Years vs. Sunspot Counts\")\n",
    "plt.xlabel(\"Sunspot Count\")\n",
    "plt.ylabel(\"Number of Years\")\n",
    "plt.show()"
   ]
  },
  {
   "cell_type": "markdown",
   "metadata": {
    "colab_type": "text",
    "id": "1BE18id2_VlV"
   },
   "source": [
    "For this example, the cluster parameters $\\theta_i$ are rate parameters since we are constructing a scale-mixture of Poisson distributions. Again, $G_0$ is chosen to be the conjugate prior, which in this case is a Gamma distribution, though this still does not strictly matter for doing inference through Pyro. Below is the implementation of the model:"
   ]
  },
  {
   "cell_type": "code",
   "execution_count": 116,
   "metadata": {
    "colab": {
     "base_uri": "https://localhost:8080/",
     "height": 298
    },
    "colab_type": "code",
    "id": "f7mWbeTz_GLI",
    "outputId": "bd64a9bc-5aa2-4767-d71f-bdcb6279526c"
   },
   "outputs": [
    {
     "name": "stderr",
     "output_type": "stream",
     "text": [
      "100%|██████████| 1500/1500 [00:04<00:00, 358.51it/s]\n"
     ]
    },
    {
     "name": "stdout",
     "output_type": "stream",
     "text": [
      "tensor([[5.1104e-07, 7.2052e-15, 3.6120e-35,  ..., 8.3986e-30, 0.0000e+00,\n",
      "         0.0000e+00],\n",
      "        [7.4033e-06, 2.3463e-13, 2.8645e-33,  ..., 5.6228e-28, 0.0000e+00,\n",
      "         0.0000e+00],\n",
      "        [5.3625e-05, 3.8203e-12, 1.1359e-31,  ..., 1.8822e-26, 0.0000e+00,\n",
      "         0.0000e+00],\n",
      "        ...,\n",
      "        [0.0000e+00, 0.0000e+00, 0.0000e+00,  ..., 0.0000e+00, 1.0961e-30,\n",
      "         2.2468e-12],\n",
      "        [0.0000e+00, 0.0000e+00, 0.0000e+00,  ..., 0.0000e+00, 5.1875e-31,\n",
      "         1.4688e-12],\n",
      "        [0.0000e+00, 0.0000e+00, 0.0000e+00,  ..., 0.0000e+00, 2.4468e-31,\n",
      "         9.5704e-13]])\n"
     ]
    },
    {
     "data": {
      "image/png": "[encoded data removed]",
      "text/plain": [
       "<Figure size 432x288 with 1 Axes>"
      ]
     },
     "metadata": {
      "needs_background": "light"
     },
     "output_type": "display_data"
    }
   ],
   "source": [
    "def model(data):\n",
    "    with pyro.plate(\"beta_plate\", T-1):\n",
    "        beta = pyro.sample(\"beta\", Beta(1, alpha))\n",
    "\n",
    "    with pyro.plate(\"lambda_plate\", T):\n",
    "        lmbda = pyro.sample(\"lambda\", Gamma(3, 0.05))\n",
    "    \n",
    "    with pyro.plate(\"data\", N):\n",
    "        z = pyro.sample(\"z\", Categorical(mix_weights(beta)))\n",
    "        pyro.sample(\"obs\", Poisson(lmbda[z]), obs=data)\n",
    "\n",
    "def guide(data):\n",
    "    kappa = pyro.param('kappa', lambda: Uniform(0, 2).sample([T-1]), constraint=constraints.positive)\n",
    "    tau_0 = pyro.param('tau_0', lambda: Uniform(0, 5).sample([T]), constraint=constraints.positive)\n",
    "    tau_1 = pyro.param('tau_1', lambda: LogNormal(-1, 1).sample([T]), constraint=constraints.positive)\n",
    "    phi = pyro.param('phi', lambda: Dirichlet(1/T * torch.ones(T)).sample([N]), constraint=constraints.simplex)\n",
    "\n",
    "    with pyro.plate(\"beta_plate\", T-1):\n",
    "        q_beta = pyro.sample(\"beta\", Beta(torch.ones(T-1), kappa))\n",
    "\n",
    "    with pyro.plate(\"lambda_plate\", T):\n",
    "        q_lambda = pyro.sample(\"lambda\", Gamma(tau_0, tau_1))\n",
    "\n",
    "    with pyro.plate(\"data\", N):\n",
    "        z = pyro.sample(\"z\", Categorical(phi))\n",
    "\n",
    "T = 20\n",
    "alpha = 1.1\n",
    "n_iter = 1500\n",
    "optim = Adam({\"lr\": 0.05})\n",
    "svi = SVI(model, guide, optim, loss=Trace_ELBO())\n",
    "losses = []\n",
    "\n",
    "train(n_iter)\n",
    "\n",
    "samples = torch.arange(0, 300).type(torch.float)\n",
    "\n",
    "tau0_optimal = pyro.param(\"tau_0\").detach()\n",
    "tau1_optimal = pyro.param(\"tau_1\").detach()\n",
    "kappa_optimal = pyro.param(\"kappa\").detach()\n",
    "\n",
    "# We make a point-estimate of our latent variables using the posterior means of tau and kappa for the cluster params and weights\n",
    "Bayes_Rates = (tau0_optimal / tau1_optimal)\n",
    "Bayes_Weights = mix_weights(1. / (1. + kappa_optimal))\n",
    "\n",
    "def mixture_of_poisson(weights, rates, samples):\n",
    "    print(Poisson(rates).log_prob(samples.unsqueeze(-1)).exp())\n",
    "    return (weights * Poisson(rates).log_prob(samples.unsqueeze(-1)).exp()).sum(-1)\n",
    "\n",
    "likelihood = mixture_of_poisson(Bayes_Weights, Bayes_Rates, samples)\n",
    "\n",
    "plt.title(\"Number of Years vs. Sunspot Counts\")\n",
    "plt.hist(data.numpy(), bins=60, density=True, lw=0, alpha=0.75);\n",
    "plt.plot(samples, likelihood, label=\"Estimated Mixture Density\")\n",
    "plt.legend()\n",
    "plt.show()"
   ]
  },
  {
   "cell_type": "markdown",
   "metadata": {
    "colab_type": "text",
    "id": "gjn4x2JqBfll"
   },
   "source": [
    "The above plot is the mixture density of the Bayes estimators of the cluster parameters, weighted by their corresponding weights. As in the Gaussian example, we have taken the Bayes estimators of each cluster parameter and their corresponding weights by computing the posterior means of `lambda` and `beta` respectively."
   ]
  },
  {
   "cell_type": "markdown",
   "metadata": {
    "colab_type": "text",
    "id": "NaHLTiRJUxBR"
   },
   "source": [
    "### ELBO Behavior\n",
    "\n",
    "Below are plots of the behavior of the loss function (negative Trace_ELBO) over the SVI iterations during inference using Pyro, as well as a plot of the autocorrelations of the ELBO 'time series' versus iteration number. We can see that around 500 iterations, the loss stops decreasing significantly, so we can assume it takes around 500 iterations to achieve convergence. The autocorrelation plot reaches an autocorrelation very close to 0 around a lag of 500, further corroborating this hypothesis. Note that these are heuristics and do not necessarily imply convergence."
   ]
  },
  {
   "cell_type": "code",
   "execution_count": 117,
   "metadata": {
    "colab": {
     "base_uri": "https://localhost:8080/",
     "height": 369
    },
    "colab_type": "code",
    "id": "XzbxzSkOUveF",
    "outputId": "a752e5e8-1fcf-4ff9-d8db-8d3f59a6a32b"
   },
   "outputs": [
    {
     "data": {
      "image/png": "[encoded data removed]",
      "text/plain": [
       "<Figure size 1080x360 with 2 Axes>"
      ]
     },
     "metadata": {
      "needs_background": "light"
     },
     "output_type": "display_data"
    }
   ],
   "source": [
    "elbo_plot = plt.figure(figsize=(15, 5))\n",
    "\n",
    "elbo_ax = elbo_plot.add_subplot(1, 2, 1)\n",
    "elbo_ax.set_title(\"ELBO Value vs. Iteration Number for Pyro BBVI on Sunspot Data\")\n",
    "elbo_ax.set_ylabel(\"ELBO\")\n",
    "elbo_ax.set_xlabel(\"Iteration Number\")\n",
    "elbo_ax.plot(np.arange(n_iter), losses)\n",
    "\n",
    "autocorr_ax = elbo_plot.add_subplot(1, 2, 2)\n",
    "autocorr_ax.acorr(np.asarray(losses), detrend=lambda x: x - x.mean(), maxlags=750, usevlines=False, marker=',')\n",
    "autocorr_ax.set_xlim(0, 500)\n",
    "autocorr_ax.axhline(0, ls=\"--\", c=\"k\", lw=1)\n",
    "autocorr_ax.set_title(\"Autocorrelation of ELBO vs. Lag for Pyro BBVI on Sunspot Data\")\n",
    "autocorr_ax.set_xlabel(\"Lag\")\n",
    "autocorr_ax.set_ylabel(\"Autocorrelation\")\n",
    "elbo_plot.tight_layout()\n",
    "plt.show()\n"
   ]
  },
  {
   "cell_type": "code",
   "execution_count": 118,
   "metadata": {},
   "outputs": [
    {
     "name": "stdout",
     "output_type": "stream",
     "text": [
      "mv: cannot stat 'dirichlet_process_mixture.ipynb.txt': No such file or directory\r\n"
     ]
    }
   ],
   "source": [
    "!mv dirichlet_process_mixture.ipynb.txt dirichlet_process_mixture.ipynb"
   ]
  },
  {
   "cell_type": "markdown",
   "metadata": {
    "colab_type": "text",
    "id": "_sn3OS8tOoko"
   },
   "source": [
    "## **Criticism**\n",
    "\n",
    "\n"
   ]
  },
  {
   "cell_type": "markdown",
   "metadata": {
    "colab_type": "text",
    "id": "qvRAgapHZLPA"
   },
   "source": [
    "### Long-Term Sunspot Model\n",
    "\n",
    "Since we computed the approximate posterior of the DPMM that was fit to the long-term sunspot data, we can utilize some intrinsic metrics, such as the log predictive, posterior dispersion indices, and posterior predictive checks. \n",
    "\n",
    "Since the posterior predictive distribution for a Dirichlet process mixture model is itself a scale-mixture distribution that has an analytic approximation [(Blei and Jordan, 2004)](http://www.cs.columbia.edu/~blei/papers/BleiJordan2004.pdf), this makes it particularly amenable to the aforementioned metrics:\n",
    "\n",
    "$$p(x_{new} | X_{1:N}, \\alpha, G_0) \\approx \\sum_{t=1}^T \\mathbb{E}_q [\\pi_t(\\beta)] \\ \\mathbb{E}_q \\left[p(x_{new} | \\theta_t)\\right].$$\n",
    "\n",
    "In particular, to compute the log predictive, we first compute the posterior predictive distribution (defined above) after performing variational inference on our model using a training subsample of our data. The log predictive is then the log value of the predictive density evaluated at each point in the test subsample:\n",
    "\n",
    "$$\\log p(x_{new} | X) = \\log \\mathbb{E}_{\\beta, \\theta | X} \\left[ p(x_{new} | \\beta, \\theta) \\right]$$\n",
    "\n",
    "Since both the training samples and the testing samples were taken from the same dataset, we would expect the model to assign high probability to the test samples, despite not having seen them during inference. This gives a metric by which to select values of $T$, $\\alpha$, and $G_0$, our hyperparameters: we would want to choose the values that maximize this value.\n",
    "\n",
    "We perform this process below with varying values of $\\alpha$ to see what the optimal setting is."
   ]
  },
  {
   "cell_type": "code",
   "execution_count": 125,
   "metadata": {
    "colab": {
     "base_uri": "https://localhost:8080/",
     "height": 526
    },
    "colab_type": "code",
    "id": "3V2-DC9nobPi",
    "outputId": "473035e6-036f-4e34-9ea4-6c2dc5a4bec0"
   },
   "outputs": [
    {
     "name": "stderr",
     "output_type": "stream",
     "text": [
      "100%|██████████| 500/500 [00:01<00:00, 362.41it/s]\n"
     ]
    }
   ],
   "source": [
    "pyro.set_rng_seed(1)\n",
    "\n",
    "# Hold out 10% of our original data to test upon\n",
    "df_test = df.sample(frac=0.1)\n",
    "data = torch.tensor(df.drop(df_test.index)['sunspot.year'].values, dtype=torch.float).round()\n",
    "data_test = torch.tensor(df_test['sunspot.year'].values, dtype=torch.float).round()\n",
    "N = data.shape[0]\n",
    "N_test = data_test.shape[0]\n",
    "\n",
    "alphas = [0.05, 0.1, 0.5, 0.75, 0.9, 1., 1.25, 1.5, 2, 2.5, 3]\n",
    "log_predictives = []\n",
    "\n",
    "for val in alphas[:1]:\n",
    "    alpha = val\n",
    "    T = 20\n",
    "    svi = SVI(model, guide, optim, loss=Trace_ELBO())\n",
    "    train(500)\n",
    "    \n",
    "    S = 100 # number of Monte Carlo samples to use in posterior predictive computations\n",
    "\n",
    "    # Using pyro's built in posterior predictive class:\n",
    "    posterior = Predictive(guide, num_samples=S, return_sites=[\"beta\", \"lambda\"])(data)\n",
    "    post_pred_weights = mix_weights(posterior[\"beta\"])\n",
    "    post_pred_clusters = posterior[\"lambda\"]\n",
    "\n",
    "    # log_prob shape = N_test x S\n",
    "    log_prob = (post_pred_weights.log() + Poisson(post_pred_clusters).log_prob(data.reshape(-1, 1, 1))).logsumexp(-1)\n",
    "    mean_log_prob = log_prob.logsumexp(-1) - np.log(S)\n",
    "    log_posterior_predictive = mean_log_prob.sum(-1)\n",
    "    log_predictives.append(log_posterior_predictive)\n",
    "\n",
    "# plt.figure(figsize=(10, 5))\n",
    "# plt.plot(alphas, log_predictives)\n",
    "# plt.title(\"Value of the Log Predictive at Varying Alpha\")\n",
    "# plt.show()"
   ]
  },
  {
   "cell_type": "code",
   "execution_count": null,
   "metadata": {},
   "outputs": [],
   "source": []
  },
  {
   "cell_type": "markdown",
   "metadata": {
    "colab_type": "text",
    "id": "PGw4eD363PWP"
   },
   "source": [
    "From the above plot, we would surmise that we want to set $\\alpha > 1$, though the signal is not quite clear. A more comprehensive model criticism process would involve performing a grid search across all hyperparameters in order to find the one that maximizes the log predictive.\n"
   ]
  },
  {
   "cell_type": "markdown",
   "metadata": {
    "colab_type": "text",
    "id": "8A1gt4sn8Upo"
   },
   "source": [
    "## References\n",
    "\n",
    "\n",
    "\n",
    "1.   Ferguson, Thomas. *A Bayesian Analysis of Some Nonparametric Problems*. The Annals of Statistics, Vol. 1, No. 2 (1973). \n",
    "2.   Aldous, D. *Exchangeability and Related Topics*. Ecole diete de Probabilities Saint Flour (1985).\n",
    "3.   Sethuraman, J. *A Constructive Definition of Dirichlet Priors*. Statistica, Sinica, 4:639-650 (1994).\n",
    "4.   Blei, David and Jordan, Michael. *Variational Inference for Dirichlet Process Mixtures*. Bayesian Analysis, Vol. 1, No. 1 (2004).\n",
    "5.   Pedregosa, et al. *Scikit-Learn: Machine Learning in Python*. JMLR 12, pp. 2825-2830 (2011).\n",
    "6.   Bishop, Christopher. *Pattern Recogition and Machine Learning*. Springer Ltd (2006).\n",
    "7.   *Sunspot Index and Long-Term Solar Observations*. WDC-SILSO, Royal Observatory of Belgium, Brussels (2018).\n",
    "9.   Gelman, Andrew. *Understanding predictive information criteria for Bayesian models*. Statistics and Computing, Springer Link, 2014.\n",
    "\n",
    "\n",
    "\n"
   ]
  },
  {
   "cell_type": "code",
   "execution_count": null,
   "metadata": {},
   "outputs": [],
   "source": []
  },
  {
   "cell_type": "code",
   "execution_count": null,
   "metadata": {},
   "outputs": [],
   "source": []
  },
  {
   "cell_type": "code",
   "execution_count": null,
   "metadata": {},
   "outputs": [],
   "source": []
  },
  {
   "cell_type": "code",
   "execution_count": null,
   "metadata": {},
   "outputs": [],
   "source": []
  },
  {
   "cell_type": "code",
   "execution_count": null,
   "metadata": {},
   "outputs": [],
   "source": []
  },
  {
   "cell_type": "code",
   "execution_count": null,
   "metadata": {},
   "outputs": [],
   "source": []
  },
  {
   "cell_type": "code",
   "execution_count": null,
   "metadata": {},
   "outputs": [],
   "source": []
  }
 ],
 "metadata": {
  "accelerator": "TPU",
  "colab": {
   "collapsed_sections": [],
   "name": "Pyro Dirichlet Process Mixture Model",
   "provenance": []
  },
  "kernelspec": {
   "display_name": "Python 3",
   "language": "python",
   "name": "python3"
  },
  "language_info": {
   "codemirror_mode": {
    "name": "ipython",
    "version": 3
   },
   "file_extension": ".py",
   "mimetype": "text/x-python",
   "name": "python",
   "nbconvert_exporter": "python",
   "pygments_lexer": "ipython3",
   "version": "3.8.5"
  }
 },
 "nbformat": 4,
 "nbformat_minor": 4
}
