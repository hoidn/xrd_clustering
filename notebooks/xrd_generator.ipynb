{
 "cells": [
  {
   "cell_type": "code",
   "execution_count": 93,
   "metadata": {},
   "outputs": [],
   "source": [
    "import numpy as np\n",
    "from xrdc import xrdutils as xdu\n",
    "import matplotlib.pyplot as plt\n",
    "\n",
    "def sample_peak_intensity():\n",
    "    return np.random.uniform()"
   ]
  },
  {
   "cell_type": "code",
   "execution_count": null,
   "metadata": {},
   "outputs": [],
   "source": [
    "def sample_intensity_with_multiplicity"
   ]
  },
  {
   "cell_type": "code",
   "execution_count": 35,
   "metadata": {},
   "outputs": [],
   "source": [
    "from pymatgen.core.lattice import Lattice\n",
    "from pymatgen.core.structure import Structure\n",
    "from pymatgen.analysis.diffraction.xrd import XRDCalculator"
   ]
  },
  {
   "cell_type": "code",
   "execution_count": 128,
   "metadata": {},
   "outputs": [
    {
     "data": {
      "text/plain": [
       "Structure Summary\n",
       "Lattice\n",
       "    abc : 3.52 3.52 3.52\n",
       " angles : 90.0 90.0 90.0\n",
       " volume : 43.614208\n",
       "      A : 3.52 0.0 0.0\n",
       "      B : 0.0 3.52 0.0\n",
       "      C : 0.0 0.0 3.52\n",
       "PeriodicSite: Ni (0.0000, 0.0000, 0.0000) [0.0000, 0.0000, 0.0000]\n",
       "PeriodicSite: Ni (0.0000, 1.7600, 1.7600) [0.0000, 0.5000, 0.5000]\n",
       "PeriodicSite: Ni (1.7600, 0.0000, 1.7600) [0.5000, 0.0000, 0.5000]\n",
       "PeriodicSite: Ni (1.7600, 1.7600, 0.0000) [0.5000, 0.5000, 0.0000]"
      ]
     },
     "execution_count": 128,
     "metadata": {},
     "output_type": "execute_result"
    }
   ],
   "source": [
    "# FCC Ni definition\n",
    "lparam_Ni = 3.52\n",
    "s = Structure.from_spacegroup(\"Fm-3m\", Lattice.cubic(lparam_Ni), [\"Ni\"],\n",
    "                                 [[0, 0, 0]])\n",
    "s"
   ]
  },
  {
   "cell_type": "code",
   "execution_count": 132,
   "metadata": {},
   "outputs": [
    {
     "data": {
      "text/plain": [
       "(array([3.09170346, 3.56999165, 5.04873061]),\n",
       " array([100.        ,  46.36686035,  26.67333336]))"
      ]
     },
     "execution_count": 132,
     "metadata": {},
     "output_type": "execute_result"
    }
   ],
   "source": [
    "gen = XRDCalculator(\"CuKa\")\n",
    "# gen = XRDCalculator(1.54)\n",
    "pat = gen.get_pattern(s)\n",
    "xdu.to_q(pat.x), pat.y"
   ]
  },
  {
   "cell_type": "markdown",
   "metadata": {},
   "source": [
    "Define the same structure directly from lattice vectors and unit cell"
   ]
  },
  {
   "cell_type": "code",
   "execution_count": 142,
   "metadata": {},
   "outputs": [],
   "source": [
    "lat = Lattice(lparam_Ni * np.array([[1, 0, 0], [0, 1, 0], [0, 0, 1]]))\n",
    "fcc_basis = np.array(((0, 0, 0), (.5, .5, 0), (.5, 0, .5), (0, .5, .5)))\n",
    "struct = Structure(lat, [\"Ni\"] * len(fcc_basis), fcc_basis)\n",
    "\n",
    "pat = gen.get_pattern(struct)\n",
    "q, i = xdu.to_q(pat.x), pat.y"
   ]
  },
  {
   "cell_type": "code",
   "execution_count": 134,
   "metadata": {},
   "outputs": [],
   "source": [
    "def xrd_from_geo(lattice, basis, species):\n",
    "    lat = Lattice(lattice)\n",
    "    struct = Structure(lat, species, basis)\n",
    "    \n",
    "    pat = gen.get_pattern(struct)\n",
    "    return xdu.to_q(pat.x), pat.y"
   ]
  },
  {
   "cell_type": "code",
   "execution_count": 140,
   "metadata": {},
   "outputs": [],
   "source": [
    "def distort_Ni(relative_c):\n",
    "    return xrd_from_geo(lparam_Ni * np.array([[1, 0, 0], [0, 1, 0], [0, 0, relative_c]]), fcc_basis, [\"Ni\"] * 4)"
   ]
  },
  {
   "cell_type": "code",
   "execution_count": 170,
   "metadata": {},
   "outputs": [],
   "source": [
    "def Ni_cubic_to_tetra(N, c_start, c_end, sigma = .01):\n",
    "    cs =  np.linspace(c_start, c_end, N)\n",
    "    res = []\n",
    "    for c in cs:\n",
    "        q, i = distort_Ni(c)\n",
    "        qq, ii = xdu.mk_pattern(i, q, sigma, with_grid=True)\n",
    "        res.append(ii)\n",
    "    return np.vstack(res)"
   ]
  },
  {
   "cell_type": "code",
   "execution_count": 171,
   "metadata": {},
   "outputs": [],
   "source": [
    "Ni_scan = Ni_cubic_to_tetra(500, .9, 1.1)"
   ]
  },
  {
   "cell_type": "code",
   "execution_count": 172,
   "metadata": {},
   "outputs": [
    {
     "data": {
      "text/plain": [
       "<matplotlib.image.AxesImage at 0x7f81e22cf910>"
      ]
     },
     "execution_count": 172,
     "metadata": {},
     "output_type": "execute_result"
    },
    {
     "data": {
      "image/png": "[encoded data removed]",
      "text/plain": [
       "<Figure size 432x288 with 1 Axes>"
      ]
     },
     "metadata": {
      "needs_background": "light"
     },
     "output_type": "display_data"
    }
   ],
   "source": [
    "plt.imshow(np.log(Ni_scan + 1), cmap = 'jet')"
   ]
  },
  {
   "cell_type": "code",
   "execution_count": 141,
   "metadata": {},
   "outputs": [
    {
     "data": {
      "text/plain": [
       "(array([3.0009418 , 3.24544696, 3.56999165, 4.82470376, 5.04873061,\n",
       "        5.48374904]),\n",
       " array([100.        ,  19.39412718,  28.09833433,  18.98544789,\n",
       "          8.08202489,  12.29684462]))"
      ]
     },
     "execution_count": 141,
     "metadata": {},
     "output_type": "execute_result"
    }
   ],
   "source": [
    "distort_Ni(1.1)"
   ]
  },
  {
   "cell_type": "code",
   "execution_count": 152,
   "metadata": {},
   "outputs": [
    {
     "data": {
      "text/plain": [
       "<module 'xrdc.xrdutils' from '/Users/ollie/anaconda3/lib/python3.7/site-packages/xrdc-1.0-py3.7.egg/xrdc/xrdutils.py'>"
      ]
     },
     "execution_count": 152,
     "metadata": {},
     "output_type": "execute_result"
    }
   ],
   "source": [
    "from importlib import reload\n",
    "reload(xdu)"
   ]
  },
  {
   "cell_type": "code",
   "execution_count": 155,
   "metadata": {
    "scrolled": false
   },
   "outputs": [],
   "source": [
    "qq, ii = xdu.mk_pattern(i, q, .01, with_grid=True)"
   ]
  },
  {
   "cell_type": "code",
   "execution_count": 156,
   "metadata": {},
   "outputs": [
    {
     "data": {
      "text/plain": [
       "[<matplotlib.lines.Line2D at 0x7f81e4103390>]"
      ]
     },
     "execution_count": 156,
     "metadata": {},
     "output_type": "execute_result"
    },
    {
     "data": {
      "image/png": "[encoded data removed]",
      "text/plain": [
       "<Figure size 432x288 with 1 Axes>"
      ]
     },
     "metadata": {
      "needs_background": "light"
     },
     "output_type": "display_data"
    }
   ],
   "source": [
    "plt.plot(qq, ii)"
   ]
  },
  {
   "cell_type": "code",
   "execution_count": 146,
   "metadata": {},
   "outputs": [
    {
     "data": {
      "text/plain": [
       "[<matplotlib.lines.Line2D at 0x7f81e35d1c10>,\n",
       " <matplotlib.lines.Line2D at 0x7f81e35d1b90>,\n",
       " <matplotlib.lines.Line2D at 0x7f81e35d16d0>,\n",
       " <matplotlib.lines.Line2D at 0x7f81e35cf850>,\n",
       " <matplotlib.lines.Line2D at 0x7f81e35cff90>,\n",
       " <matplotlib.lines.Line2D at 0x7f81e35cfd50>,\n",
       " <matplotlib.lines.Line2D at 0x7f81e35cfa90>,\n",
       " <matplotlib.lines.Line2D at 0x7f81e35cf910>,\n",
       " <matplotlib.lines.Line2D at 0x7f81e35cfed0>,\n",
       " <matplotlib.lines.Line2D at 0x7f81e35cf550>,\n",
       " <matplotlib.lines.Line2D at 0x7f81e35e9950>,\n",
       " <matplotlib.lines.Line2D at 0x7f81e35cf6d0>,\n",
       " <matplotlib.lines.Line2D at 0x7f81e35cf5d0>,\n",
       " <matplotlib.lines.Line2D at 0x7f81e35cf790>,\n",
       " <matplotlib.lines.Line2D at 0x7f81e35cf090>,\n",
       " <matplotlib.lines.Line2D at 0x7f81e35cf3d0>,\n",
       " <matplotlib.lines.Line2D at 0x7f81e35cf250>,\n",
       " <matplotlib.lines.Line2D at 0x7f81e3303950>,\n",
       " <matplotlib.lines.Line2D at 0x7f81e3303b50>,\n",
       " <matplotlib.lines.Line2D at 0x7f81e32b5e10>,\n",
       " <matplotlib.lines.Line2D at 0x7f81e32b5790>,\n",
       " <matplotlib.lines.Line2D at 0x7f81e32b5e50>,\n",
       " <matplotlib.lines.Line2D at 0x7f81e32b5190>,\n",
       " <matplotlib.lines.Line2D at 0x7f81e32b5c90>,\n",
       " <matplotlib.lines.Line2D at 0x7f81e32b55d0>,\n",
       " <matplotlib.lines.Line2D at 0x7f81e32b5450>,\n",
       " <matplotlib.lines.Line2D at 0x7f81e32b56d0>,\n",
       " <matplotlib.lines.Line2D at 0x7f81e33065d0>,\n",
       " <matplotlib.lines.Line2D at 0x7f81e3306850>,\n",
       " <matplotlib.lines.Line2D at 0x7f81e3306090>,\n",
       " <matplotlib.lines.Line2D at 0x7f81e3306bd0>,\n",
       " <matplotlib.lines.Line2D at 0x7f81e3306310>,\n",
       " <matplotlib.lines.Line2D at 0x7f81e3306810>,\n",
       " <matplotlib.lines.Line2D at 0x7f81e32d0550>,\n",
       " <matplotlib.lines.Line2D at 0x7f81e32d0490>,\n",
       " <matplotlib.lines.Line2D at 0x7f81e32d0c90>,\n",
       " <matplotlib.lines.Line2D at 0x7f81e32d0d50>,\n",
       " <matplotlib.lines.Line2D at 0x7f81e32d0790>,\n",
       " <matplotlib.lines.Line2D at 0x7f81e32d0b50>,\n",
       " <matplotlib.lines.Line2D at 0x7f81e32d08d0>,\n",
       " <matplotlib.lines.Line2D at 0x7f81e32d02d0>,\n",
       " <matplotlib.lines.Line2D at 0x7f81e32d0690>,\n",
       " <matplotlib.lines.Line2D at 0x7f81e32d0d90>,\n",
       " <matplotlib.lines.Line2D at 0x7f81e32d0190>,\n",
       " <matplotlib.lines.Line2D at 0x7f81e32b1ed0>,\n",
       " <matplotlib.lines.Line2D at 0x7f81e32b1e50>,\n",
       " <matplotlib.lines.Line2D at 0x7f81e32b1a90>,\n",
       " <matplotlib.lines.Line2D at 0x7f81e32b1090>,\n",
       " <matplotlib.lines.Line2D at 0x7f81e32b13d0>,\n",
       " <matplotlib.lines.Line2D at 0x7f81e32b1fd0>,\n",
       " <matplotlib.lines.Line2D at 0x7f81e32b1310>,\n",
       " <matplotlib.lines.Line2D at 0x7f81e32b1e10>,\n",
       " <matplotlib.lines.Line2D at 0x7f81e32b1190>,\n",
       " <matplotlib.lines.Line2D at 0x7f81e35e2290>,\n",
       " <matplotlib.lines.Line2D at 0x7f81e35e2d50>,\n",
       " <matplotlib.lines.Line2D at 0x7f81e35e2890>,\n",
       " <matplotlib.lines.Line2D at 0x7f81e35e26d0>,\n",
       " <matplotlib.lines.Line2D at 0x7f81e35e2150>,\n",
       " <matplotlib.lines.Line2D at 0x7f81e35e2fd0>,\n",
       " <matplotlib.lines.Line2D at 0x7f81e35e2c90>,\n",
       " <matplotlib.lines.Line2D at 0x7f81e35e2550>,\n",
       " <matplotlib.lines.Line2D at 0x7f81e35e2090>,\n",
       " <matplotlib.lines.Line2D at 0x7f81e35e2950>,\n",
       " <matplotlib.lines.Line2D at 0x7f81e35e29d0>,\n",
       " <matplotlib.lines.Line2D at 0x7f81e35e24d0>,\n",
       " <matplotlib.lines.Line2D at 0x7f81e35e2810>,\n",
       " <matplotlib.lines.Line2D at 0x7f81e35e2d90>,\n",
       " <matplotlib.lines.Line2D at 0x7f81e35e2d10>,\n",
       " <matplotlib.lines.Line2D at 0x7f81e35e2310>,\n",
       " <matplotlib.lines.Line2D at 0x7f81e35de290>,\n",
       " <matplotlib.lines.Line2D at 0x7f81e35dee50>,\n",
       " <matplotlib.lines.Line2D at 0x7f81e35de790>,\n",
       " <matplotlib.lines.Line2D at 0x7f81e35de250>,\n",
       " <matplotlib.lines.Line2D at 0x7f81e35de990>,\n",
       " <matplotlib.lines.Line2D at 0x7f81e35ded50>,\n",
       " <matplotlib.lines.Line2D at 0x7f81e35de450>,\n",
       " <matplotlib.lines.Line2D at 0x7f81e35de190>,\n",
       " <matplotlib.lines.Line2D at 0x7f81e35dec10>,\n",
       " <matplotlib.lines.Line2D at 0x7f81e35de9d0>,\n",
       " <matplotlib.lines.Line2D at 0x7f81e35de810>,\n",
       " <matplotlib.lines.Line2D at 0x7f81e35de3d0>,\n",
       " <matplotlib.lines.Line2D at 0x7f81e35dedd0>,\n",
       " <matplotlib.lines.Line2D at 0x7f81e35dea10>,\n",
       " <matplotlib.lines.Line2D at 0x7f81e35de490>,\n",
       " <matplotlib.lines.Line2D at 0x7f81e3339090>,\n",
       " <matplotlib.lines.Line2D at 0x7f81e3339750>,\n",
       " <matplotlib.lines.Line2D at 0x7f81e3339a90>,\n",
       " <matplotlib.lines.Line2D at 0x7f81e3339d50>,\n",
       " <matplotlib.lines.Line2D at 0x7f81e3339110>,\n",
       " <matplotlib.lines.Line2D at 0x7f81e3339790>,\n",
       " <matplotlib.lines.Line2D at 0x7f81e3339ad0>,\n",
       " <matplotlib.lines.Line2D at 0x7f81e3339d90>,\n",
       " <matplotlib.lines.Line2D at 0x7f81e33392d0>,\n",
       " <matplotlib.lines.Line2D at 0x7f81e33398d0>,\n",
       " <matplotlib.lines.Line2D at 0x7f81e3339bd0>,\n",
       " <matplotlib.lines.Line2D at 0x7f81e3339ed0>,\n",
       " <matplotlib.lines.Line2D at 0x7f81e3339350>,\n",
       " <matplotlib.lines.Line2D at 0x7f81e3339950>,\n",
       " <matplotlib.lines.Line2D at 0x7f81e3339c10>,\n",
       " <matplotlib.lines.Line2D at 0x7f81e3339f90>,\n",
       " <matplotlib.lines.Line2D at 0x7f81e3367c90>,\n",
       " <matplotlib.lines.Line2D at 0x7f81e3367a90>,\n",
       " <matplotlib.lines.Line2D at 0x7f81e3367f10>,\n",
       " <matplotlib.lines.Line2D at 0x7f81e33677d0>,\n",
       " <matplotlib.lines.Line2D at 0x7f81e336f3d0>,\n",
       " <matplotlib.lines.Line2D at 0x7f81e336ff10>,\n",
       " <matplotlib.lines.Line2D at 0x7f81e336f510>,\n",
       " <matplotlib.lines.Line2D at 0x7f81e336fd90>,\n",
       " <matplotlib.lines.Line2D at 0x7f81e336ff90>,\n",
       " <matplotlib.lines.Line2D at 0x7f81e336f690>,\n",
       " <matplotlib.lines.Line2D at 0x7f81e336fe10>,\n",
       " <matplotlib.lines.Line2D at 0x7f81e336f210>,\n",
       " <matplotlib.lines.Line2D at 0x7f81e336fd50>,\n",
       " <matplotlib.lines.Line2D at 0x7f81e336fcd0>,\n",
       " <matplotlib.lines.Line2D at 0x7f81e3373310>,\n",
       " <matplotlib.lines.Line2D at 0x7f81e3373cd0>,\n",
       " <matplotlib.lines.Line2D at 0x7f81e3373210>,\n",
       " <matplotlib.lines.Line2D at 0x7f81e3373990>,\n",
       " <matplotlib.lines.Line2D at 0x7f81e3373fd0>,\n",
       " <matplotlib.lines.Line2D at 0x7f81e3373050>,\n",
       " <matplotlib.lines.Line2D at 0x7f81e3373f10>,\n",
       " <matplotlib.lines.Line2D at 0x7f81e3373810>,\n",
       " <matplotlib.lines.Line2D at 0x7f81e3373550>,\n",
       " <matplotlib.lines.Line2D at 0x7f81e3373dd0>,\n",
       " <matplotlib.lines.Line2D at 0x7f81e33731d0>,\n",
       " <matplotlib.lines.Line2D at 0x7f81e336cbd0>,\n",
       " <matplotlib.lines.Line2D at 0x7f81e336c510>,\n",
       " <matplotlib.lines.Line2D at 0x7f81e336cb50>,\n",
       " <matplotlib.lines.Line2D at 0x7f81e336c410>,\n",
       " <matplotlib.lines.Line2D at 0x7f81e336c950>,\n",
       " <matplotlib.lines.Line2D at 0x7f81e3360750>,\n",
       " <matplotlib.lines.Line2D at 0x7f81e3360950>,\n",
       " <matplotlib.lines.Line2D at 0x7f81e33603d0>,\n",
       " <matplotlib.lines.Line2D at 0x7f81e3360810>,\n",
       " <matplotlib.lines.Line2D at 0x7f81e3360d50>,\n",
       " <matplotlib.lines.Line2D at 0x7f81e3360650>,\n",
       " <matplotlib.lines.Line2D at 0x7f81e3360c50>,\n",
       " <matplotlib.lines.Line2D at 0x7f81e3360150>,\n",
       " <matplotlib.lines.Line2D at 0x7f81e33608d0>,\n",
       " <matplotlib.lines.Line2D at 0x7f81e3364810>,\n",
       " <matplotlib.lines.Line2D at 0x7f81e33649d0>,\n",
       " <matplotlib.lines.Line2D at 0x7f81e3364310>,\n",
       " <matplotlib.lines.Line2D at 0x7f81e3364610>,\n",
       " <matplotlib.lines.Line2D at 0x7f81e3364e90>,\n",
       " <matplotlib.lines.Line2D at 0x7f81e340cd50>,\n",
       " <matplotlib.lines.Line2D at 0x7f81e340c4d0>,\n",
       " <matplotlib.lines.Line2D at 0x7f81e340c550>,\n",
       " <matplotlib.lines.Line2D at 0x7f81e340c290>,\n",
       " <matplotlib.lines.Line2D at 0x7f81e340c5d0>,\n",
       " <matplotlib.lines.Line2D at 0x7f81e340cd90>,\n",
       " <matplotlib.lines.Line2D at 0x7f81e340c510>,\n",
       " <matplotlib.lines.Line2D at 0x7f81e340c410>,\n",
       " <matplotlib.lines.Line2D at 0x7f81e340c090>,\n",
       " <matplotlib.lines.Line2D at 0x7f81e35d5190>,\n",
       " <matplotlib.lines.Line2D at 0x7f81e35d5b10>,\n",
       " <matplotlib.lines.Line2D at 0x7f81e35d5050>,\n",
       " <matplotlib.lines.Line2D at 0x7f81e35d5590>,\n",
       " <matplotlib.lines.Line2D at 0x7f81e35d5110>,\n",
       " <matplotlib.lines.Line2D at 0x7f81e35d57d0>,\n",
       " <matplotlib.lines.Line2D at 0x7f81e35d5090>,\n",
       " <matplotlib.lines.Line2D at 0x7f81e35d5710>,\n",
       " <matplotlib.lines.Line2D at 0x7f81e35d5f10>,\n",
       " <matplotlib.lines.Line2D at 0x7f81e3372a10>,\n",
       " <matplotlib.lines.Line2D at 0x7f81e33729d0>,\n",
       " <matplotlib.lines.Line2D at 0x7f81e3372cd0>,\n",
       " <matplotlib.lines.Line2D at 0x7f81e35d72d0>,\n",
       " <matplotlib.lines.Line2D at 0x7f81e35d7d90>,\n",
       " <matplotlib.lines.Line2D at 0x7f81e35d7150>,\n",
       " <matplotlib.lines.Line2D at 0x7f81e35d7a90>,\n",
       " <matplotlib.lines.Line2D at 0x7f81e35d7490>,\n",
       " <matplotlib.lines.Line2D at 0x7f81e35d7b50>,\n",
       " <matplotlib.lines.Line2D at 0x7f81e35d7310>,\n",
       " <matplotlib.lines.Line2D at 0x7f81e35d7810>,\n",
       " <matplotlib.lines.Line2D at 0x7f81e35d7e90>,\n",
       " <matplotlib.lines.Line2D at 0x7f81e35dc250>,\n",
       " <matplotlib.lines.Line2D at 0x7f81e35dcb10>,\n",
       " <matplotlib.lines.Line2D at 0x7f81e35dced0>,\n",
       " <matplotlib.lines.Line2D at 0x7f81e35dc410>,\n",
       " <matplotlib.lines.Line2D at 0x7f81e35dca10>,\n",
       " <matplotlib.lines.Line2D at 0x7f81e35dcf90>,\n",
       " <matplotlib.lines.Line2D at 0x7f81e35dc6d0>,\n",
       " <matplotlib.lines.Line2D at 0x7f81e35dca90>,\n",
       " <matplotlib.lines.Line2D at 0x7f81e35dcf10>,\n",
       " <matplotlib.lines.Line2D at 0x7f81e35dc650>,\n",
       " <matplotlib.lines.Line2D at 0x7f81e35dcb50>,\n",
       " <matplotlib.lines.Line2D at 0x7f81e32a7a90>,\n",
       " <matplotlib.lines.Line2D at 0x7f81e32a7f10>,\n",
       " <matplotlib.lines.Line2D at 0x7f81e32a7a50>,\n",
       " <matplotlib.lines.Line2D at 0x7f81e32a7c90>,\n",
       " <matplotlib.lines.Line2D at 0x7f81e32a76d0>,\n",
       " <matplotlib.lines.Line2D at 0x7f81e32a73d0>,\n",
       " <matplotlib.lines.Line2D at 0x7f81e32a79d0>,\n",
       " <matplotlib.lines.Line2D at 0x7f81e32a7810>,\n",
       " <matplotlib.lines.Line2D at 0x7f81e32a7b10>,\n",
       " <matplotlib.lines.Line2D at 0x7f81e32a7510>,\n",
       " <matplotlib.lines.Line2D at 0x7f81e35e1190>,\n",
       " <matplotlib.lines.Line2D at 0x7f81e35e1610>,\n",
       " <matplotlib.lines.Line2D at 0x7f81e35e1990>,\n",
       " <matplotlib.lines.Line2D at 0x7f81e35e1c90>,\n",
       " <matplotlib.lines.Line2D at 0x7f81e35e1f90>,\n",
       " <matplotlib.lines.Line2D at 0x7f81e35e1290>,\n",
       " <matplotlib.lines.Line2D at 0x7f81e35e1850>,\n",
       " <matplotlib.lines.Line2D at 0x7f81e35e1b50>,\n",
       " <matplotlib.lines.Line2D at 0x7f81e35e1e50>,\n",
       " <matplotlib.lines.Line2D at 0x7f81e35e1210>,\n",
       " <matplotlib.lines.Line2D at 0x7f81e35e1790>,\n",
       " <matplotlib.lines.Line2D at 0x7f81e35e1a90>,\n",
       " <matplotlib.lines.Line2D at 0x7f81e35e1d10>,\n",
       " <matplotlib.lines.Line2D at 0x7f81e35e1150>,\n",
       " <matplotlib.lines.Line2D at 0x7f81e35e1490>,\n",
       " <matplotlib.lines.Line2D at 0x7f81e35e18d0>,\n",
       " <matplotlib.lines.Line2D at 0x7f81e35e1bd0>,\n",
       " <matplotlib.lines.Line2D at 0x7f81e35e1ed0>,\n",
       " <matplotlib.lines.Line2D at 0x7f81e32c9810>,\n",
       " <matplotlib.lines.Line2D at 0x7f81e32c9c10>,\n",
       " <matplotlib.lines.Line2D at 0x7f81e32c9e50>,\n",
       " <matplotlib.lines.Line2D at 0x7f81e32c9310>,\n",
       " <matplotlib.lines.Line2D at 0x7f81e32c9d50>,\n",
       " <matplotlib.lines.Line2D at 0x7f81e32c9990>,\n",
       " <matplotlib.lines.Line2D at 0x7f81e32c9f10>,\n",
       " <matplotlib.lines.Line2D at 0x7f81e32c9690>,\n",
       " <matplotlib.lines.Line2D at 0x7f81e32c9fd0>,\n",
       " <matplotlib.lines.Line2D at 0x7f81e32c9c90>,\n",
       " <matplotlib.lines.Line2D at 0x7f81e32c90d0>,\n",
       " <matplotlib.lines.Line2D at 0x7f81e32c9b10>,\n",
       " <matplotlib.lines.Line2D at 0x7f81e335e190>,\n",
       " <matplotlib.lines.Line2D at 0x7f81e335e690>,\n",
       " <matplotlib.lines.Line2D at 0x7f81e335e590>,\n",
       " <matplotlib.lines.Line2D at 0x7f81e335e810>,\n",
       " <matplotlib.lines.Line2D at 0x7f81e335e9d0>,\n",
       " <matplotlib.lines.Line2D at 0x7f81e335ecd0>,\n",
       " <matplotlib.lines.Line2D at 0x7f81e335eb50>,\n",
       " <matplotlib.lines.Line2D at 0x7f81e335ef90>,\n",
       " <matplotlib.lines.Line2D at 0x7f81e335e350>,\n",
       " <matplotlib.lines.Line2D at 0x7f81e335e5d0>,\n",
       " <matplotlib.lines.Line2D at 0x7f81e335ec50>,\n",
       " <matplotlib.lines.Line2D at 0x7f81e335e910>,\n",
       " <matplotlib.lines.Line2D at 0x7f81e335ec10>,\n",
       " <matplotlib.lines.Line2D at 0x7f81e335e750>,\n",
       " <matplotlib.lines.Line2D at 0x7f81e36590d0>,\n",
       " <matplotlib.lines.Line2D at 0x7f81e3659190>,\n",
       " <matplotlib.lines.Line2D at 0x7f81e3659250>,\n",
       " <matplotlib.lines.Line2D at 0x7f81e3659310>,\n",
       " <matplotlib.lines.Line2D at 0x7f81e36593d0>,\n",
       " <matplotlib.lines.Line2D at 0x7f81e3659490>,\n",
       " <matplotlib.lines.Line2D at 0x7f81e3659550>,\n",
       " <matplotlib.lines.Line2D at 0x7f81e3659610>,\n",
       " <matplotlib.lines.Line2D at 0x7f81e36596d0>,\n",
       " <matplotlib.lines.Line2D at 0x7f81e3659790>,\n",
       " <matplotlib.lines.Line2D at 0x7f81e3659850>,\n",
       " <matplotlib.lines.Line2D at 0x7f81e3659910>,\n",
       " <matplotlib.lines.Line2D at 0x7f81e36599d0>,\n",
       " <matplotlib.lines.Line2D at 0x7f81e3659a90>,\n",
       " <matplotlib.lines.Line2D at 0x7f81e3659b50>,\n",
       " <matplotlib.lines.Line2D at 0x7f81e3659c10>,\n",
       " <matplotlib.lines.Line2D at 0x7f81e3659cd0>,\n",
       " <matplotlib.lines.Line2D at 0x7f81e3659d90>,\n",
       " <matplotlib.lines.Line2D at 0x7f81e3659e50>,\n",
       " <matplotlib.lines.Line2D at 0x7f81e3659f10>,\n",
       " <matplotlib.lines.Line2D at 0x7f81e3659fd0>,\n",
       " <matplotlib.lines.Line2D at 0x7f81e36610d0>,\n",
       " <matplotlib.lines.Line2D at 0x7f81e3661190>,\n",
       " <matplotlib.lines.Line2D at 0x7f81e3661250>,\n",
       " <matplotlib.lines.Line2D at 0x7f81e3661310>,\n",
       " <matplotlib.lines.Line2D at 0x7f81e36613d0>,\n",
       " <matplotlib.lines.Line2D at 0x7f81e3661490>,\n",
       " <matplotlib.lines.Line2D at 0x7f81e3661550>,\n",
       " <matplotlib.lines.Line2D at 0x7f81e3661610>,\n",
       " <matplotlib.lines.Line2D at 0x7f81e36616d0>,\n",
       " <matplotlib.lines.Line2D at 0x7f81e3661790>,\n",
       " <matplotlib.lines.Line2D at 0x7f81e3661850>,\n",
       " <matplotlib.lines.Line2D at 0x7f81e3661910>,\n",
       " <matplotlib.lines.Line2D at 0x7f81e36619d0>,\n",
       " <matplotlib.lines.Line2D at 0x7f81e3661a90>,\n",
       " <matplotlib.lines.Line2D at 0x7f81e3661b50>,\n",
       " <matplotlib.lines.Line2D at 0x7f81e3661c10>,\n",
       " <matplotlib.lines.Line2D at 0x7f81e3661cd0>,\n",
       " <matplotlib.lines.Line2D at 0x7f81e3661d90>,\n",
       " <matplotlib.lines.Line2D at 0x7f81e3661e50>,\n",
       " <matplotlib.lines.Line2D at 0x7f81e3661f10>,\n",
       " <matplotlib.lines.Line2D at 0x7f81e3661fd0>,\n",
       " <matplotlib.lines.Line2D at 0x7f81e366b0d0>,\n",
       " <matplotlib.lines.Line2D at 0x7f81e366b190>,\n",
       " <matplotlib.lines.Line2D at 0x7f81e366b250>,\n",
       " <matplotlib.lines.Line2D at 0x7f81e366b310>,\n",
       " <matplotlib.lines.Line2D at 0x7f81e366b3d0>,\n",
       " <matplotlib.lines.Line2D at 0x7f81e366b490>,\n",
       " <matplotlib.lines.Line2D at 0x7f81e366b550>,\n",
       " <matplotlib.lines.Line2D at 0x7f81e366b610>,\n",
       " <matplotlib.lines.Line2D at 0x7f81e366b6d0>,\n",
       " <matplotlib.lines.Line2D at 0x7f81e366b790>,\n",
       " <matplotlib.lines.Line2D at 0x7f81e366b850>,\n",
       " <matplotlib.lines.Line2D at 0x7f81e366b910>,\n",
       " <matplotlib.lines.Line2D at 0x7f81e366b9d0>,\n",
       " <matplotlib.lines.Line2D at 0x7f81e366ba90>,\n",
       " <matplotlib.lines.Line2D at 0x7f81e366bb50>,\n",
       " <matplotlib.lines.Line2D at 0x7f81e366bc10>,\n",
       " <matplotlib.lines.Line2D at 0x7f81e366bcd0>,\n",
       " <matplotlib.lines.Line2D at 0x7f81e366bd90>,\n",
       " <matplotlib.lines.Line2D at 0x7f81e366be50>,\n",
       " <matplotlib.lines.Line2D at 0x7f81e366bf10>,\n",
       " <matplotlib.lines.Line2D at 0x7f81e366bfd0>,\n",
       " <matplotlib.lines.Line2D at 0x7f81e36750d0>,\n",
       " <matplotlib.lines.Line2D at 0x7f81e3675190>,\n",
       " <matplotlib.lines.Line2D at 0x7f81e3675250>,\n",
       " <matplotlib.lines.Line2D at 0x7f81e3675310>,\n",
       " <matplotlib.lines.Line2D at 0x7f81e36753d0>,\n",
       " <matplotlib.lines.Line2D at 0x7f81e3675490>,\n",
       " <matplotlib.lines.Line2D at 0x7f81e3675550>,\n",
       " <matplotlib.lines.Line2D at 0x7f81e3675610>,\n",
       " <matplotlib.lines.Line2D at 0x7f81e36756d0>,\n",
       " <matplotlib.lines.Line2D at 0x7f81e3675790>,\n",
       " <matplotlib.lines.Line2D at 0x7f81e3675850>,\n",
       " <matplotlib.lines.Line2D at 0x7f81e3675910>,\n",
       " <matplotlib.lines.Line2D at 0x7f81e36759d0>,\n",
       " <matplotlib.lines.Line2D at 0x7f81e3675a90>,\n",
       " <matplotlib.lines.Line2D at 0x7f81e3675b50>,\n",
       " <matplotlib.lines.Line2D at 0x7f81e3675c10>,\n",
       " <matplotlib.lines.Line2D at 0x7f81e3675cd0>,\n",
       " <matplotlib.lines.Line2D at 0x7f81e3675d90>,\n",
       " <matplotlib.lines.Line2D at 0x7f81e3675e50>,\n",
       " <matplotlib.lines.Line2D at 0x7f81e3675f10>,\n",
       " <matplotlib.lines.Line2D at 0x7f81e3675fd0>,\n",
       " <matplotlib.lines.Line2D at 0x7f81e367f0d0>,\n",
       " <matplotlib.lines.Line2D at 0x7f81e367f190>,\n",
       " <matplotlib.lines.Line2D at 0x7f81e367f250>,\n",
       " <matplotlib.lines.Line2D at 0x7f81e367f310>,\n",
       " <matplotlib.lines.Line2D at 0x7f81e367f3d0>,\n",
       " <matplotlib.lines.Line2D at 0x7f81e367f490>,\n",
       " <matplotlib.lines.Line2D at 0x7f81e367f550>,\n",
       " <matplotlib.lines.Line2D at 0x7f81e367f610>,\n",
       " <matplotlib.lines.Line2D at 0x7f81e367f6d0>,\n",
       " <matplotlib.lines.Line2D at 0x7f81e367f790>,\n",
       " <matplotlib.lines.Line2D at 0x7f81e367f850>,\n",
       " <matplotlib.lines.Line2D at 0x7f81e367f910>,\n",
       " <matplotlib.lines.Line2D at 0x7f81e367f9d0>,\n",
       " <matplotlib.lines.Line2D at 0x7f81e367fa90>,\n",
       " <matplotlib.lines.Line2D at 0x7f81e367fb50>,\n",
       " <matplotlib.lines.Line2D at 0x7f81e367fc10>,\n",
       " <matplotlib.lines.Line2D at 0x7f81e367fcd0>,\n",
       " <matplotlib.lines.Line2D at 0x7f81e367fd90>,\n",
       " <matplotlib.lines.Line2D at 0x7f81e367fe50>,\n",
       " <matplotlib.lines.Line2D at 0x7f81e367ff10>,\n",
       " <matplotlib.lines.Line2D at 0x7f81e367ffd0>,\n",
       " <matplotlib.lines.Line2D at 0x7f81e36870d0>,\n",
       " <matplotlib.lines.Line2D at 0x7f81e3687190>,\n",
       " <matplotlib.lines.Line2D at 0x7f81e3687250>,\n",
       " <matplotlib.lines.Line2D at 0x7f81e3687310>,\n",
       " <matplotlib.lines.Line2D at 0x7f81e36873d0>,\n",
       " <matplotlib.lines.Line2D at 0x7f81e3687490>,\n",
       " <matplotlib.lines.Line2D at 0x7f81e3687550>,\n",
       " <matplotlib.lines.Line2D at 0x7f81e3687610>,\n",
       " <matplotlib.lines.Line2D at 0x7f81e36876d0>,\n",
       " <matplotlib.lines.Line2D at 0x7f81e3687790>,\n",
       " <matplotlib.lines.Line2D at 0x7f81e3687850>,\n",
       " <matplotlib.lines.Line2D at 0x7f81e3687910>,\n",
       " <matplotlib.lines.Line2D at 0x7f81e36879d0>,\n",
       " <matplotlib.lines.Line2D at 0x7f81e3687a90>,\n",
       " <matplotlib.lines.Line2D at 0x7f81e3687b50>,\n",
       " <matplotlib.lines.Line2D at 0x7f81e3687c10>,\n",
       " <matplotlib.lines.Line2D at 0x7f81e3687cd0>,\n",
       " <matplotlib.lines.Line2D at 0x7f81e3687d90>,\n",
       " <matplotlib.lines.Line2D at 0x7f81e3687e50>,\n",
       " <matplotlib.lines.Line2D at 0x7f81e3687f10>,\n",
       " <matplotlib.lines.Line2D at 0x7f81e3687fd0>,\n",
       " <matplotlib.lines.Line2D at 0x7f81e36910d0>,\n",
       " <matplotlib.lines.Line2D at 0x7f81e3691190>,\n",
       " <matplotlib.lines.Line2D at 0x7f81e3691250>,\n",
       " <matplotlib.lines.Line2D at 0x7f81e3691310>,\n",
       " <matplotlib.lines.Line2D at 0x7f81e36913d0>,\n",
       " <matplotlib.lines.Line2D at 0x7f81e3691490>,\n",
       " <matplotlib.lines.Line2D at 0x7f81e3691550>,\n",
       " <matplotlib.lines.Line2D at 0x7f81e3691610>,\n",
       " <matplotlib.lines.Line2D at 0x7f81e36916d0>,\n",
       " <matplotlib.lines.Line2D at 0x7f81e3691790>,\n",
       " <matplotlib.lines.Line2D at 0x7f81e3691850>,\n",
       " <matplotlib.lines.Line2D at 0x7f81e3691910>,\n",
       " <matplotlib.lines.Line2D at 0x7f81e36919d0>,\n",
       " <matplotlib.lines.Line2D at 0x7f81e3691a90>,\n",
       " <matplotlib.lines.Line2D at 0x7f81e3691b50>,\n",
       " <matplotlib.lines.Line2D at 0x7f81e3691c10>,\n",
       " <matplotlib.lines.Line2D at 0x7f81e3691cd0>,\n",
       " <matplotlib.lines.Line2D at 0x7f81e3691d90>,\n",
       " <matplotlib.lines.Line2D at 0x7f81e3691e50>,\n",
       " <matplotlib.lines.Line2D at 0x7f81e3691f10>,\n",
       " <matplotlib.lines.Line2D at 0x7f81e3691fd0>,\n",
       " <matplotlib.lines.Line2D at 0x7f81e369b0d0>,\n",
       " <matplotlib.lines.Line2D at 0x7f81e369b190>,\n",
       " <matplotlib.lines.Line2D at 0x7f81e369b250>,\n",
       " <matplotlib.lines.Line2D at 0x7f81e369b310>,\n",
       " <matplotlib.lines.Line2D at 0x7f81e369b3d0>,\n",
       " <matplotlib.lines.Line2D at 0x7f81e369b490>,\n",
       " <matplotlib.lines.Line2D at 0x7f81e369b550>,\n",
       " <matplotlib.lines.Line2D at 0x7f81e369b610>,\n",
       " <matplotlib.lines.Line2D at 0x7f81e369b6d0>,\n",
       " <matplotlib.lines.Line2D at 0x7f81e369b7d0>,\n",
       " <matplotlib.lines.Line2D at 0x7f81e369b790>,\n",
       " <matplotlib.lines.Line2D at 0x7f81e369b910>,\n",
       " <matplotlib.lines.Line2D at 0x7f81e369b9d0>,\n",
       " <matplotlib.lines.Line2D at 0x7f81e369ba90>]"
      ]
     },
     "execution_count": 146,
     "metadata": {},
     "output_type": "execute_result"
    },
    {
     "data": {
      "image/png": "[encoded data removed]",
      "text/plain": [
       "<Figure size 432x288 with 1 Axes>"
      ]
     },
     "metadata": {
      "needs_background": "light"
     },
     "output_type": "display_data"
    }
   ],
   "source": [
    "plt.plot(*xdu.mk_pattern(i, q, .01))"
   ]
  },
  {
   "cell_type": "code",
   "execution_count": null,
   "metadata": {},
   "outputs": [],
   "source": []
  }
 ],
 "metadata": {
  "kernelspec": {
   "display_name": "Python 3",
   "language": "python",
   "name": "python3"
  },
  "language_info": {
   "codemirror_mode": {
    "name": "ipython",
    "version": 3
   },
   "file_extension": ".py",
   "mimetype": "text/x-python",
   "name": "python",
   "nbconvert_exporter": "python",
   "pygments_lexer": "ipython3",
   "version": "3.7.9"
  }
 },
 "nbformat": 4,
 "nbformat_minor": 4
}
