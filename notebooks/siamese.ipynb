{
 "cells": [
  {
   "cell_type": "code",
   "execution_count": 12,
   "metadata": {
    "scrolled": true
   },
   "outputs": [
    {
     "name": "stderr",
     "output_type": "stream",
     "text": [
      "  0%|          | 0/3130 [00:00<?, ?it/s, epoch=0, train_loss=0, val_loss=-1]"
     ]
    },
    {
     "name": "stdout",
     "output_type": "stream",
     "text": [
      "./data/XRD\n"
     ]
    },
    {
     "name": "stderr",
     "output_type": "stream",
     "text": [
      "100%|██████████| 3130/3130 [00:42<00:00, 73.71it/s, epoch=9, train_loss=0.000651, val_loss=0.00055]  "
     ]
    },
    {
     "name": "stdout",
     "output_type": "stream",
     "text": [
      "Saving artifacts to ./tmp/siamese-constrastive_1d-XRD-10_member_same_test-*\n"
     ]
    },
    {
     "name": "stderr",
     "output_type": "stream",
     "text": [
      "\n"
     ]
    }
   ],
   "source": [
    "%run ../siamese-net-and-friends/train.py siamese-constrastive_1d XRD --train_path ../data/10_member/train/ --test_path ../data/10_member/train/ --name 10_member_same_test --comments \"this is a comment\""
   ]
  },
  {
   "cell_type": "code",
   "execution_count": 9,
   "metadata": {},
   "outputs": [],
   "source": [
    "c = add_prefix(\"meta.txt\")"
   ]
  },
  {
   "cell_type": "code",
   "execution_count": 10,
   "metadata": {},
   "outputs": [
    {
     "name": "stdout",
     "output_type": "stream",
     "text": [
      "Namespace(animation=True, batch_size=32, comments='this is a comment', dataset='XRD', epochs=10, log_interval=50, lr=0.0001, name='foobar', net='siamese-constrastive_1d', output='./tmp', test_path='xrdsim/data/10_member/train/', train_path='xrdsim/data/10_member/train/')"
     ]
    }
   ],
   "source": [
    "cat $c"
   ]
  },
  {
   "cell_type": "code",
   "execution_count": 14,
   "metadata": {},
   "outputs": [],
   "source": [
    "dl = DataLoader(tds)"
   ]
  },
  {
   "cell_type": "markdown",
   "metadata": {},
   "source": [
    "## Pattern shift invariance\n",
    "\n",
    "### Siamese network with contrastive loss\n",
    "![title](../outputs/siamese-constrastive_1d-XRD-10_member_same_basis-testing-set-embedding.png)\n",
    "![title](../outputs/siamese-constrastive_1d-XRD-10_member_same_basis-latent-space-development.gif)\n",
    "\n",
    "### t-SNE (shift)\n",
    "<img src=\"../figures/tsne_xrd_basis_shift.png\" width=\"400\">\n",
    "\n",
    "### t-SNE (scale)\n",
    "<img src=\"../figures/tsne_xrd_basis_scale.png\" width=\"400\">\n"
   ]
  },
  {
   "cell_type": "code",
   "execution_count": 17,
   "metadata": {},
   "outputs": [
    {
     "name": "stderr",
     "output_type": "stream",
     "text": [
      "  0%|          | 0/3130 [00:00<?, ?it/s, epoch=0, train_loss=0, val_loss=-1]"
     ]
    },
    {
     "name": "stdout",
     "output_type": "stream",
     "text": [
      "./data/XRD\n"
     ]
    },
    {
     "name": "stderr",
     "output_type": "stream",
     "text": [
      "100%|██████████| 3130/3130 [00:38<00:00, 80.83it/s, epoch=9, train_loss=0.000707, val_loss=0.114] "
     ]
    },
    {
     "name": "stdout",
     "output_type": "stream",
     "text": [
      "Saving artifacts to ./tmp/siamese-constrastive_1d-XRD-10_member_different_test-*\n"
     ]
    },
    {
     "name": "stderr",
     "output_type": "stream",
     "text": [
      "\n"
     ]
    }
   ],
   "source": [
    "%run siamese-net-and-friends/train.py siamese-constrastive_1d XRD --train_path xrdsim/data/10_member/train/ --test_path xrdsim/data/10_member/test_2/ --name 10_member_different_test --comments \"this is a comment\""
   ]
  },
  {
   "cell_type": "markdown",
   "metadata": {},
   "source": [
    "### Test with member patterns unseen at training time: \n",
    "<img src=\"../outputs/siamese-constrastive_1d-XRD-10_member_same_test-training-set-embedding.png\" width=\"400\">\n",
    "<img src=\"../outputs/siamese-constrastive_1d-XRD-10_member_different_test-testing-set-embedding.png\" width=\"400\">\n",
    "<img src=\"../outputs/siamese-constrastive_1d-XRD-10_member_different_test-latent-space-development.gif\" width=\"400\">\n"
   ]
  },
  {
   "cell_type": "code",
   "execution_count": 4,
   "metadata": {},
   "outputs": [
    {
     "name": "stderr",
     "output_type": "stream",
     "text": [
      "  0%|          | 0/50080 [00:00<?, ?it/s, epoch=0, train_loss=0, val_loss=-1]"
     ]
    },
    {
     "name": "stdout",
     "output_type": "stream",
     "text": [
      "./data/XRD\n"
     ]
    },
    {
     "name": "stderr",
     "output_type": "stream",
     "text": [
      "100%|██████████| 50080/50080 [11:26<00:00, 72.96it/s, epoch=159, train_loss=0.00456, val_loss=0.00408] \n"
     ]
    },
    {
     "name": "stdout",
     "output_type": "stream",
     "text": [
      "Saving artifacts to ./tmp/siamese-constrastive_1d-XRD-100_member_different_test-*\n"
     ]
    }
   ],
   "source": [
    "%run siamese-net-and-friends/train.py siamese-constrastive_1d XRD --train_path xrdsim/data/100_member/train/ \\\n",
    "    --test_path xrdsim/data/100_member/test/ --name 100_member_different_test --comments \"foo\" \\\n",
    "    --n_classes 100 --epochs 160"
   ]
  },
  {
   "cell_type": "code",
   "execution_count": 29,
   "metadata": {},
   "outputs": [],
   "source": [
    "# Check unseen member pattern clustering with less clutter (10 clusters instead of 100)\n",
    "embx, emby = utils.get_embedding(net, original_test_loader)\n",
    "plots.plot_embedding(embx[:1000], emby[:1000], filename=add_prefix('foo.png'),title='Unseen members Embedding')"
   ]
  },
  {
   "cell_type": "markdown",
   "metadata": {},
   "source": [
    "### Increase to 100 member patterns: \n",
    "<img src=\"../outputs/siamese-constrastive_1d-XRD-100_member_different_test-training-set-embedding.png\" width=\"400\">\n",
    "<img src=\"../outputs/siamese-constrastive_1d-XRD-100_member_different_test-foo.png\" width=\"400\">"
   ]
  },
  {
   "cell_type": "code",
   "execution_count": 34,
   "metadata": {},
   "outputs": [],
   "source": [
    "rm -r tmp/siamese-constrastive_1d-XRD-CoNi-gif/"
   ]
  },
  {
   "cell_type": "code",
   "execution_count": 28,
   "metadata": {},
   "outputs": [
    {
     "name": "stderr",
     "output_type": "stream",
     "text": [
      "  0%|          | 0/3130 [00:00<?, ?it/s, epoch=0, train_loss=0, val_loss=-1]"
     ]
    },
    {
     "name": "stdout",
     "output_type": "stream",
     "text": [
      "./data/XRD\n"
     ]
    },
    {
     "name": "stderr",
     "output_type": "stream",
     "text": [
      "100%|██████████| 3130/3130 [00:41<00:00, 75.61it/s, epoch=9, train_loss=0.00434, val_loss=0.00386] "
     ]
    },
    {
     "name": "stdout",
     "output_type": "stream",
     "text": [
      "Saving artifacts to ./tmp/siamese-constrastive_1d-XRD-10_member_scale_different_test-*\n"
     ]
    },
    {
     "name": "stderr",
     "output_type": "stream",
     "text": [
      "\n"
     ]
    },
    {
     "data": {
      "text/plain": [
       "<Figure size 432x288 with 0 Axes>"
      ]
     },
     "metadata": {},
     "output_type": "display_data"
    }
   ],
   "source": [
    "%run siamese-net-and-friends/train.py siamese-constrastive_1d XRD --train_path xrdsim/data/10_member_scale/train/ --test_path xrdsim/data/10_member_scale/test/ --name 10_member_scale_different_test \\\n",
    "    --comments \"this is a comment\""
   ]
  },
  {
   "cell_type": "code",
   "execution_count": 41,
   "metadata": {},
   "outputs": [
    {
     "name": "stderr",
     "output_type": "stream",
     "text": [
      "  0%|          | 0/50080 [00:00<?, ?it/s, epoch=0, train_loss=0, val_loss=-1]"
     ]
    },
    {
     "name": "stdout",
     "output_type": "stream",
     "text": [
      "./data/XRD\n"
     ]
    },
    {
     "name": "stderr",
     "output_type": "stream",
     "text": [
      "100%|██████████| 50080/50080 [11:01<00:00, 75.69it/s, epoch=159, train_loss=0.0015, val_loss=0.00138]  \n"
     ]
    },
    {
     "name": "stdout",
     "output_type": "stream",
     "text": [
      "Saving artifacts to ./tmp/siamese-constrastive_1d-XRD-CoNi-*\n"
     ]
    },
    {
     "data": {
      "text/plain": [
       "<Figure size 432x288 with 0 Axes>"
      ]
     },
     "metadata": {},
     "output_type": "display_data"
    }
   ],
   "source": [
    "%run siamese-net-and-friends/train.py siamese-constrastive_1d XRD --train_path xrdsim/data/CoNi/train/ --test_path xrdsim/data/CoNi/test/ --name CoNi \\\n",
    "    --n_classes 20 --epochs 160"
   ]
  },
  {
   "cell_type": "markdown",
   "metadata": {},
   "source": [
    "### Co-CoNi-Ni dataset:\n",
    "\n",
    "With shift mutation in the data augmentation but normal q-scaling in the basis pattern progression\n",
    "\n",
    "<img src=\"../outputs/siamese-constrastive_1d-XRD-CoNi-training-set-embedding.png\" width=\"400\">\n"
   ]
  },
  {
   "cell_type": "code",
   "execution_count": 46,
   "metadata": {},
   "outputs": [
    {
     "name": "stdout",
     "output_type": "stream",
     "text": [
      "./data/XRD\n"
     ]
    },
    {
     "name": "stderr",
     "output_type": "stream",
     "text": [
      "100%|██████████| 50080/50080 [11:27<00:00, 72.85it/s, epoch=159, train_loss=0.0145, val_loss=0.0147] \n"
     ]
    },
    {
     "name": "stdout",
     "output_type": "stream",
     "text": [
      "Saving artifacts to ./tmp/siamese-constrastive_1d-XRD-CoNi_scale-*\n"
     ]
    },
    {
     "data": {
      "text/plain": [
       "<Figure size 432x288 with 0 Axes>"
      ]
     },
     "metadata": {},
     "output_type": "display_data"
    }
   ],
   "source": [
    "%run siamese-net-and-friends/train.py siamese-constrastive_1d XRD --train_path xrdsim/data/CoNi_3/train/ --test_path xrdsim/data/CoNi_3/test/ --name CoNi_scale \\\n",
    "    --n_classes 20 --epochs 160"
   ]
  },
  {
   "cell_type": "markdown",
   "metadata": {},
   "source": [
    "### Co-CoNi-Ni dataset:\n",
    "\n",
    "With scale mutation in the data augmentation as well as the basis pattern progression. Note that the same-composition basis patterns (stoichiometric NiCo) cluster better here but that the progression through the latent space of the two-phase patterns is more erratic (suggesting that the model maybe doesn't handle scale invariance as nicely).\n",
    "\n",
    "<img src=\"../outputs/siamese-constrastive_1d-XRD-CoNi_scale-training-set-embedding.png\" width=\"400\">"
   ]
  },
  {
   "cell_type": "code",
   "execution_count": 36,
   "metadata": {},
   "outputs": [
    {
     "name": "stdout",
     "output_type": "stream",
     "text": [
      "./data/XRD\n"
     ]
    },
    {
     "name": "stderr",
     "output_type": "stream",
     "text": [
      "100%|██████████| 25040/25040 [05:07<00:00, 81.55it/s, epoch=79, train_loss=0.024, val_loss=0.0214]  \n"
     ]
    },
    {
     "name": "stdout",
     "output_type": "stream",
     "text": [
      "Saving artifacts to ./tmp/siamese-constrastive_1d-XRD-CoNi-*\n"
     ]
    },
    {
     "data": {
      "text/plain": [
       "<Figure size 432x288 with 0 Axes>"
      ]
     },
     "metadata": {},
     "output_type": "display_data"
    }
   ],
   "source": [
    "%run siamese-net-and-friends/train.py siamese-constrastive_1d XRD --train_path xrdsim/data/CoNi_2/train/ --test_path xrdsim/data/CoNi_2/test/ --name CoNi \\\n",
    "    --n_classes 20 --epochs 80"
   ]
  },
  {
   "cell_type": "code",
   "execution_count": 50,
   "metadata": {},
   "outputs": [
    {
     "name": "stdout",
     "output_type": "stream",
     "text": [
      "./data/XRD\n"
     ]
    },
    {
     "name": "stderr",
     "output_type": "stream",
     "text": [
      "100%|██████████| 31300/31300 [06:58<00:00, 74.83it/s, epoch=99, train_loss=0.0295, val_loss=0.0284] \n"
     ]
    },
    {
     "name": "stdout",
     "output_type": "stream",
     "text": [
      "Saving artifacts to ./tmp/siamese-constrastive_1d-XRD-CoNi_shift-*\n"
     ]
    },
    {
     "data": {
      "text/plain": [
       "<Figure size 432x288 with 0 Axes>"
      ]
     },
     "metadata": {},
     "output_type": "display_data"
    }
   ],
   "source": [
    "%run siamese-net-and-friends/train.py siamese-constrastive_1d XRD --train_path xrdsim/data/CoNi_shift/train/ --test_path xrdsim/data/CoNi_shift/test/\\\n",
    "    --name CoNi_shift \\\n",
    "    --n_classes 20 --epochs 100"
   ]
  },
  {
   "cell_type": "markdown",
   "metadata": {},
   "source": [
    "### Co-CoNi-Ni dataset:\n",
    "\n",
    "Clusters 0 to 5: Co + CoNi\n",
    "Clusters 6 to 13: CoNi\n",
    "Clusters 14 to 19: CoNi + Ni\n",
    "\n",
    "Note that the classes corresponding CoNi XRD patterns (for which peak positions vary but composition does not) are piled on top of one another, while the varying-composition mixed phases are well separated.\n",
    "\n",
    "![title](../outputs/siamese-constrastive_1d-XRD-CoNi_shift-training-set-embedding.png)"
   ]
  },
  {
   "cell_type": "code",
   "execution_count": null,
   "metadata": {},
   "outputs": [],
   "source": []
  }
 ],
 "metadata": {
  "kernelspec": {
   "display_name": "Python 3",
   "language": "python",
   "name": "python3"
  },
  "language_info": {
   "codemirror_mode": {
    "name": "ipython",
    "version": 3
   },
   "file_extension": ".py",
   "mimetype": "text/x-python",
   "name": "python",
   "nbconvert_exporter": "python",
   "pygments_lexer": "ipython3",
   "version": "3.7.9"
  }
 },
 "nbformat": 4,
 "nbformat_minor": 4
}
